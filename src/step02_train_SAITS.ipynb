{
 "cells": [
  {
   "cell_type": "code",
   "execution_count": 1,
   "metadata": {},
   "outputs": [
    {
     "name": "stderr",
     "output_type": "stream",
     "text": [
      "/DeepenData/.miniconda/envs/torch_aa/lib/python3.10/site-packages/tqdm/auto.py:22: TqdmWarning: IProgress not found. Please update jupyter and ipywidgets. See https://ipywidgets.readthedocs.io/en/stable/user_install.html\n",
      "  from .autonotebook import tqdm as notebook_tqdm\n"
     ]
    },
    {
     "name": "stdout",
     "output_type": "stream",
     "text": [
      "Cuda is ready\n"
     ]
    }
   ],
   "source": [
    "from functions_aa import *\n",
    "import os\n",
    "\n",
    "def get_dataloader_and_params(artificial_missing_rate=0.1, batch_size = 3):\n",
    "    raw_df                                   = read_data()\n",
    "    train_set_ids, val_set_ids, test_set_ids = generate_train_val_test(raw_df, train_size=.8)\n",
    "    data_dict                                = make_datasets_dict(raw_df,train_set_ids,val_set_ids,test_set_ids, artificial_missing_rate = artificial_missing_rate)\n",
    "\n",
    "    dataset_saving_dir = f\"{os.getcwd()}/data\"\n",
    "\n",
    "    saving_into_h5(dataset_saving_dir, data_dict, classification_dataset=False)\n",
    "\n",
    "    args, model_args       = get_args(seq_len = 9, feature_num  = 51, batch_size   = batch_size)\n",
    "\n",
    "    masked_imputation_task = True\n",
    "    model_type             = 'SAITS'\n",
    "    args.batch_size        = batch_size\n",
    "    args.device            = 'cuda'\n",
    "    unified_dataloader     = UnifiedDataLoader(args.dataset_path, args.seq_len, args.feature_num, model_type, args.batch_size, args.num_workers, masked_imputation_task)\n",
    "    return unified_dataloader, args, model_args\n",
    "\n",
    "#print(f'All done. Saved to {dataset_saving_dir}.')\n",
    "\n",
    "import torch.optim as optim\n",
    "import copy\n",
    "_, args, model_args               =  get_dataloader_and_params()\n",
    "args.optimizer_type     = 'Adam'\n",
    "args.epochs             = 10\n",
    "args.eval_every_n_steps = 25\n",
    "\n",
    "model = SAITS(**model_args)\n",
    "\n",
    "\n",
    "min_total_loss_val = 100000\n",
    "\n",
    "if 'cuda' in args.device and torch.cuda.is_available() and torch.cuda.is_initialized():\n",
    "    model = model.to(args.device)\n",
    "\n",
    "optimizer               = getattr(optim, args.optimizer_type)(model.parameters(), lr= args.lr)\n"
   ]
  },
  {
   "cell_type": "code",
   "execution_count": 2,
   "metadata": {},
   "outputs": [
    {
     "ename": "TypeError",
     "evalue": "super(type, obj): obj must be an instance or subtype of type",
     "output_type": "error",
     "traceback": [
      "\u001b[0;31m---------------------------------------------------------------------------\u001b[0m",
      "\u001b[0;31mTypeError\u001b[0m                                 Traceback (most recent call last)",
      "Cell \u001b[0;32mIn[2], line 4\u001b[0m\n\u001b[1;32m      1\u001b[0m unified_dataloader, _, _               \u001b[39m=\u001b[39m  get_dataloader_and_params()\n\u001b[0;32m----> 4\u001b[0m unified_dataloader\u001b[39m.\u001b[39;49mget_train_val_dataloader()\n",
      "File \u001b[0;32m/DeepenData/Repos/Tyrosinemia/deprecated/src/functions_aa.py:314\u001b[0m, in \u001b[0;36mUnifiedDataLoader.get_train_val_dataloader\u001b[0;34m(self)\u001b[0m\n\u001b[1;32m    313\u001b[0m \u001b[39mdef\u001b[39;00m \u001b[39mget_train_val_dataloader\u001b[39m(\u001b[39mself\u001b[39m):\n\u001b[0;32m--> 314\u001b[0m     \u001b[39mself\u001b[39m\u001b[39m.\u001b[39mtrain_dataset \u001b[39m=\u001b[39m LoadTrainDataset(\u001b[39mself\u001b[39;49m\u001b[39m.\u001b[39;49mdataset_path, \u001b[39mself\u001b[39;49m\u001b[39m.\u001b[39;49mseq_len, \u001b[39mself\u001b[39;49m\u001b[39m.\u001b[39;49mfeature_num, \u001b[39mself\u001b[39;49m\u001b[39m.\u001b[39;49mmodel_type,\n\u001b[1;32m    315\u001b[0m                                           \u001b[39mself\u001b[39;49m\u001b[39m.\u001b[39;49mmasked_imputation_task)\n\u001b[1;32m    316\u001b[0m     \u001b[39mself\u001b[39m\u001b[39m.\u001b[39mval_dataset \u001b[39m=\u001b[39m LoadValTestDataset(\u001b[39mself\u001b[39m\u001b[39m.\u001b[39mdataset_path, \u001b[39m'\u001b[39m\u001b[39mval\u001b[39m\u001b[39m'\u001b[39m, \u001b[39mself\u001b[39m\u001b[39m.\u001b[39mseq_len, \u001b[39mself\u001b[39m\u001b[39m.\u001b[39mfeature_num, \u001b[39mself\u001b[39m\u001b[39m.\u001b[39mmodel_type)\n\u001b[1;32m    317\u001b[0m     \u001b[39mself\u001b[39m\u001b[39m.\u001b[39mtrain_set_size \u001b[39m=\u001b[39m \u001b[39mself\u001b[39m\u001b[39m.\u001b[39mtrain_dataset\u001b[39m.\u001b[39m\u001b[39m__len__\u001b[39m()\n",
      "File \u001b[0;32m/DeepenData/Repos/Tyrosinemia/deprecated/src/functions_aa.py:196\u001b[0m, in \u001b[0;36mLoadTrainDataset.__init__\u001b[0;34m(self, file_path, seq_len, feature_num, model_type, masked_imputation_task)\u001b[0m\n\u001b[1;32m    195\u001b[0m \u001b[39mdef\u001b[39;00m \u001b[39m__init__\u001b[39m(\u001b[39mself\u001b[39m, file_path, seq_len, feature_num, model_type, masked_imputation_task):\n\u001b[0;32m--> 196\u001b[0m     \u001b[39msuper\u001b[39;49m(LoadTrainDataset, \u001b[39mself\u001b[39;49m)\u001b[39m.\u001b[39;49m\u001b[39m__init__\u001b[39;49m(file_path, seq_len, feature_num, model_type)\n\u001b[1;32m    197\u001b[0m     \u001b[39mself\u001b[39m\u001b[39m.\u001b[39mmasked_imputation_task \u001b[39m=\u001b[39m masked_imputation_task\n\u001b[1;32m    198\u001b[0m     \u001b[39mif\u001b[39;00m masked_imputation_task:\n",
      "File \u001b[0;32m/DeepenData/Repos/Tyrosinemia/deprecated/src/functions_aa.py:154\u001b[0m, in \u001b[0;36mLoadDataset.__init__\u001b[0;34m(self, file_path, seq_len, feature_num, model_type)\u001b[0m\n\u001b[1;32m    153\u001b[0m \u001b[39mdef\u001b[39;00m \u001b[39m__init__\u001b[39m(\u001b[39mself\u001b[39m, file_path, seq_len, feature_num, model_type):\n\u001b[0;32m--> 154\u001b[0m     \u001b[39msuper\u001b[39;49m(LoadDataset, \u001b[39mself\u001b[39;49m)\u001b[39m.\u001b[39m\u001b[39m__init__\u001b[39m()\n\u001b[1;32m    155\u001b[0m     \u001b[39mself\u001b[39m\u001b[39m.\u001b[39mfile_path \u001b[39m=\u001b[39m file_path\n\u001b[1;32m    156\u001b[0m     \u001b[39mself\u001b[39m\u001b[39m.\u001b[39mseq_len \u001b[39m=\u001b[39m seq_len\n",
      "\u001b[0;31mTypeError\u001b[0m: super(type, obj): obj must be an instance or subtype of type"
     ]
    }
   ],
   "source": [
    "unified_dataloader, _, _               =  get_dataloader_and_params()\n",
    "\n",
    "\n",
    "unified_dataloader.get_train_val_dataloader()\n",
    "\n",
    "#train_dataloader, val_dataloader       = unified_dataloader.get_train_val_dataloader()"
   ]
  },
  {
   "cell_type": "code",
   "execution_count": 2,
   "metadata": {},
   "outputs": [
    {
     "ename": "TypeError",
     "evalue": "super(type, obj): obj must be an instance or subtype of type",
     "output_type": "error",
     "traceback": [
      "\u001b[0;31m---------------------------------------------------------------------------\u001b[0m",
      "\u001b[0;31mTypeError\u001b[0m                                 Traceback (most recent call last)",
      "Cell \u001b[0;32mIn[2], line 4\u001b[0m\n\u001b[1;32m      1\u001b[0m \u001b[39mfor\u001b[39;00m epoch \u001b[39min\u001b[39;00m \u001b[39mrange\u001b[39m(args\u001b[39m.\u001b[39mepochs):\n\u001b[1;32m      3\u001b[0m     unified_dataloader, _, _               \u001b[39m=\u001b[39m  get_dataloader_and_params()\n\u001b[0;32m----> 4\u001b[0m     train_dataloader, val_dataloader       \u001b[39m=\u001b[39m unified_dataloader\u001b[39m.\u001b[39;49mget_train_val_dataloader()\n\u001b[1;32m      7\u001b[0m     total_loss_val \u001b[39m=\u001b[39m \u001b[39m0\u001b[39m\n\u001b[1;32m      8\u001b[0m     \u001b[39mfor\u001b[39;00m data \u001b[39min\u001b[39;00m train_dataloader:\n",
      "File \u001b[0;32m/DeepenData/Repos/Tyrosinemia/deprecated/src/functions_aa.py:314\u001b[0m, in \u001b[0;36mUnifiedDataLoader.get_train_val_dataloader\u001b[0;34m(self)\u001b[0m\n\u001b[1;32m    313\u001b[0m \u001b[39mdef\u001b[39;00m \u001b[39mget_train_val_dataloader\u001b[39m(\u001b[39mself\u001b[39m):\n\u001b[0;32m--> 314\u001b[0m     \u001b[39mself\u001b[39m\u001b[39m.\u001b[39mtrain_dataset \u001b[39m=\u001b[39m LoadTrainDataset(\u001b[39mself\u001b[39;49m\u001b[39m.\u001b[39;49mdataset_path, \u001b[39mself\u001b[39;49m\u001b[39m.\u001b[39;49mseq_len, \u001b[39mself\u001b[39;49m\u001b[39m.\u001b[39;49mfeature_num, \u001b[39mself\u001b[39;49m\u001b[39m.\u001b[39;49mmodel_type,\n\u001b[1;32m    315\u001b[0m                                           \u001b[39mself\u001b[39;49m\u001b[39m.\u001b[39;49mmasked_imputation_task)\n\u001b[1;32m    316\u001b[0m     \u001b[39mself\u001b[39m\u001b[39m.\u001b[39mval_dataset \u001b[39m=\u001b[39m LoadValTestDataset(\u001b[39mself\u001b[39m\u001b[39m.\u001b[39mdataset_path, \u001b[39m'\u001b[39m\u001b[39mval\u001b[39m\u001b[39m'\u001b[39m, \u001b[39mself\u001b[39m\u001b[39m.\u001b[39mseq_len, \u001b[39mself\u001b[39m\u001b[39m.\u001b[39mfeature_num, \u001b[39mself\u001b[39m\u001b[39m.\u001b[39mmodel_type)\n\u001b[1;32m    317\u001b[0m     \u001b[39mself\u001b[39m\u001b[39m.\u001b[39mtrain_set_size \u001b[39m=\u001b[39m \u001b[39mself\u001b[39m\u001b[39m.\u001b[39mtrain_dataset\u001b[39m.\u001b[39m\u001b[39m__len__\u001b[39m()\n",
      "File \u001b[0;32m/DeepenData/Repos/Tyrosinemia/deprecated/src/functions_aa.py:196\u001b[0m, in \u001b[0;36mLoadTrainDataset.__init__\u001b[0;34m(self, file_path, seq_len, feature_num, model_type, masked_imputation_task)\u001b[0m\n\u001b[1;32m    195\u001b[0m \u001b[39mdef\u001b[39;00m \u001b[39m__init__\u001b[39m(\u001b[39mself\u001b[39m, file_path, seq_len, feature_num, model_type, masked_imputation_task):\n\u001b[0;32m--> 196\u001b[0m     \u001b[39msuper\u001b[39;49m(LoadTrainDataset, \u001b[39mself\u001b[39;49m)\u001b[39m.\u001b[39;49m\u001b[39m__init__\u001b[39;49m(file_path, seq_len, feature_num, model_type)\n\u001b[1;32m    197\u001b[0m     \u001b[39mself\u001b[39m\u001b[39m.\u001b[39mmasked_imputation_task \u001b[39m=\u001b[39m masked_imputation_task\n\u001b[1;32m    198\u001b[0m     \u001b[39mif\u001b[39;00m masked_imputation_task:\n",
      "File \u001b[0;32m/DeepenData/Repos/Tyrosinemia/deprecated/src/functions_aa.py:154\u001b[0m, in \u001b[0;36mLoadDataset.__init__\u001b[0;34m(self, file_path, seq_len, feature_num, model_type)\u001b[0m\n\u001b[1;32m    153\u001b[0m \u001b[39mdef\u001b[39;00m \u001b[39m__init__\u001b[39m(\u001b[39mself\u001b[39m, file_path, seq_len, feature_num, model_type):\n\u001b[0;32m--> 154\u001b[0m     \u001b[39msuper\u001b[39;49m(LoadDataset, \u001b[39mself\u001b[39;49m)\u001b[39m.\u001b[39m\u001b[39m__init__\u001b[39m()\n\u001b[1;32m    155\u001b[0m     \u001b[39mself\u001b[39m\u001b[39m.\u001b[39mfile_path \u001b[39m=\u001b[39m file_path\n\u001b[1;32m    156\u001b[0m     \u001b[39mself\u001b[39m\u001b[39m.\u001b[39mseq_len \u001b[39m=\u001b[39m seq_len\n",
      "\u001b[0;31mTypeError\u001b[0m: super(type, obj): obj must be an instance or subtype of type"
     ]
    }
   ],
   "source": [
    "for epoch in range(args.epochs):\n",
    "    \n",
    "    unified_dataloader, _, _               =  get_dataloader_and_params()\n",
    "    train_dataloader, val_dataloader       = unified_dataloader.get_train_val_dataloader()\n",
    "    \n",
    "    \n",
    "    total_loss_val = 0\n",
    "    for data in train_dataloader:\n",
    "        model.train()\n",
    "        \n",
    "        indices, X, missing_mask, X_holdout, indicating_mask = map(lambda x: x.to(args.device), data)\n",
    "        inputs = {'indices': indices, 'X': X, 'missing_mask': missing_mask,'X_holdout': X_holdout, 'indicating_mask': indicating_mask}\n",
    "        results = model(inputs, 'train')\n",
    "        results = result_processing(results, args)\n",
    "        optimizer.zero_grad()\n",
    "        results['total_loss'].backward()\n",
    "        optimizer.step()\n",
    "    if epoch % args.eval_every_n_steps ==0 or epoch == args.epochs-1:\n",
    "        model.eval()\n",
    "        with torch.no_grad():\n",
    "            for idx, data in enumerate(val_dataloader):\n",
    "                    #inputs, results = model_processing(data, model, 'val', args = args)\n",
    "                indices, X, missing_mask, X_holdout, indicating_mask = map(lambda x: x.to(args.device), data)\n",
    "                inputs = {'indices': indices, 'X': X, 'missing_mask': missing_mask,\n",
    "                    'X_holdout': X_holdout, 'indicating_mask': indicating_mask}\n",
    "                results = model(inputs, 'validation')\n",
    "                results = result_processing(results, args)\n",
    "                L = results['total_loss']\n",
    "                \n",
    "        total_loss_val += L\n",
    "        if total_loss_val < min_total_loss_val:\n",
    "            best_params        = copy.deepcopy(model.state_dict())\n",
    "            torch.save(best_params, 'state_dict_best_trained_model.pth')\n",
    "            min_total_loss_val = total_loss_val\n",
    "            print(f'Best total_loss: {min_total_loss_val}, best_params updated!')\n",
    "                \n",
    "        #total_loss_val += L\n",
    "        print(f'Epoch total_loss: {total_loss_val}')"
   ]
  },
  {
   "cell_type": "code",
   "execution_count": 6,
   "metadata": {},
   "outputs": [],
   "source": [
    "import torch\n",
    "#saved_parameters_path = f\"{os.getcwd()}/state_dict_best_trained_model.pth\"\n",
    "\n",
    "torch.save(best_params, 'state_dict_best_trained_model.pth')"
   ]
  }
 ],
 "metadata": {
  "kernelspec": {
   "display_name": "torch_aa",
   "language": "python",
   "name": "python3"
  },
  "language_info": {
   "codemirror_mode": {
    "name": "ipython",
    "version": 3
   },
   "file_extension": ".py",
   "mimetype": "text/x-python",
   "name": "python",
   "nbconvert_exporter": "python",
   "pygments_lexer": "ipython3",
   "version": "3.10.8"
  },
  "orig_nbformat": 4,
  "vscode": {
   "interpreter": {
    "hash": "317c545ac1557983df223dc9dc6da11914262073b7c77422002e9cb73db54a4f"
   }
  }
 },
 "nbformat": 4,
 "nbformat_minor": 2
}
