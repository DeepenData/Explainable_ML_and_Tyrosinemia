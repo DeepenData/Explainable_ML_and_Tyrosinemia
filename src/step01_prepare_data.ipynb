{
 "cells": [
  {
   "cell_type": "code",
   "execution_count": 16,
   "metadata": {},
   "outputs": [
    {
     "name": "stderr",
     "output_type": "stream",
     "text": [
      "/DeepenData/.miniconda/envs/torch_aa/lib/python3.10/site-packages/tqdm/auto.py:22: TqdmWarning: IProgress not found. Please update jupyter and ipywidgets. See https://ipywidgets.readthedocs.io/en/stable/user_install.html\n",
      "  from .autonotebook import tqdm as notebook_tqdm\n"
     ]
    },
    {
     "name": "stdout",
     "output_type": "stream",
     "text": [
      "Cuda is ready\n",
      "['T05' 'T06' 'T15' 'T16' 'T04' 'T17' 'T08' 'T12' 'T13' 'T14' 'T18' 'T19'\n",
      " 'T10' 'T09' 'T07'] ['T01' 'T11' 'T03' 'T02'] ['T03'] 15 4 1\n"
     ]
    }
   ],
   "source": [
    "import os \n",
    "import pandas as pd\n",
    "import argparse\n",
    "import sys\n",
    "import h5py\n",
    "import numpy as np\n",
    "import pandas as pd\n",
    "from sklearn.model_selection import train_test_split\n",
    "from sklearn.preprocessing import StandardScaler\n",
    "\n",
    "from functions_aa import *\n",
    "\n",
    "raw_df = pd.read_csv('https://docs.google.com/spreadsheets/d/e/2PACX-1vQwC6jRtVUk-2dkk2W3BDJZTOdsS427LN8Ixo-rQF4Afs6ice0rof7qh_EbnAy5lYEGqX-TCSvjpPyr/pub?gid=1713335339&single=true&output=csv',\n",
    "                     index_col=['codigo','Tiempo']).drop(['Fecha','Exposicion'], axis=1)\n",
    "\n",
    "raw_df.sort_index(inplace=True)\n",
    "unique_IDs = raw_df.index.get_level_values(0).unique().values\n",
    "n_IDs      = unique_IDs.__len__()\n",
    "train_size = .9\n",
    "test_size  = .1\n",
    "train_set_ids, val_set_ids = train_test_split(unique_IDs, train_size=.8)\n",
    "_,            test_set_ids = train_test_split(val_set_ids, train_size=train_size)\n",
    "\n",
    "print(train_set_ids, val_set_ids, test_set_ids, train_set_ids.__len__(), val_set_ids.__len__(), test_set_ids.__len__())\n"
   ]
  },
  {
   "cell_type": "code",
   "execution_count": 11,
   "metadata": {},
   "outputs": [],
   "source": [
    "timepoints_per_patient = pd.Series(raw_df.index.get_level_values(0).values).value_counts()\n",
    "smallest_window        = timepoints_per_patient.min()\n",
    "df                     = raw_df.loc[(slice(None), slice(1, smallest_window)), :]\n",
    "train_set = df.loc[train_set_ids]\n",
    "val_set   = df.loc[val_set_ids]\n",
    "test_set  = df.loc[test_set_ids]\n",
    "assert all(train_set.index.get_level_values(0).unique().to_list() == train_set_ids)\n",
    "assert all(val_set.index.get_level_values(0).unique().to_list() == val_set_ids)\n",
    "assert all(test_set.index.get_level_values(0).unique().to_list() == test_set_ids)"
   ]
  },
  {
   "cell_type": "code",
   "execution_count": 14,
   "metadata": {},
   "outputs": [],
   "source": [
    "def process_each_set(set_df,smallest_window):\n",
    "    sample_ids    = set_df.index.get_level_values(0).to_numpy().reshape(-1, smallest_window)[:, 0]\n",
    "    feature_names = set_df.columns.tolist()\n",
    "    X             = set_df.to_numpy()\n",
    "    X             = X.reshape(len(sample_ids), smallest_window, len(feature_names))\n",
    "    return X, feature_names\n",
    "\n",
    "train_set_X, _ = process_each_set(train_set, smallest_window)\n",
    "val_set_X,  _              = process_each_set(val_set, smallest_window)\n",
    "test_set_X,  _             = process_each_set(test_set, smallest_window)\n"
   ]
  },
  {
   "cell_type": "code",
   "execution_count": 18,
   "metadata": {},
   "outputs": [],
   "source": [
    "artificial_missing_rate = .1\n",
    "train_set_dict = add_artificial_mask(train_set_X, artificial_missing_rate, 'train')\n",
    "val_set_dict   = add_artificial_mask(val_set_X, artificial_missing_rate, 'val')\n",
    "test_set_dict  = add_artificial_mask(test_set_X, artificial_missing_rate, 'test')\n",
    "processed_data = {\n",
    "\n",
    "    'train': train_set_dict,\n",
    "    'val': val_set_dict,\n",
    "    'test': test_set_dict\n",
    "}"
   ]
  },
  {
   "cell_type": "code",
   "execution_count": 19,
   "metadata": {},
   "outputs": [
    {
     "name": "stdout",
     "output_type": "stream",
     "text": [
      "All done. Saved to /DeepenData/Repos/Tyrosinemia/data.\n"
     ]
    }
   ],
   "source": [
    "dataset_saving_dir = f\"{os.getcwd()}/data\"\n",
    "\n",
    "saving_into_h5(dataset_saving_dir, processed_data, classification_dataset=False)\n",
    "print(f'All done. Saved to {dataset_saving_dir}.')"
   ]
  },
  {
   "cell_type": "code",
   "execution_count": 20,
   "metadata": {},
   "outputs": [],
   "source": [
    "original_data_dfs = {'train_set_df':train_set,\n",
    "                    'val_set_df':val_set,\n",
    "                    'test_set_df':test_set,}\n",
    "\n",
    "\n",
    "pickle_path = os.getcwd()+'/data/datasets.pickle'\n",
    "\n",
    "import pickle\n",
    "\n",
    "\n",
    "with open(pickle_path, 'wb') as handle:\n",
    "    pickle.dump(original_data_dfs, handle, protocol=pickle.HIGHEST_PROTOCOL)"
   ]
  }
 ],
 "metadata": {
  "kernelspec": {
   "display_name": "torch_aa",
   "language": "python",
   "name": "python3"
  },
  "language_info": {
   "codemirror_mode": {
    "name": "ipython",
    "version": 3
   },
   "file_extension": ".py",
   "mimetype": "text/x-python",
   "name": "python",
   "nbconvert_exporter": "python",
   "pygments_lexer": "ipython3",
   "version": "3.10.8"
  },
  "orig_nbformat": 4,
  "vscode": {
   "interpreter": {
    "hash": "317c545ac1557983df223dc9dc6da11914262073b7c77422002e9cb73db54a4f"
   }
  }
 },
 "nbformat": 4,
 "nbformat_minor": 2
}
