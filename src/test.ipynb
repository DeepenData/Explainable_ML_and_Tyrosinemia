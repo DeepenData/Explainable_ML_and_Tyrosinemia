{
 "cells": [
  {
   "cell_type": "code",
   "execution_count": 23,
   "metadata": {},
   "outputs": [],
   "source": [
    "import torch\n",
    "from datetime import datetime\n",
    "import os\n",
    "from functions_aa import *\n",
    "torch.cuda.is_available()\n",
    "\n",
    "def get_dataloader_and_params(artificial_missing_rate=0.1, batch_size = 3):\n",
    "    raw_df                                   = read_data()\n",
    "    train_set_ids, val_set_ids, test_set_ids = generate_train_val_test(raw_df, train_size=.8)\n",
    "    data_dict                                = make_datasets_dict(raw_df,train_set_ids,val_set_ids,test_set_ids, artificial_missing_rate = artificial_missing_rate)\n",
    "\n",
    "    dataset_saving_dir = f\"{os.getcwd()}/data\"\n",
    "\n",
    "    saving_into_h5(dataset_saving_dir, data_dict, classification_dataset=False)\n",
    "\n",
    "    args, model_args       = get_args(seq_len = 9, feature_num  = 51, batch_size   = batch_size)\n",
    "\n",
    "    masked_imputation_task = True\n",
    "    model_type             = 'SAITS'\n",
    "    args.batch_size        = batch_size\n",
    "    args.device            = 'cuda'\n",
    "    unified_dataloader     = UnifiedDataLoader(args.dataset_path, args.seq_len, args.feature_num, model_type, args.batch_size, args.num_workers, masked_imputation_task)\n",
    "    return unified_dataloader, args, model_args\n",
    "\n",
    "#print(f'All done. Saved to {dataset_saving_dir}.')\n",
    "\n",
    "import torch.optim as optim\n",
    "import copy\n",
    "_, args, model_args               =  get_dataloader_and_params()\n",
    "args.optimizer_type     = 'Adam'\n",
    "args.epochs             = 10\n",
    "args.eval_every_n_steps = 25\n",
    "\n",
    "model = SAITS(**model_args)\n",
    "\n",
    "\n",
    "min_total_loss_val = 100000\n",
    "\n",
    "if 'cuda' in args.device and torch.cuda.is_available() and torch.cuda.is_initialized():\n",
    "    model = model.to(args.device)\n",
    "\n",
    "optimizer               = getattr(optim, args.optimizer_type)(model.parameters(), lr= args.lr)"
   ]
  },
  {
   "cell_type": "code",
   "execution_count": 24,
   "metadata": {},
   "outputs": [
    {
     "name": "stdout",
     "output_type": "stream",
     "text": [
      "Best total_loss: 36.54790496826172, best_params updated!\n",
      "Epoch total_loss: 36.54790496826172\n",
      "Best total_loss: 33.01604080200195, best_params updated!\n",
      "Epoch total_loss: 33.01604080200195\n"
     ]
    }
   ],
   "source": [
    "for epoch in range(args.epochs):\n",
    "    \n",
    "    unified_dataloader, _, _               =  get_dataloader_and_params()\n",
    "    train_dataloader, val_dataloader       = unified_dataloader.get_train_val_dataloader()\n",
    "    \n",
    "    \n",
    "    total_loss_val = 0\n",
    "    for data in train_dataloader:\n",
    "        model.train()\n",
    "        \n",
    "        indices, X, missing_mask, X_holdout, indicating_mask = map(lambda x: x.to(args.device), data)\n",
    "        inputs = {'indices': indices, 'X': X, 'missing_mask': missing_mask,'X_holdout': X_holdout, 'indicating_mask': indicating_mask}\n",
    "        results = model(inputs, 'train')\n",
    "        results = result_processing(results, args)\n",
    "        optimizer.zero_grad()\n",
    "        results['total_loss'].backward()\n",
    "        optimizer.step()\n",
    "    if epoch % args.eval_every_n_steps ==0 or epoch == args.epochs-1:\n",
    "        model.eval()\n",
    "        with torch.no_grad():\n",
    "            for idx, data in enumerate(val_dataloader):\n",
    "                    #inputs, results = model_processing(data, model, 'val', args = args)\n",
    "                indices, X, missing_mask, X_holdout, indicating_mask = map(lambda x: x.to(args.device), data)\n",
    "                inputs = {'indices': indices, 'X': X, 'missing_mask': missing_mask,\n",
    "                    'X_holdout': X_holdout, 'indicating_mask': indicating_mask}\n",
    "                results = model(inputs, 'validation')\n",
    "                results = result_processing(results, args)\n",
    "                L = results['total_loss']\n",
    "                \n",
    "        total_loss_val += L\n",
    "        if total_loss_val < min_total_loss_val:\n",
    "            best_params        = copy.deepcopy(model.state_dict())\n",
    "            torch.save(best_params, 'state_dict_best_trained_model.pth')\n",
    "            min_total_loss_val = total_loss_val\n",
    "            print(f'Best total_loss: {min_total_loss_val}, best_params updated!')\n",
    "                \n",
    "        #total_loss_val += L\n",
    "        print(f'Epoch total_loss: {total_loss_val}')"
   ]
  },
  {
   "cell_type": "code",
   "execution_count": 25,
   "metadata": {},
   "outputs": [],
   "source": [
    "import torch\n",
    "#saved_parameters_path = f\"{os.getcwd()}/state_dict_best_trained_model.pth\"\n",
    "\n",
    "torch.save(best_params, 'state_dict_best_trained_model.pth')"
   ]
  }
 ],
 "metadata": {
  "kernelspec": {
   "display_name": "torch_aa",
   "language": "python",
   "name": "python3"
  },
  "language_info": {
   "codemirror_mode": {
    "name": "ipython",
    "version": 3
   },
   "file_extension": ".py",
   "mimetype": "text/x-python",
   "name": "python",
   "nbconvert_exporter": "python",
   "pygments_lexer": "ipython3",
   "version": "3.10.5"
  },
  "orig_nbformat": 4,
  "vscode": {
   "interpreter": {
    "hash": "317c545ac1557983df223dc9dc6da11914262073b7c77422002e9cb73db54a4f"
   }
  }
 },
 "nbformat": 4,
 "nbformat_minor": 2
}
