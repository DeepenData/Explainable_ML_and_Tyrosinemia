{
 "cells": [
  {
   "cell_type": "code",
   "execution_count": 7,
   "metadata": {},
   "outputs": [
    {
     "ename": "NameError",
     "evalue": "name 'default' is not defined",
     "output_type": "error",
     "traceback": [
      "\u001b[0;31m---------------------------------------------------------------------------\u001b[0m",
      "\u001b[0;31mNameError\u001b[0m                                 Traceback (most recent call last)",
      "Cell \u001b[0;32mIn[7], line 10\u001b[0m\n\u001b[1;32m      4\u001b[0m \u001b[39mimport\u001b[39;00m \u001b[39mpandas\u001b[39;00m \u001b[39mas\u001b[39;00m \u001b[39mpd\u001b[39;00m\n\u001b[1;32m      5\u001b[0m \u001b[39m# Define the scope\u001b[39;00m\n\u001b[1;32m      6\u001b[0m \u001b[39m# scope = ['https://spreadsheets.google.com/feeds',\u001b[39;00m\n\u001b[1;32m      7\u001b[0m \u001b[39m#          'https://www.googleapis.com/auth/drive']\u001b[39;00m\n\u001b[0;32m---> 10\u001b[0m creds, project \u001b[39m=\u001b[39m default()\n\u001b[1;32m     11\u001b[0m creds\u001b[39m.\u001b[39mrefresh(Request())\n",
      "\u001b[0;31mNameError\u001b[0m: name 'default' is not defined"
     ]
    }
   ],
   "source": [
    "import gspread\n",
    "from google.auth.transport.requests import Request\n",
    "from google.oauth2.service_account import Credentials\n",
    "import pandas as pd\n",
    "# Define the scope\n",
    "# scope = ['https://spreadsheets.google.com/feeds',\n",
    "#          'https://www.googleapis.com/auth/drive']\n",
    "\n",
    "\n",
    "creds, project = default()\n",
    "creds.refresh(Request())"
   ]
  }
 ],
 "metadata": {
  "kernelspec": {
   "display_name": "spark",
   "language": "python",
   "name": "python3"
  },
  "language_info": {
   "codemirror_mode": {
    "name": "ipython",
    "version": 3
   },
   "file_extension": ".py",
   "mimetype": "text/x-python",
   "name": "python",
   "nbconvert_exporter": "python",
   "pygments_lexer": "ipython3",
   "version": "3.10.11"
  },
  "orig_nbformat": 4
 },
 "nbformat": 4,
 "nbformat_minor": 2
}
