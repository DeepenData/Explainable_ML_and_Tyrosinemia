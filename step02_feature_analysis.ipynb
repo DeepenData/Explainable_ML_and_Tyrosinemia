{
 "cells": [
  {
   "cell_type": "code",
   "execution_count": 1,
   "metadata": {},
   "outputs": [
    {
     "data": {
      "application/vnd.plotly.v1+json": {
       "config": {
        "plotlyServerURL": "https://plot.ly"
       },
       "data": [
        {
         "legendgroup": "group1",
         "marker": {
          "color": "blue",
          "opacity": 0.5,
          "symbol": "square"
         },
         "mode": "markers",
         "name": "Pareto Optimal Trials",
         "showlegend": true,
         "type": "scatter",
         "x": [
          0.8625
         ],
         "xaxis": "x",
         "y": [
          0.2293233871459961
         ],
         "yaxis": "y"
        },
        {
         "legendgroup": "group2",
         "marker": {
          "color": "red",
          "opacity": 0.5
         },
         "mode": "markers",
         "name": "Other Trials",
         "showlegend": true,
         "type": "scatter",
         "x": [
          0.6875,
          0.22500000000000003,
          0.68125,
          0.625
         ],
         "xaxis": "x",
         "y": [
          0.16797181963920593,
          0,
          0,
          0.2068154364824295
         ],
         "yaxis": "y"
        },
        {
         "legendgroup": "group1",
         "marker": {
          "color": "blue",
          "opacity": 0.5,
          "symbol": "square"
         },
         "mode": "markers",
         "name": "Pareto Optimal Trials",
         "showlegend": false,
         "type": "scatter",
         "x": [
          0.74375,
          0.4,
          0.85
         ],
         "xaxis": "x7",
         "y": [
          0.4708406329154968,
          0.479785293340683,
          0.0772486999630928
         ],
         "yaxis": "y7"
        },
        {
         "legendgroup": "group2",
         "marker": {
          "color": "red",
          "opacity": 0.5
         },
         "mode": "markers",
         "name": "Other Trials",
         "showlegend": false,
         "type": "scatter",
         "x": [
          0.5,
          0.6875000000000001
         ],
         "xaxis": "x7",
         "y": [
          0,
          0.08147472143173218
         ],
         "yaxis": "y7"
        },
        {
         "legendgroup": "group1",
         "marker": {
          "color": "blue",
          "opacity": 0.5,
          "symbol": "square"
         },
         "mode": "markers",
         "name": "Pareto Optimal Trials",
         "showlegend": false,
         "type": "scatter",
         "x": [
          0.7125,
          0.575,
          0.5375000000000001,
          0.81875
         ],
         "xaxis": "x13",
         "y": [
          0.0011271783150732517,
          0.9047762155532837,
          1.201171636581421,
          0
         ],
         "yaxis": "y13"
        },
        {
         "legendgroup": "group2",
         "marker": {
          "color": "red",
          "opacity": 0.5
         },
         "mode": "markers",
         "name": "Other Trials",
         "showlegend": false,
         "type": "scatter",
         "x": [
          0.1875
         ],
         "xaxis": "x13",
         "y": [
          0.35088539123535156
         ],
         "yaxis": "y13"
        },
        {
         "legendgroup": "group1",
         "marker": {
          "color": "blue",
          "opacity": 0.5,
          "symbol": "square"
         },
         "mode": "markers",
         "name": "Pareto Optimal Trials",
         "showlegend": false,
         "type": "scatter",
         "x": [
          0.775
         ],
         "xaxis": "x2",
         "y": [
          0.17698366940021515
         ],
         "yaxis": "y2"
        },
        {
         "legendgroup": "group2",
         "marker": {
          "color": "red",
          "opacity": 0.5
         },
         "mode": "markers",
         "name": "Other Trials",
         "showlegend": false,
         "type": "scatter",
         "x": [
          0.6125,
          0.46249999999999997,
          0.5625,
          0.5375000000000001
         ],
         "xaxis": "x2",
         "y": [
          0.04656529426574707,
          0.09051797538995743,
          0.08834096044301987,
          0.06964053213596344
         ],
         "yaxis": "y2"
        },
        {
         "legendgroup": "group1",
         "marker": {
          "color": "blue",
          "opacity": 0.5,
          "symbol": "square"
         },
         "mode": "markers",
         "name": "Pareto Optimal Trials",
         "showlegend": false,
         "type": "scatter",
         "x": [
          0.79375,
          0.6125
         ],
         "xaxis": "x8",
         "y": [
          0.12852682173252106,
          0.47811293601989746
         ],
         "yaxis": "y8"
        },
        {
         "legendgroup": "group2",
         "marker": {
          "color": "red",
          "opacity": 0.5
         },
         "mode": "markers",
         "name": "Other Trials",
         "showlegend": false,
         "type": "scatter",
         "x": [
          0.5625,
          0.4875,
          0.7312500000000001
         ],
         "xaxis": "x8",
         "y": [
          0.04202885180711746,
          0.06120239570736885,
          0
         ],
         "yaxis": "y8"
        },
        {
         "legendgroup": "group1",
         "marker": {
          "color": "blue",
          "opacity": 0.5,
          "symbol": "square"
         },
         "mode": "markers",
         "name": "Pareto Optimal Trials",
         "showlegend": false,
         "type": "scatter",
         "x": [
          0.6687500000000001,
          0.7374999999999999
         ],
         "xaxis": "x14",
         "y": [
          0.09758838266134262,
          0.019831320270895958
         ],
         "yaxis": "y14"
        },
        {
         "legendgroup": "group2",
         "marker": {
          "color": "red",
          "opacity": 0.5
         },
         "mode": "markers",
         "name": "Other Trials",
         "showlegend": false,
         "type": "scatter",
         "x": [
          0.375,
          0.4625,
          0.0625
         ],
         "xaxis": "x14",
         "y": [
          0.023737527430057526,
          0,
          0
         ],
         "yaxis": "y14"
        },
        {
         "legendgroup": "group1",
         "marker": {
          "color": "blue",
          "opacity": 0.5,
          "symbol": "square"
         },
         "mode": "markers",
         "name": "Pareto Optimal Trials",
         "showlegend": false,
         "type": "scatter",
         "x": [
          0.7000000000000001
         ],
         "xaxis": "x3",
         "y": [
          0.46730461716651917
         ],
         "yaxis": "y3"
        },
        {
         "legendgroup": "group2",
         "marker": {
          "color": "red",
          "opacity": 0.5
         },
         "mode": "markers",
         "name": "Other Trials",
         "showlegend": false,
         "type": "scatter",
         "x": [
          0.5625,
          0.4,
          0.5125,
          0.625
         ],
         "xaxis": "x3",
         "y": [
          0.21418023109436035,
          0,
          0.07002642750740051,
          0.12887033820152283
         ],
         "yaxis": "y3"
        },
        {
         "legendgroup": "group1",
         "marker": {
          "color": "blue",
          "opacity": 0.5,
          "symbol": "square"
         },
         "mode": "markers",
         "name": "Pareto Optimal Trials",
         "showlegend": false,
         "type": "scatter",
         "x": [
          0.30000000000000004,
          0.73125,
          0.6125
         ],
         "xaxis": "x9",
         "y": [
          0.3219251036643982,
          0,
          0.04548941180109978
         ],
         "yaxis": "y9"
        },
        {
         "legendgroup": "group2",
         "marker": {
          "color": "red",
          "opacity": 0.5
         },
         "mode": "markers",
         "name": "Other Trials",
         "showlegend": false,
         "type": "scatter",
         "x": [
          0.66875,
          0.71875
         ],
         "xaxis": "x9",
         "y": [
          0,
          0
         ],
         "yaxis": "y9"
        },
        {
         "legendgroup": "group1",
         "marker": {
          "color": "blue",
          "opacity": 0.5,
          "symbol": "square"
         },
         "mode": "markers",
         "name": "Pareto Optimal Trials",
         "showlegend": false,
         "type": "scatter",
         "x": [
          0.53125,
          0.6125,
          0.7125
         ],
         "xaxis": "x15",
         "y": [
          0.6935657858848572,
          0.5322663187980652,
          0.08431103825569153
         ],
         "yaxis": "y15"
        },
        {
         "legendgroup": "group2",
         "marker": {
          "color": "red",
          "opacity": 0.5
         },
         "mode": "markers",
         "name": "Other Trials",
         "showlegend": false,
         "type": "scatter",
         "x": [
          0.4875,
          0.45
         ],
         "xaxis": "x15",
         "y": [
          0,
          0.026009012013673782
         ],
         "yaxis": "y15"
        },
        {
         "legendgroup": "group1",
         "marker": {
          "color": "blue",
          "opacity": 0.5,
          "symbol": "square"
         },
         "mode": "markers",
         "name": "Pareto Optimal Trials",
         "showlegend": false,
         "type": "scatter",
         "x": [
          0.6687500000000001
         ],
         "xaxis": "x4",
         "y": [
          0.2773096561431885
         ],
         "yaxis": "y4"
        },
        {
         "legendgroup": "group2",
         "marker": {
          "color": "red",
          "opacity": 0.5
         },
         "mode": "markers",
         "name": "Other Trials",
         "showlegend": false,
         "type": "scatter",
         "x": [
          0.3375,
          0.525,
          0.5,
          0.575
         ],
         "xaxis": "x4",
         "y": [
          0.018663763999938965,
          0.05324108526110649,
          0,
          0
         ],
         "yaxis": "y4"
        },
        {
         "legendgroup": "group1",
         "marker": {
          "color": "blue",
          "opacity": 0.5,
          "symbol": "square"
         },
         "mode": "markers",
         "name": "Pareto Optimal Trials",
         "showlegend": false,
         "type": "scatter",
         "x": [
          0.7625,
          0.6625,
          0.525,
          0.7375
         ],
         "xaxis": "x10",
         "y": [
          0.04813959449529648,
          0.13166524469852448,
          0.335868239402771,
          0.08026610314846039
         ],
         "yaxis": "y10"
        },
        {
         "legendgroup": "group2",
         "marker": {
          "color": "red",
          "opacity": 0.5
         },
         "mode": "markers",
         "name": "Other Trials",
         "showlegend": false,
         "type": "scatter",
         "x": [
          0.7125
         ],
         "xaxis": "x10",
         "y": [
          0.06978427618741989
         ],
         "yaxis": "y10"
        },
        {
         "legendgroup": "group1",
         "marker": {
          "color": "blue",
          "opacity": 0.5,
          "symbol": "square"
         },
         "mode": "markers",
         "name": "Pareto Optimal Trials",
         "showlegend": false,
         "type": "scatter",
         "x": [
          0.7250000000000001,
          0.6,
          0.525,
          0.55
         ],
         "xaxis": "x16",
         "y": [
          0,
          0.14198751747608185,
          0.3275684714317322,
          0.22837552428245544
         ],
         "yaxis": "y16"
        },
        {
         "legendgroup": "group2",
         "marker": {
          "color": "red",
          "opacity": 0.5
         },
         "mode": "markers",
         "name": "Other Trials",
         "showlegend": false,
         "type": "scatter",
         "x": [
          0.70625
         ],
         "xaxis": "x16",
         "y": [
          0
         ],
         "yaxis": "y16"
        },
        {
         "legendgroup": "group1",
         "marker": {
          "color": "blue",
          "opacity": 0.5,
          "symbol": "square"
         },
         "mode": "markers",
         "name": "Pareto Optimal Trials",
         "showlegend": false,
         "type": "scatter",
         "x": [
          0.8,
          0.2875
         ],
         "xaxis": "x5",
         "y": [
          0.20701944828033447,
          0.34624800086021423
         ],
         "yaxis": "y5"
        },
        {
         "legendgroup": "group2",
         "marker": {
          "color": "red",
          "opacity": 0.5
         },
         "mode": "markers",
         "name": "Other Trials",
         "showlegend": false,
         "type": "scatter",
         "x": [
          0.75,
          0.6499999999999999,
          0.5125
         ],
         "xaxis": "x5",
         "y": [
          0.01020432822406292,
          0,
          0.10120632499456406
         ],
         "yaxis": "y5"
        },
        {
         "legendgroup": "group1",
         "marker": {
          "color": "blue",
          "opacity": 0.5,
          "symbol": "square"
         },
         "mode": "markers",
         "name": "Pareto Optimal Trials",
         "showlegend": false,
         "type": "scatter",
         "x": [
          0.3875,
          0.7625
         ],
         "xaxis": "x11",
         "y": [
          0.2844699025154114,
          0.023184750229120255
         ],
         "yaxis": "y11"
        },
        {
         "legendgroup": "group2",
         "marker": {
          "color": "red",
          "opacity": 0.5
         },
         "mode": "markers",
         "name": "Other Trials",
         "showlegend": false,
         "type": "scatter",
         "x": [
          0.5375,
          0.33125000000000004,
          0.5
         ],
         "xaxis": "x11",
         "y": [
          0,
          0,
          0
         ],
         "yaxis": "y11"
        },
        {
         "legendgroup": "group1",
         "marker": {
          "color": "blue",
          "opacity": 0.5,
          "symbol": "square"
         },
         "mode": "markers",
         "name": "Pareto Optimal Trials",
         "showlegend": false,
         "type": "scatter",
         "x": [
          0.7,
          0.4375
         ],
         "xaxis": "x17",
         "y": [
          0.6045217514038086,
          1.2359485626220703
         ],
         "yaxis": "y17"
        },
        {
         "legendgroup": "group2",
         "marker": {
          "color": "red",
          "opacity": 0.5
         },
         "mode": "markers",
         "name": "Other Trials",
         "showlegend": false,
         "type": "scatter",
         "x": [
          0.625,
          0.675,
          0.43750000000000006
         ],
         "xaxis": "x17",
         "y": [
          0.5652076601982117,
          0.4642530381679535,
          0.1759949028491974
         ],
         "yaxis": "y17"
        },
        {
         "legendgroup": "group1",
         "marker": {
          "color": "blue",
          "opacity": 0.5,
          "symbol": "square"
         },
         "mode": "markers",
         "name": "Pareto Optimal Trials",
         "showlegend": false,
         "type": "scatter",
         "x": [
          0.6625,
          0.7625
         ],
         "xaxis": "x6",
         "y": [
          0.5123409032821655,
          0.3511854112148285
         ],
         "yaxis": "y6"
        },
        {
         "legendgroup": "group2",
         "marker": {
          "color": "red",
          "opacity": 0.5
         },
         "mode": "markers",
         "name": "Other Trials",
         "showlegend": false,
         "type": "scatter",
         "x": [
          0.625,
          0.5874999999999999,
          0.6312499999999999
         ],
         "xaxis": "x6",
         "y": [
          0.12547585368156433,
          0.15253505110740662,
          0.13378998637199402
         ],
         "yaxis": "y6"
        },
        {
         "legendgroup": "group1",
         "marker": {
          "color": "blue",
          "opacity": 0.5,
          "symbol": "square"
         },
         "mode": "markers",
         "name": "Pareto Optimal Trials",
         "showlegend": false,
         "type": "scatter",
         "x": [
          0.725,
          0.6125,
          0.5625,
          0.71875
         ],
         "xaxis": "x12",
         "y": [
          0.10254029929637909,
          0.3293156325817108,
          0.6906930208206177,
          0.1805456578731537
         ],
         "yaxis": "y12"
        },
        {
         "legendgroup": "group2",
         "marker": {
          "color": "red",
          "opacity": 0.5
         },
         "mode": "markers",
         "name": "Other Trials",
         "showlegend": false,
         "type": "scatter",
         "x": [
          0.23750000000000002
         ],
         "xaxis": "x12",
         "y": [
          0.057853031903505325
         ],
         "yaxis": "y12"
        }
       ],
       "layout": {
        "annotations": [
         {
          "font": {
           "size": 10
          },
          "showarrow": false,
          "text": "got",
          "x": 0.06944444444444445,
          "xanchor": "center",
          "xref": "paper",
          "y": 1,
          "yanchor": "bottom",
          "yref": "paper"
         },
         {
          "font": {
           "size": 10
          },
          "showarrow": false,
          "text": "phenylalanine (plasma)",
          "x": 0.24166666666666667,
          "xanchor": "center",
          "xref": "paper",
          "y": 1,
          "yanchor": "bottom",
          "yref": "paper"
         },
         {
          "font": {
           "size": 10
          },
          "showarrow": false,
          "text": "age at diagnosis (months)",
          "x": 0.41388888888888886,
          "xanchor": "center",
          "xref": "paper",
          "y": 1,
          "yanchor": "bottom",
          "yref": "paper"
         },
         {
          "font": {
           "size": 10
          },
          "showarrow": false,
          "text": "ntbc dosis mg/kg/day",
          "x": 0.5861111111111112,
          "xanchor": "center",
          "xref": "paper",
          "y": 1,
          "yanchor": "bottom",
          "yref": "paper"
         },
         {
          "font": {
           "size": 10
          },
          "showarrow": false,
          "text": "ntbc levels (dbs)",
          "x": 0.7583333333333333,
          "xanchor": "center",
          "xref": "paper",
          "y": 1,
          "yanchor": "bottom",
          "yref": "paper"
         },
         {
          "font": {
           "size": 10
          },
          "showarrow": false,
          "text": "sca (urine)",
          "x": 0.9305555555555556,
          "xanchor": "center",
          "xref": "paper",
          "y": 1,
          "yanchor": "bottom",
          "yref": "paper"
         },
         {
          "font": {
           "size": 10
          },
          "showarrow": false,
          "text": "methionine dbs",
          "x": 0.06944444444444445,
          "xanchor": "center",
          "xref": "paper",
          "y": 0.6111111111111112,
          "yanchor": "bottom",
          "yref": "paper"
         },
         {
          "font": {
           "size": 10
          },
          "showarrow": false,
          "text": "tyrosine dbs",
          "x": 0.24166666666666667,
          "xanchor": "center",
          "xref": "paper",
          "y": 0.6111111111111112,
          "yanchor": "bottom",
          "yref": "paper"
         },
         {
          "font": {
           "size": 10
          },
          "showarrow": false,
          "text": "phenylalanine dbs",
          "x": 0.41388888888888886,
          "xanchor": "center",
          "xref": "paper",
          "y": 0.6111111111111112,
          "yanchor": "bottom",
          "yref": "paper"
         },
         {
          "font": {
           "size": 10
          },
          "showarrow": false,
          "text": "methionine (plasma)",
          "x": 0.5861111111111112,
          "xanchor": "center",
          "xref": "paper",
          "y": 0.6111111111111112,
          "yanchor": "bottom",
          "yref": "paper"
         },
         {
          "font": {
           "size": 10
          },
          "showarrow": false,
          "text": "tyrosine (plasma)",
          "x": 0.7583333333333333,
          "xanchor": "center",
          "xref": "paper",
          "y": 0.6111111111111112,
          "yanchor": "bottom",
          "yref": "paper"
         },
         {
          "font": {
           "size": 10
          },
          "showarrow": false,
          "text": "inr",
          "x": 0.9305555555555556,
          "xanchor": "center",
          "xref": "paper",
          "y": 0.6111111111111112,
          "yanchor": "bottom",
          "yref": "paper"
         },
         {
          "font": {
           "size": 10
          },
          "showarrow": false,
          "text": "pt (sec)",
          "x": 0.06944444444444445,
          "xanchor": "center",
          "xref": "paper",
          "y": 0.22222222222222224,
          "yanchor": "bottom",
          "yref": "paper"
         },
         {
          "font": {
           "size": 10
          },
          "showarrow": false,
          "text": "bili total",
          "x": 0.24166666666666667,
          "xanchor": "center",
          "xref": "paper",
          "y": 0.22222222222222224,
          "yanchor": "bottom",
          "yref": "paper"
         },
         {
          "font": {
           "size": 10
          },
          "showarrow": false,
          "text": "gpt",
          "x": 0.41388888888888886,
          "xanchor": "center",
          "xref": "paper",
          "y": 0.22222222222222224,
          "yanchor": "bottom",
          "yref": "paper"
         },
         {
          "font": {
           "size": 10
          },
          "showarrow": false,
          "text": "ggt",
          "x": 0.5861111111111112,
          "xanchor": "center",
          "xref": "paper",
          "y": 0.22222222222222224,
          "yanchor": "bottom",
          "yref": "paper"
         },
         {
          "font": {
           "size": 10
          },
          "showarrow": false,
          "text": "alkaline phosphatase",
          "x": 0.7583333333333333,
          "xanchor": "center",
          "xref": "paper",
          "y": 0.22222222222222224,
          "yanchor": "bottom",
          "yref": "paper"
         }
        ],
        "autosize": true,
        "margin": {
         "b": 0,
         "l": 0,
         "r": 0,
         "t": 30
        },
        "shapes": [
         {
          "fillcolor": "LightSeaGreen",
          "line": {
           "color": "LightSeaGreen",
           "width": 2
          },
          "opacity": 0.3,
          "type": "rect",
          "x0": 0.8,
          "x1": 1,
          "xref": "x",
          "y0": -0.02,
          "y1": 0.25225572586059575,
          "yref": "y"
         },
         {
          "fillcolor": "LightSeaGreen",
          "line": {
           "color": "LightSeaGreen",
           "width": 2
          },
          "opacity": 0.3,
          "type": "rect",
          "x0": 0.8,
          "x1": 1,
          "xref": "x7",
          "y0": -0.02,
          "y1": 0.5277638226747513,
          "yref": "y7"
         },
         {
          "fillcolor": "LightSeaGreen",
          "line": {
           "color": "LightSeaGreen",
           "width": 2
          },
          "opacity": 0.3,
          "type": "rect",
          "x0": 0.8,
          "x1": 1,
          "xref": "x13",
          "y0": -0.02,
          "y1": 1.321288800239563,
          "yref": "y13"
         },
         {
          "fillcolor": "LightSeaGreen",
          "line": {
           "color": "LightSeaGreen",
           "width": 2
          },
          "opacity": 0.3,
          "type": "rect",
          "x0": 0.8,
          "x1": 1,
          "xref": "x2",
          "y0": -0.02,
          "y1": 1.321288800239563,
          "yref": "y2"
         },
         {
          "fillcolor": "LightSeaGreen",
          "line": {
           "color": "LightSeaGreen",
           "width": 2
          },
          "opacity": 0.3,
          "type": "rect",
          "x0": 0.8,
          "x1": 1,
          "xref": "x8",
          "y0": -0.02,
          "y1": 1.321288800239563,
          "yref": "y8"
         },
         {
          "fillcolor": "LightSeaGreen",
          "line": {
           "color": "LightSeaGreen",
           "width": 2
          },
          "opacity": 0.3,
          "type": "rect",
          "x0": 0.8,
          "x1": 1,
          "xref": "x14",
          "y0": -0.02,
          "y1": 1.321288800239563,
          "yref": "y14"
         },
         {
          "fillcolor": "LightSeaGreen",
          "line": {
           "color": "LightSeaGreen",
           "width": 2
          },
          "opacity": 0.3,
          "type": "rect",
          "x0": 0.8,
          "x1": 1,
          "xref": "x3",
          "y0": -0.02,
          "y1": 1.321288800239563,
          "yref": "y3"
         },
         {
          "fillcolor": "LightSeaGreen",
          "line": {
           "color": "LightSeaGreen",
           "width": 2
          },
          "opacity": 0.3,
          "type": "rect",
          "x0": 0.8,
          "x1": 1,
          "xref": "x9",
          "y0": -0.02,
          "y1": 1.321288800239563,
          "yref": "y9"
         },
         {
          "fillcolor": "LightSeaGreen",
          "line": {
           "color": "LightSeaGreen",
           "width": 2
          },
          "opacity": 0.3,
          "type": "rect",
          "x0": 0.8,
          "x1": 1,
          "xref": "x15",
          "y0": -0.02,
          "y1": 1.321288800239563,
          "yref": "y15"
         },
         {
          "fillcolor": "LightSeaGreen",
          "line": {
           "color": "LightSeaGreen",
           "width": 2
          },
          "opacity": 0.3,
          "type": "rect",
          "x0": 0.8,
          "x1": 1,
          "xref": "x4",
          "y0": -0.02,
          "y1": 1.321288800239563,
          "yref": "y4"
         },
         {
          "fillcolor": "LightSeaGreen",
          "line": {
           "color": "LightSeaGreen",
           "width": 2
          },
          "opacity": 0.3,
          "type": "rect",
          "x0": 0.8,
          "x1": 1,
          "xref": "x10",
          "y0": -0.02,
          "y1": 1.321288800239563,
          "yref": "y10"
         },
         {
          "fillcolor": "LightSeaGreen",
          "line": {
           "color": "LightSeaGreen",
           "width": 2
          },
          "opacity": 0.3,
          "type": "rect",
          "x0": 0.8,
          "x1": 1,
          "xref": "x16",
          "y0": -0.02,
          "y1": 1.321288800239563,
          "yref": "y16"
         },
         {
          "fillcolor": "LightSeaGreen",
          "line": {
           "color": "LightSeaGreen",
           "width": 2
          },
          "opacity": 0.3,
          "type": "rect",
          "x0": 0.8,
          "x1": 1,
          "xref": "x5",
          "y0": -0.02,
          "y1": 1.321288800239563,
          "yref": "y5"
         },
         {
          "fillcolor": "LightSeaGreen",
          "line": {
           "color": "LightSeaGreen",
           "width": 2
          },
          "opacity": 0.3,
          "type": "rect",
          "x0": 0.8,
          "x1": 1,
          "xref": "x11",
          "y0": -0.02,
          "y1": 1.321288800239563,
          "yref": "y11"
         },
         {
          "fillcolor": "LightSeaGreen",
          "line": {
           "color": "LightSeaGreen",
           "width": 2
          },
          "opacity": 0.3,
          "type": "rect",
          "x0": 0.8,
          "x1": 1,
          "xref": "x17",
          "y0": -0.02,
          "y1": 1.3595434188842774,
          "yref": "y17"
         },
         {
          "fillcolor": "LightSeaGreen",
          "line": {
           "color": "LightSeaGreen",
           "width": 2
          },
          "opacity": 0.3,
          "type": "rect",
          "x0": 0.8,
          "x1": 1,
          "xref": "x6",
          "y0": -0.02,
          "y1": 1.3595434188842774,
          "yref": "y6"
         },
         {
          "fillcolor": "LightSeaGreen",
          "line": {
           "color": "LightSeaGreen",
           "width": 2
          },
          "opacity": 0.3,
          "type": "rect",
          "x0": 0.8,
          "x1": 1,
          "xref": "x12",
          "y0": -0.02,
          "y1": 1.3595434188842774,
          "yref": "y12"
         }
        ],
        "showlegend": true,
        "template": {
         "data": {
          "bar": [
           {
            "error_x": {
             "color": "#2a3f5f"
            },
            "error_y": {
             "color": "#2a3f5f"
            },
            "marker": {
             "line": {
              "color": "#E5ECF6",
              "width": 0.5
             },
             "pattern": {
              "fillmode": "overlay",
              "size": 10,
              "solidity": 0.2
             }
            },
            "type": "bar"
           }
          ],
          "barpolar": [
           {
            "marker": {
             "line": {
              "color": "#E5ECF6",
              "width": 0.5
             },
             "pattern": {
              "fillmode": "overlay",
              "size": 10,
              "solidity": 0.2
             }
            },
            "type": "barpolar"
           }
          ],
          "carpet": [
           {
            "aaxis": {
             "endlinecolor": "#2a3f5f",
             "gridcolor": "white",
             "linecolor": "white",
             "minorgridcolor": "white",
             "startlinecolor": "#2a3f5f"
            },
            "baxis": {
             "endlinecolor": "#2a3f5f",
             "gridcolor": "white",
             "linecolor": "white",
             "minorgridcolor": "white",
             "startlinecolor": "#2a3f5f"
            },
            "type": "carpet"
           }
          ],
          "choropleth": [
           {
            "colorbar": {
             "outlinewidth": 0,
             "ticks": ""
            },
            "type": "choropleth"
           }
          ],
          "contour": [
           {
            "colorbar": {
             "outlinewidth": 0,
             "ticks": ""
            },
            "colorscale": [
             [
              0,
              "#0d0887"
             ],
             [
              0.1111111111111111,
              "#46039f"
             ],
             [
              0.2222222222222222,
              "#7201a8"
             ],
             [
              0.3333333333333333,
              "#9c179e"
             ],
             [
              0.4444444444444444,
              "#bd3786"
             ],
             [
              0.5555555555555556,
              "#d8576b"
             ],
             [
              0.6666666666666666,
              "#ed7953"
             ],
             [
              0.7777777777777778,
              "#fb9f3a"
             ],
             [
              0.8888888888888888,
              "#fdca26"
             ],
             [
              1,
              "#f0f921"
             ]
            ],
            "type": "contour"
           }
          ],
          "contourcarpet": [
           {
            "colorbar": {
             "outlinewidth": 0,
             "ticks": ""
            },
            "type": "contourcarpet"
           }
          ],
          "heatmap": [
           {
            "colorbar": {
             "outlinewidth": 0,
             "ticks": ""
            },
            "colorscale": [
             [
              0,
              "#0d0887"
             ],
             [
              0.1111111111111111,
              "#46039f"
             ],
             [
              0.2222222222222222,
              "#7201a8"
             ],
             [
              0.3333333333333333,
              "#9c179e"
             ],
             [
              0.4444444444444444,
              "#bd3786"
             ],
             [
              0.5555555555555556,
              "#d8576b"
             ],
             [
              0.6666666666666666,
              "#ed7953"
             ],
             [
              0.7777777777777778,
              "#fb9f3a"
             ],
             [
              0.8888888888888888,
              "#fdca26"
             ],
             [
              1,
              "#f0f921"
             ]
            ],
            "type": "heatmap"
           }
          ],
          "heatmapgl": [
           {
            "colorbar": {
             "outlinewidth": 0,
             "ticks": ""
            },
            "colorscale": [
             [
              0,
              "#0d0887"
             ],
             [
              0.1111111111111111,
              "#46039f"
             ],
             [
              0.2222222222222222,
              "#7201a8"
             ],
             [
              0.3333333333333333,
              "#9c179e"
             ],
             [
              0.4444444444444444,
              "#bd3786"
             ],
             [
              0.5555555555555556,
              "#d8576b"
             ],
             [
              0.6666666666666666,
              "#ed7953"
             ],
             [
              0.7777777777777778,
              "#fb9f3a"
             ],
             [
              0.8888888888888888,
              "#fdca26"
             ],
             [
              1,
              "#f0f921"
             ]
            ],
            "type": "heatmapgl"
           }
          ],
          "histogram": [
           {
            "marker": {
             "pattern": {
              "fillmode": "overlay",
              "size": 10,
              "solidity": 0.2
             }
            },
            "type": "histogram"
           }
          ],
          "histogram2d": [
           {
            "colorbar": {
             "outlinewidth": 0,
             "ticks": ""
            },
            "colorscale": [
             [
              0,
              "#0d0887"
             ],
             [
              0.1111111111111111,
              "#46039f"
             ],
             [
              0.2222222222222222,
              "#7201a8"
             ],
             [
              0.3333333333333333,
              "#9c179e"
             ],
             [
              0.4444444444444444,
              "#bd3786"
             ],
             [
              0.5555555555555556,
              "#d8576b"
             ],
             [
              0.6666666666666666,
              "#ed7953"
             ],
             [
              0.7777777777777778,
              "#fb9f3a"
             ],
             [
              0.8888888888888888,
              "#fdca26"
             ],
             [
              1,
              "#f0f921"
             ]
            ],
            "type": "histogram2d"
           }
          ],
          "histogram2dcontour": [
           {
            "colorbar": {
             "outlinewidth": 0,
             "ticks": ""
            },
            "colorscale": [
             [
              0,
              "#0d0887"
             ],
             [
              0.1111111111111111,
              "#46039f"
             ],
             [
              0.2222222222222222,
              "#7201a8"
             ],
             [
              0.3333333333333333,
              "#9c179e"
             ],
             [
              0.4444444444444444,
              "#bd3786"
             ],
             [
              0.5555555555555556,
              "#d8576b"
             ],
             [
              0.6666666666666666,
              "#ed7953"
             ],
             [
              0.7777777777777778,
              "#fb9f3a"
             ],
             [
              0.8888888888888888,
              "#fdca26"
             ],
             [
              1,
              "#f0f921"
             ]
            ],
            "type": "histogram2dcontour"
           }
          ],
          "mesh3d": [
           {
            "colorbar": {
             "outlinewidth": 0,
             "ticks": ""
            },
            "type": "mesh3d"
           }
          ],
          "parcoords": [
           {
            "line": {
             "colorbar": {
              "outlinewidth": 0,
              "ticks": ""
             }
            },
            "type": "parcoords"
           }
          ],
          "pie": [
           {
            "automargin": true,
            "type": "pie"
           }
          ],
          "scatter": [
           {
            "fillpattern": {
             "fillmode": "overlay",
             "size": 10,
             "solidity": 0.2
            },
            "type": "scatter"
           }
          ],
          "scatter3d": [
           {
            "line": {
             "colorbar": {
              "outlinewidth": 0,
              "ticks": ""
             }
            },
            "marker": {
             "colorbar": {
              "outlinewidth": 0,
              "ticks": ""
             }
            },
            "type": "scatter3d"
           }
          ],
          "scattercarpet": [
           {
            "marker": {
             "colorbar": {
              "outlinewidth": 0,
              "ticks": ""
             }
            },
            "type": "scattercarpet"
           }
          ],
          "scattergeo": [
           {
            "marker": {
             "colorbar": {
              "outlinewidth": 0,
              "ticks": ""
             }
            },
            "type": "scattergeo"
           }
          ],
          "scattergl": [
           {
            "marker": {
             "colorbar": {
              "outlinewidth": 0,
              "ticks": ""
             }
            },
            "type": "scattergl"
           }
          ],
          "scattermapbox": [
           {
            "marker": {
             "colorbar": {
              "outlinewidth": 0,
              "ticks": ""
             }
            },
            "type": "scattermapbox"
           }
          ],
          "scatterpolar": [
           {
            "marker": {
             "colorbar": {
              "outlinewidth": 0,
              "ticks": ""
             }
            },
            "type": "scatterpolar"
           }
          ],
          "scatterpolargl": [
           {
            "marker": {
             "colorbar": {
              "outlinewidth": 0,
              "ticks": ""
             }
            },
            "type": "scatterpolargl"
           }
          ],
          "scatterternary": [
           {
            "marker": {
             "colorbar": {
              "outlinewidth": 0,
              "ticks": ""
             }
            },
            "type": "scatterternary"
           }
          ],
          "surface": [
           {
            "colorbar": {
             "outlinewidth": 0,
             "ticks": ""
            },
            "colorscale": [
             [
              0,
              "#0d0887"
             ],
             [
              0.1111111111111111,
              "#46039f"
             ],
             [
              0.2222222222222222,
              "#7201a8"
             ],
             [
              0.3333333333333333,
              "#9c179e"
             ],
             [
              0.4444444444444444,
              "#bd3786"
             ],
             [
              0.5555555555555556,
              "#d8576b"
             ],
             [
              0.6666666666666666,
              "#ed7953"
             ],
             [
              0.7777777777777778,
              "#fb9f3a"
             ],
             [
              0.8888888888888888,
              "#fdca26"
             ],
             [
              1,
              "#f0f921"
             ]
            ],
            "type": "surface"
           }
          ],
          "table": [
           {
            "cells": {
             "fill": {
              "color": "#EBF0F8"
             },
             "line": {
              "color": "white"
             }
            },
            "header": {
             "fill": {
              "color": "#C8D4E3"
             },
             "line": {
              "color": "white"
             }
            },
            "type": "table"
           }
          ]
         },
         "layout": {
          "annotationdefaults": {
           "arrowcolor": "#2a3f5f",
           "arrowhead": 0,
           "arrowwidth": 1
          },
          "autotypenumbers": "strict",
          "coloraxis": {
           "colorbar": {
            "outlinewidth": 0,
            "ticks": ""
           }
          },
          "colorscale": {
           "diverging": [
            [
             0,
             "#8e0152"
            ],
            [
             0.1,
             "#c51b7d"
            ],
            [
             0.2,
             "#de77ae"
            ],
            [
             0.3,
             "#f1b6da"
            ],
            [
             0.4,
             "#fde0ef"
            ],
            [
             0.5,
             "#f7f7f7"
            ],
            [
             0.6,
             "#e6f5d0"
            ],
            [
             0.7,
             "#b8e186"
            ],
            [
             0.8,
             "#7fbc41"
            ],
            [
             0.9,
             "#4d9221"
            ],
            [
             1,
             "#276419"
            ]
           ],
           "sequential": [
            [
             0,
             "#0d0887"
            ],
            [
             0.1111111111111111,
             "#46039f"
            ],
            [
             0.2222222222222222,
             "#7201a8"
            ],
            [
             0.3333333333333333,
             "#9c179e"
            ],
            [
             0.4444444444444444,
             "#bd3786"
            ],
            [
             0.5555555555555556,
             "#d8576b"
            ],
            [
             0.6666666666666666,
             "#ed7953"
            ],
            [
             0.7777777777777778,
             "#fb9f3a"
            ],
            [
             0.8888888888888888,
             "#fdca26"
            ],
            [
             1,
             "#f0f921"
            ]
           ],
           "sequentialminus": [
            [
             0,
             "#0d0887"
            ],
            [
             0.1111111111111111,
             "#46039f"
            ],
            [
             0.2222222222222222,
             "#7201a8"
            ],
            [
             0.3333333333333333,
             "#9c179e"
            ],
            [
             0.4444444444444444,
             "#bd3786"
            ],
            [
             0.5555555555555556,
             "#d8576b"
            ],
            [
             0.6666666666666666,
             "#ed7953"
            ],
            [
             0.7777777777777778,
             "#fb9f3a"
            ],
            [
             0.8888888888888888,
             "#fdca26"
            ],
            [
             1,
             "#f0f921"
            ]
           ]
          },
          "colorway": [
           "#636efa",
           "#EF553B",
           "#00cc96",
           "#ab63fa",
           "#FFA15A",
           "#19d3f3",
           "#FF6692",
           "#B6E880",
           "#FF97FF",
           "#FECB52"
          ],
          "font": {
           "color": "#2a3f5f"
          },
          "geo": {
           "bgcolor": "white",
           "lakecolor": "white",
           "landcolor": "#E5ECF6",
           "showlakes": true,
           "showland": true,
           "subunitcolor": "white"
          },
          "hoverlabel": {
           "align": "left"
          },
          "hovermode": "closest",
          "mapbox": {
           "style": "light"
          },
          "paper_bgcolor": "white",
          "plot_bgcolor": "#E5ECF6",
          "polar": {
           "angularaxis": {
            "gridcolor": "white",
            "linecolor": "white",
            "ticks": ""
           },
           "bgcolor": "#E5ECF6",
           "radialaxis": {
            "gridcolor": "white",
            "linecolor": "white",
            "ticks": ""
           }
          },
          "scene": {
           "xaxis": {
            "backgroundcolor": "#E5ECF6",
            "gridcolor": "white",
            "gridwidth": 2,
            "linecolor": "white",
            "showbackground": true,
            "ticks": "",
            "zerolinecolor": "white"
           },
           "yaxis": {
            "backgroundcolor": "#E5ECF6",
            "gridcolor": "white",
            "gridwidth": 2,
            "linecolor": "white",
            "showbackground": true,
            "ticks": "",
            "zerolinecolor": "white"
           },
           "zaxis": {
            "backgroundcolor": "#E5ECF6",
            "gridcolor": "white",
            "gridwidth": 2,
            "linecolor": "white",
            "showbackground": true,
            "ticks": "",
            "zerolinecolor": "white"
           }
          },
          "shapedefaults": {
           "line": {
            "color": "#2a3f5f"
           }
          },
          "ternary": {
           "aaxis": {
            "gridcolor": "white",
            "linecolor": "white",
            "ticks": ""
           },
           "baxis": {
            "gridcolor": "white",
            "linecolor": "white",
            "ticks": ""
           },
           "bgcolor": "#E5ECF6",
           "caxis": {
            "gridcolor": "white",
            "linecolor": "white",
            "ticks": ""
           }
          },
          "title": {
           "x": 0.05
          },
          "xaxis": {
           "automargin": true,
           "gridcolor": "white",
           "linecolor": "white",
           "ticks": "",
           "title": {
            "standoff": 15
           },
           "zerolinecolor": "white",
           "zerolinewidth": 2
          },
          "yaxis": {
           "automargin": true,
           "gridcolor": "white",
           "linecolor": "white",
           "ticks": "",
           "title": {
            "standoff": 15
           },
           "zerolinecolor": "white",
           "zerolinewidth": 2
          }
         }
        },
        "xaxis": {
         "anchor": "y",
         "domain": [
          0,
          0.1388888888888889
         ],
         "range": [
          0.0625,
          1.021462572059157
         ]
        },
        "xaxis10": {
         "anchor": "y10",
         "domain": [
          0.5166666666666667,
          0.6555555555555557
         ],
         "range": [
          0.0625,
          1.021462572059157
         ]
        },
        "xaxis11": {
         "anchor": "y11",
         "domain": [
          0.6888888888888889,
          0.8277777777777777
         ],
         "range": [
          0.0625,
          1.021462572059157
         ]
        },
        "xaxis12": {
         "anchor": "y12",
         "domain": [
          0.861111111111111,
          1
         ],
         "range": [
          0.0625,
          1.021462572059157
         ]
        },
        "xaxis13": {
         "anchor": "y13",
         "domain": [
          0,
          0.1388888888888889
         ],
         "range": [
          0.0625,
          1.021462572059157
         ]
        },
        "xaxis14": {
         "anchor": "y14",
         "domain": [
          0.17222222222222222,
          0.3111111111111111
         ],
         "range": [
          0.0625,
          1.021462572059157
         ]
        },
        "xaxis15": {
         "anchor": "y15",
         "domain": [
          0.34444444444444444,
          0.48333333333333334
         ],
         "range": [
          0.0625,
          1.021462572059157
         ]
        },
        "xaxis16": {
         "anchor": "y16",
         "domain": [
          0.5166666666666667,
          0.6555555555555557
         ],
         "range": [
          0.0625,
          1.021462572059157
         ]
        },
        "xaxis17": {
         "anchor": "y17",
         "domain": [
          0.6888888888888889,
          0.8277777777777777
         ],
         "range": [
          0.0625,
          1.021462572059157
         ]
        },
        "xaxis18": {
         "anchor": "y18",
         "domain": [
          0.861111111111111,
          1
         ],
         "range": [
          0.0625,
          1.021462572059157
         ]
        },
        "xaxis2": {
         "anchor": "y2",
         "domain": [
          0.17222222222222222,
          0.3111111111111111
         ],
         "range": [
          0.0625,
          1.021462572059157
         ]
        },
        "xaxis3": {
         "anchor": "y3",
         "domain": [
          0.34444444444444444,
          0.48333333333333334
         ],
         "range": [
          0.0625,
          1.021462572059157
         ]
        },
        "xaxis4": {
         "anchor": "y4",
         "domain": [
          0.5166666666666667,
          0.6555555555555557
         ],
         "range": [
          0.0625,
          1.021462572059157
         ]
        },
        "xaxis5": {
         "anchor": "y5",
         "domain": [
          0.6888888888888889,
          0.8277777777777777
         ],
         "range": [
          0.0625,
          1.021462572059157
         ]
        },
        "xaxis6": {
         "anchor": "y6",
         "domain": [
          0.861111111111111,
          1
         ],
         "range": [
          0.0625,
          1.021462572059157
         ]
        },
        "xaxis7": {
         "anchor": "y7",
         "domain": [
          0,
          0.1388888888888889
         ],
         "range": [
          0.0625,
          1.021462572059157
         ]
        },
        "xaxis8": {
         "anchor": "y8",
         "domain": [
          0.17222222222222222,
          0.3111111111111111
         ],
         "range": [
          0.0625,
          1.021462572059157
         ]
        },
        "xaxis9": {
         "anchor": "y9",
         "domain": [
          0.34444444444444444,
          0.48333333333333334
         ],
         "range": [
          0.0625,
          1.021462572059157
         ]
        },
        "yaxis": {
         "anchor": "x",
         "domain": [
          0.7777777777777778,
          1
         ],
         "range": [
          -0.02,
          1.3595434188842774
         ]
        },
        "yaxis10": {
         "anchor": "x10",
         "domain": [
          0.3888888888888889,
          0.6111111111111112
         ],
         "range": [
          -0.02,
          1.3595434188842774
         ]
        },
        "yaxis11": {
         "anchor": "x11",
         "domain": [
          0.3888888888888889,
          0.6111111111111112
         ],
         "range": [
          -0.02,
          1.3595434188842774
         ]
        },
        "yaxis12": {
         "anchor": "x12",
         "domain": [
          0.3888888888888889,
          0.6111111111111112
         ],
         "range": [
          -0.02,
          1.3595434188842774
         ]
        },
        "yaxis13": {
         "anchor": "x13",
         "domain": [
          0,
          0.22222222222222224
         ],
         "range": [
          -0.02,
          1.3595434188842774
         ]
        },
        "yaxis14": {
         "anchor": "x14",
         "domain": [
          0,
          0.22222222222222224
         ],
         "range": [
          -0.02,
          1.3595434188842774
         ]
        },
        "yaxis15": {
         "anchor": "x15",
         "domain": [
          0,
          0.22222222222222224
         ],
         "range": [
          -0.02,
          1.3595434188842774
         ]
        },
        "yaxis16": {
         "anchor": "x16",
         "domain": [
          0,
          0.22222222222222224
         ],
         "range": [
          -0.02,
          1.3595434188842774
         ]
        },
        "yaxis17": {
         "anchor": "x17",
         "domain": [
          0,
          0.22222222222222224
         ],
         "range": [
          -0.02,
          1.3595434188842774
         ]
        },
        "yaxis18": {
         "anchor": "x18",
         "domain": [
          0,
          0.22222222222222224
         ],
         "range": [
          -0.02,
          1.3595434188842774
         ]
        },
        "yaxis2": {
         "anchor": "x2",
         "domain": [
          0.7777777777777778,
          1
         ],
         "range": [
          -0.02,
          1.3595434188842774
         ]
        },
        "yaxis3": {
         "anchor": "x3",
         "domain": [
          0.7777777777777778,
          1
         ],
         "range": [
          -0.02,
          1.3595434188842774
         ]
        },
        "yaxis4": {
         "anchor": "x4",
         "domain": [
          0.7777777777777778,
          1
         ],
         "range": [
          -0.02,
          1.3595434188842774
         ]
        },
        "yaxis5": {
         "anchor": "x5",
         "domain": [
          0.7777777777777778,
          1
         ],
         "range": [
          -0.02,
          1.3595434188842774
         ]
        },
        "yaxis6": {
         "anchor": "x6",
         "domain": [
          0.7777777777777778,
          1
         ],
         "range": [
          -0.02,
          1.3595434188842774
         ]
        },
        "yaxis7": {
         "anchor": "x7",
         "domain": [
          0.3888888888888889,
          0.6111111111111112
         ],
         "range": [
          -0.02,
          1.3595434188842774
         ]
        },
        "yaxis8": {
         "anchor": "x8",
         "domain": [
          0.3888888888888889,
          0.6111111111111112
         ],
         "range": [
          -0.02,
          1.3595434188842774
         ]
        },
        "yaxis9": {
         "anchor": "x9",
         "domain": [
          0.3888888888888889,
          0.6111111111111112
         ],
         "range": [
          -0.02,
          1.3595434188842774
         ]
        }
       }
      }
     },
     "metadata": {},
     "output_type": "display_data"
    }
   ],
   "source": [
    "import warnings\n",
    "warnings.filterwarnings(\"ignore\")\n",
    "from utils import *\n",
    "import pickle\n",
    "with open('studies_independent_testset.pickle', 'rb') as handle:\n",
    "    studies = pickle.load(handle)      # Saca la cosa\n",
    "study = studies[0] #.trials.__len__()\n",
    "plot_all_studies(studies, .8, 0)"
   ]
  },
  {
   "cell_type": "code",
   "execution_count": 2,
   "metadata": {},
   "outputs": [
    {
     "name": "stdout",
     "output_type": "stream",
     "text": [
      "Both CSV files have the same number of columns: 18\n",
      "Column names are the same.\n",
      "Column order is the same.\n",
      "All common columns have the same data types.\n",
      "23/06/02 12:05:07 WARN Utils: Your hostname, pop-os resolves to a loopback address: 127.0.1.1; using 100.64.221.100 instead (on interface tailscale0)\n",
      "23/06/02 12:05:07 WARN Utils: Set SPARK_LOCAL_IP if you need to bind to another address\n"
     ]
    },
    {
     "name": "stderr",
     "output_type": "stream",
     "text": [
      "Setting default log level to \"WARN\".\n",
      "To adjust logging level use sc.setLogLevel(newLevel). For SparkR, use setLogLevel(newLevel).\n"
     ]
    },
    {
     "name": "stdout",
     "output_type": "stream",
     "text": [
      "23/06/02 12:05:08 WARN NativeCodeLoader: Unable to load native-hadoop library for your platform... using builtin-java classes where applicable\n",
      "23/06/02 12:05:08 WARN Utils: Service 'SparkUI' could not bind on port 4040. Attempting port 4041.\n",
      "23/06/02 12:05:08 WARN Utils: Service 'SparkUI' could not bind on port 4041. Attempting port 4042.\n",
      "23/06/02 12:05:10 WARN package: Truncated the string representation of a plan since it was too large. This behavior can be adjusted by setting 'spark.sql.debug.maxToStringFields'.\n"
     ]
    }
   ],
   "source": [
    "#Quality control\n",
    "OPBG = [ 'age at diagnosis (months)',            \n",
    "            'ntbc dosis mg/kg/day',\n",
    "            'ntbc levels (dbs)',\n",
    "            'sca (urine)',\n",
    "            'methionine dbs',\n",
    "            'tyrosine dbs',\n",
    "            'phenylalanine dbs',\n",
    "            'methionine (plasma)',\n",
    "            'tyrosine (plasma)',\n",
    "            'phenylalanine (plasma)',\n",
    "            'inr',\n",
    "            'pt (sec)',\n",
    "            'bili total',\n",
    "            'gpt',\n",
    "            'got',\n",
    "            'ggt',\n",
    "            'alkaline phosphatase',\n",
    "            'alfa-fetoprotein']\n",
    "    \n",
    "df1 = pd.read_csv('data/tirosinemia.csv').loc[:,OPBG]\n",
    "df2 = pd.read_csv('data/tirosinemia_italia.csv').loc[:,OPBG]\n",
    "compare_dataframes(df1, df2)\n",
    "def extract_transform(path, keep_cols, cols_rows_with_missing_values, new_binary_target):\n",
    "    _ , spark_df = SparkDataProcessor().process_data(\n",
    "        data_csv_path= path,\n",
    "        )\n",
    "\n",
    "    return prepare_spark_df(\n",
    "        spark_df=spark_df,\n",
    "        keep_cols=keep_cols,\n",
    "        cols_rows_with_missing_values=cols_rows_with_missing_values,\n",
    "        new_binary_target = new_binary_target,\n",
    "    )\n",
    "\n",
    "binary_target = 'Alpha-Fet'\n",
    "df_train = extract_transform(\"data/tirosinemia.csv\", OPBG,  ['alfa-fetoprotein', 'sca (urine)', 'ntbc levels (dbs)'],binary_target)\n",
    "df_test  = extract_transform(\"data/tirosinemia_italia.csv\", OPBG,  ['alfa-fetoprotein', 'sca (urine)', 'ntbc levels (dbs)'],binary_target)"
   ]
  },
  {
   "cell_type": "code",
   "execution_count": 3,
   "metadata": {},
   "outputs": [
    {
     "name": "stderr",
     "output_type": "stream",
     "text": [
      "100%|██████████| 2/2 [00:03<00:00,  1.73s/it]\n"
     ]
    }
   ],
   "source": [
    "filtered_trials = [\n",
    "                    trial \n",
    "                    for study in studies\n",
    "                    for trial in TwoObjectiveSolutions(study, auc_cutoff=0.8, s_cutoff=0).get_filtered_trials().filtered_trials\n",
    "                ]\n",
    "\n",
    "import warnings\n",
    "from pandas.errors import PerformanceWarning\n",
    "\n",
    "\n",
    "warnings.filterwarnings(\"ignore\", category=PerformanceWarning)\n",
    "\n",
    "import copy\n",
    "AUCs = []\n",
    "df_ranks_abnormal = pd.DataFrame()\n",
    "df_ranks_healty = pd.DataFrame()\n",
    "\n",
    "\n",
    "\n",
    "from tqdm import tqdm\n",
    "from pandas.errors import PerformanceWarning\n",
    "\n",
    "with warnings.catch_warnings():\n",
    "    warnings.filterwarnings(\"ignore\", category=PerformanceWarning)\n",
    "    for i, trial in tqdm(enumerate(copy.deepcopy(filtered_trials)), total=len(filtered_trials)):\n",
    "        # print(trial.values)\n",
    "\n",
    "        params_i = trial.params\n",
    "        seed, kfold_splits, xgb_params = params_i.pop('seed'), params_i.pop('kfold_splits'), params_i\n",
    "\n",
    "        model_instance = ModelInstance(\n",
    "            df = df_train, \n",
    "            target = binary_target,\n",
    "            xgb_params = xgb_params,\n",
    "            kfold_splits = kfold_splits,\n",
    "            Independent_testset = True,\n",
    "            Independent_testset_df = df_test,\n",
    "            seed = seed,\n",
    "            \n",
    "        )\n",
    "        AUCs.append(model_instance.get_AUC_on_test_data())\n",
    "        feature_metrics      = model_instance.get_feature_explanation()\n",
    "        df_ranks_abnormal[i] = feature_metrics[\"SHAP_abnormal\"]\n",
    "        df_ranks_healty[i]   = feature_metrics[\"SHAP_healty\"]\n",
    "\n"
   ]
  },
  {
   "cell_type": "code",
   "execution_count": 4,
   "metadata": {},
   "outputs": [
    {
     "data": {
      "application/vnd.plotly.v1+json": {
       "config": {
        "plotlyServerURL": "https://plot.ly"
       },
       "data": [
        {
         "dimensions": [
          {
           "label": "gpt",
           "values": [
            0.16334228217601776,
            0.2445935755968094
           ]
          },
          {
           "label": "got",
           "values": [
            0.05065295100212097,
            0.14190319180488586
           ]
          },
          {
           "label": "ggt",
           "values": [
            0.04447133094072342,
            0.02438802272081375
           ]
          },
          {
           "label": "ntbc levels (dbs)",
           "values": [
            0.02672492526471615,
            0.02668459713459015
           ]
          },
          {
           "label": "phenylalanine dbs",
           "values": [
            0.04211419075727463,
            0.019982611760497093
           ]
          },
          {
           "label": "methionine (plasma)",
           "values": [
            0.014306855387985706,
            0.0319303497672081
           ]
          },
          {
           "label": "age at diagnosis (months)",
           "values": [
            0.009186708368360996,
            0.03762068599462509
           ]
          },
          {
           "label": "phenylalanine (plasma)",
           "values": [
            0.007942171767354012,
            0.04137192666530609
           ]
          },
          {
           "label": "pt (sec)",
           "values": [
            0.025454744696617126,
            0.019777661189436913
           ]
          },
          {
           "label": "alkaline phosphatase",
           "values": [
            0.004865328781306744,
            0.07486655563116074
           ]
          }
         ],
         "domain": {
          "x": [
           0,
           1
          ],
          "y": [
           0,
           1
          ]
         },
         "line": {
          "color": [
           0.9125,
           0.9
          ],
          "coloraxis": "coloraxis"
         },
         "name": "",
         "type": "parcoords"
        }
       ],
       "layout": {
        "coloraxis": {
         "colorbar": {
          "title": {
           "text": "AUC (test data)"
          }
         },
         "colorscale": [
          [
           0,
           "rgb(247,252,253)"
          ],
          [
           0.125,
           "rgb(229,245,249)"
          ],
          [
           0.25,
           "rgb(204,236,230)"
          ],
          [
           0.375,
           "rgb(153,216,201)"
          ],
          [
           0.5,
           "rgb(102,194,164)"
          ],
          [
           0.625,
           "rgb(65,174,118)"
          ],
          [
           0.75,
           "rgb(35,139,69)"
          ],
          [
           0.875,
           "rgb(0,109,44)"
          ],
          [
           1,
           "rgb(0,68,27)"
          ]
         ]
        },
        "legend": {
         "tracegroupgap": 0
        },
        "margin": {
         "t": 60
        },
        "template": {
         "data": {
          "bar": [
           {
            "error_x": {
             "color": "#2a3f5f"
            },
            "error_y": {
             "color": "#2a3f5f"
            },
            "marker": {
             "line": {
              "color": "#E5ECF6",
              "width": 0.5
             },
             "pattern": {
              "fillmode": "overlay",
              "size": 10,
              "solidity": 0.2
             }
            },
            "type": "bar"
           }
          ],
          "barpolar": [
           {
            "marker": {
             "line": {
              "color": "#E5ECF6",
              "width": 0.5
             },
             "pattern": {
              "fillmode": "overlay",
              "size": 10,
              "solidity": 0.2
             }
            },
            "type": "barpolar"
           }
          ],
          "carpet": [
           {
            "aaxis": {
             "endlinecolor": "#2a3f5f",
             "gridcolor": "white",
             "linecolor": "white",
             "minorgridcolor": "white",
             "startlinecolor": "#2a3f5f"
            },
            "baxis": {
             "endlinecolor": "#2a3f5f",
             "gridcolor": "white",
             "linecolor": "white",
             "minorgridcolor": "white",
             "startlinecolor": "#2a3f5f"
            },
            "type": "carpet"
           }
          ],
          "choropleth": [
           {
            "colorbar": {
             "outlinewidth": 0,
             "ticks": ""
            },
            "type": "choropleth"
           }
          ],
          "contour": [
           {
            "colorbar": {
             "outlinewidth": 0,
             "ticks": ""
            },
            "colorscale": [
             [
              0,
              "#0d0887"
             ],
             [
              0.1111111111111111,
              "#46039f"
             ],
             [
              0.2222222222222222,
              "#7201a8"
             ],
             [
              0.3333333333333333,
              "#9c179e"
             ],
             [
              0.4444444444444444,
              "#bd3786"
             ],
             [
              0.5555555555555556,
              "#d8576b"
             ],
             [
              0.6666666666666666,
              "#ed7953"
             ],
             [
              0.7777777777777778,
              "#fb9f3a"
             ],
             [
              0.8888888888888888,
              "#fdca26"
             ],
             [
              1,
              "#f0f921"
             ]
            ],
            "type": "contour"
           }
          ],
          "contourcarpet": [
           {
            "colorbar": {
             "outlinewidth": 0,
             "ticks": ""
            },
            "type": "contourcarpet"
           }
          ],
          "heatmap": [
           {
            "colorbar": {
             "outlinewidth": 0,
             "ticks": ""
            },
            "colorscale": [
             [
              0,
              "#0d0887"
             ],
             [
              0.1111111111111111,
              "#46039f"
             ],
             [
              0.2222222222222222,
              "#7201a8"
             ],
             [
              0.3333333333333333,
              "#9c179e"
             ],
             [
              0.4444444444444444,
              "#bd3786"
             ],
             [
              0.5555555555555556,
              "#d8576b"
             ],
             [
              0.6666666666666666,
              "#ed7953"
             ],
             [
              0.7777777777777778,
              "#fb9f3a"
             ],
             [
              0.8888888888888888,
              "#fdca26"
             ],
             [
              1,
              "#f0f921"
             ]
            ],
            "type": "heatmap"
           }
          ],
          "heatmapgl": [
           {
            "colorbar": {
             "outlinewidth": 0,
             "ticks": ""
            },
            "colorscale": [
             [
              0,
              "#0d0887"
             ],
             [
              0.1111111111111111,
              "#46039f"
             ],
             [
              0.2222222222222222,
              "#7201a8"
             ],
             [
              0.3333333333333333,
              "#9c179e"
             ],
             [
              0.4444444444444444,
              "#bd3786"
             ],
             [
              0.5555555555555556,
              "#d8576b"
             ],
             [
              0.6666666666666666,
              "#ed7953"
             ],
             [
              0.7777777777777778,
              "#fb9f3a"
             ],
             [
              0.8888888888888888,
              "#fdca26"
             ],
             [
              1,
              "#f0f921"
             ]
            ],
            "type": "heatmapgl"
           }
          ],
          "histogram": [
           {
            "marker": {
             "pattern": {
              "fillmode": "overlay",
              "size": 10,
              "solidity": 0.2
             }
            },
            "type": "histogram"
           }
          ],
          "histogram2d": [
           {
            "colorbar": {
             "outlinewidth": 0,
             "ticks": ""
            },
            "colorscale": [
             [
              0,
              "#0d0887"
             ],
             [
              0.1111111111111111,
              "#46039f"
             ],
             [
              0.2222222222222222,
              "#7201a8"
             ],
             [
              0.3333333333333333,
              "#9c179e"
             ],
             [
              0.4444444444444444,
              "#bd3786"
             ],
             [
              0.5555555555555556,
              "#d8576b"
             ],
             [
              0.6666666666666666,
              "#ed7953"
             ],
             [
              0.7777777777777778,
              "#fb9f3a"
             ],
             [
              0.8888888888888888,
              "#fdca26"
             ],
             [
              1,
              "#f0f921"
             ]
            ],
            "type": "histogram2d"
           }
          ],
          "histogram2dcontour": [
           {
            "colorbar": {
             "outlinewidth": 0,
             "ticks": ""
            },
            "colorscale": [
             [
              0,
              "#0d0887"
             ],
             [
              0.1111111111111111,
              "#46039f"
             ],
             [
              0.2222222222222222,
              "#7201a8"
             ],
             [
              0.3333333333333333,
              "#9c179e"
             ],
             [
              0.4444444444444444,
              "#bd3786"
             ],
             [
              0.5555555555555556,
              "#d8576b"
             ],
             [
              0.6666666666666666,
              "#ed7953"
             ],
             [
              0.7777777777777778,
              "#fb9f3a"
             ],
             [
              0.8888888888888888,
              "#fdca26"
             ],
             [
              1,
              "#f0f921"
             ]
            ],
            "type": "histogram2dcontour"
           }
          ],
          "mesh3d": [
           {
            "colorbar": {
             "outlinewidth": 0,
             "ticks": ""
            },
            "type": "mesh3d"
           }
          ],
          "parcoords": [
           {
            "line": {
             "colorbar": {
              "outlinewidth": 0,
              "ticks": ""
             }
            },
            "type": "parcoords"
           }
          ],
          "pie": [
           {
            "automargin": true,
            "type": "pie"
           }
          ],
          "scatter": [
           {
            "fillpattern": {
             "fillmode": "overlay",
             "size": 10,
             "solidity": 0.2
            },
            "type": "scatter"
           }
          ],
          "scatter3d": [
           {
            "line": {
             "colorbar": {
              "outlinewidth": 0,
              "ticks": ""
             }
            },
            "marker": {
             "colorbar": {
              "outlinewidth": 0,
              "ticks": ""
             }
            },
            "type": "scatter3d"
           }
          ],
          "scattercarpet": [
           {
            "marker": {
             "colorbar": {
              "outlinewidth": 0,
              "ticks": ""
             }
            },
            "type": "scattercarpet"
           }
          ],
          "scattergeo": [
           {
            "marker": {
             "colorbar": {
              "outlinewidth": 0,
              "ticks": ""
             }
            },
            "type": "scattergeo"
           }
          ],
          "scattergl": [
           {
            "marker": {
             "colorbar": {
              "outlinewidth": 0,
              "ticks": ""
             }
            },
            "type": "scattergl"
           }
          ],
          "scattermapbox": [
           {
            "marker": {
             "colorbar": {
              "outlinewidth": 0,
              "ticks": ""
             }
            },
            "type": "scattermapbox"
           }
          ],
          "scatterpolar": [
           {
            "marker": {
             "colorbar": {
              "outlinewidth": 0,
              "ticks": ""
             }
            },
            "type": "scatterpolar"
           }
          ],
          "scatterpolargl": [
           {
            "marker": {
             "colorbar": {
              "outlinewidth": 0,
              "ticks": ""
             }
            },
            "type": "scatterpolargl"
           }
          ],
          "scatterternary": [
           {
            "marker": {
             "colorbar": {
              "outlinewidth": 0,
              "ticks": ""
             }
            },
            "type": "scatterternary"
           }
          ],
          "surface": [
           {
            "colorbar": {
             "outlinewidth": 0,
             "ticks": ""
            },
            "colorscale": [
             [
              0,
              "#0d0887"
             ],
             [
              0.1111111111111111,
              "#46039f"
             ],
             [
              0.2222222222222222,
              "#7201a8"
             ],
             [
              0.3333333333333333,
              "#9c179e"
             ],
             [
              0.4444444444444444,
              "#bd3786"
             ],
             [
              0.5555555555555556,
              "#d8576b"
             ],
             [
              0.6666666666666666,
              "#ed7953"
             ],
             [
              0.7777777777777778,
              "#fb9f3a"
             ],
             [
              0.8888888888888888,
              "#fdca26"
             ],
             [
              1,
              "#f0f921"
             ]
            ],
            "type": "surface"
           }
          ],
          "table": [
           {
            "cells": {
             "fill": {
              "color": "#EBF0F8"
             },
             "line": {
              "color": "white"
             }
            },
            "header": {
             "fill": {
              "color": "#C8D4E3"
             },
             "line": {
              "color": "white"
             }
            },
            "type": "table"
           }
          ]
         },
         "layout": {
          "annotationdefaults": {
           "arrowcolor": "#2a3f5f",
           "arrowhead": 0,
           "arrowwidth": 1
          },
          "autotypenumbers": "strict",
          "coloraxis": {
           "colorbar": {
            "outlinewidth": 0,
            "ticks": ""
           }
          },
          "colorscale": {
           "diverging": [
            [
             0,
             "#8e0152"
            ],
            [
             0.1,
             "#c51b7d"
            ],
            [
             0.2,
             "#de77ae"
            ],
            [
             0.3,
             "#f1b6da"
            ],
            [
             0.4,
             "#fde0ef"
            ],
            [
             0.5,
             "#f7f7f7"
            ],
            [
             0.6,
             "#e6f5d0"
            ],
            [
             0.7,
             "#b8e186"
            ],
            [
             0.8,
             "#7fbc41"
            ],
            [
             0.9,
             "#4d9221"
            ],
            [
             1,
             "#276419"
            ]
           ],
           "sequential": [
            [
             0,
             "#0d0887"
            ],
            [
             0.1111111111111111,
             "#46039f"
            ],
            [
             0.2222222222222222,
             "#7201a8"
            ],
            [
             0.3333333333333333,
             "#9c179e"
            ],
            [
             0.4444444444444444,
             "#bd3786"
            ],
            [
             0.5555555555555556,
             "#d8576b"
            ],
            [
             0.6666666666666666,
             "#ed7953"
            ],
            [
             0.7777777777777778,
             "#fb9f3a"
            ],
            [
             0.8888888888888888,
             "#fdca26"
            ],
            [
             1,
             "#f0f921"
            ]
           ],
           "sequentialminus": [
            [
             0,
             "#0d0887"
            ],
            [
             0.1111111111111111,
             "#46039f"
            ],
            [
             0.2222222222222222,
             "#7201a8"
            ],
            [
             0.3333333333333333,
             "#9c179e"
            ],
            [
             0.4444444444444444,
             "#bd3786"
            ],
            [
             0.5555555555555556,
             "#d8576b"
            ],
            [
             0.6666666666666666,
             "#ed7953"
            ],
            [
             0.7777777777777778,
             "#fb9f3a"
            ],
            [
             0.8888888888888888,
             "#fdca26"
            ],
            [
             1,
             "#f0f921"
            ]
           ]
          },
          "colorway": [
           "#636efa",
           "#EF553B",
           "#00cc96",
           "#ab63fa",
           "#FFA15A",
           "#19d3f3",
           "#FF6692",
           "#B6E880",
           "#FF97FF",
           "#FECB52"
          ],
          "font": {
           "color": "#2a3f5f"
          },
          "geo": {
           "bgcolor": "white",
           "lakecolor": "white",
           "landcolor": "#E5ECF6",
           "showlakes": true,
           "showland": true,
           "subunitcolor": "white"
          },
          "hoverlabel": {
           "align": "left"
          },
          "hovermode": "closest",
          "mapbox": {
           "style": "light"
          },
          "paper_bgcolor": "white",
          "plot_bgcolor": "#E5ECF6",
          "polar": {
           "angularaxis": {
            "gridcolor": "white",
            "linecolor": "white",
            "ticks": ""
           },
           "bgcolor": "#E5ECF6",
           "radialaxis": {
            "gridcolor": "white",
            "linecolor": "white",
            "ticks": ""
           }
          },
          "scene": {
           "xaxis": {
            "backgroundcolor": "#E5ECF6",
            "gridcolor": "white",
            "gridwidth": 2,
            "linecolor": "white",
            "showbackground": true,
            "ticks": "",
            "zerolinecolor": "white"
           },
           "yaxis": {
            "backgroundcolor": "#E5ECF6",
            "gridcolor": "white",
            "gridwidth": 2,
            "linecolor": "white",
            "showbackground": true,
            "ticks": "",
            "zerolinecolor": "white"
           },
           "zaxis": {
            "backgroundcolor": "#E5ECF6",
            "gridcolor": "white",
            "gridwidth": 2,
            "linecolor": "white",
            "showbackground": true,
            "ticks": "",
            "zerolinecolor": "white"
           }
          },
          "shapedefaults": {
           "line": {
            "color": "#2a3f5f"
           }
          },
          "ternary": {
           "aaxis": {
            "gridcolor": "white",
            "linecolor": "white",
            "ticks": ""
           },
           "baxis": {
            "gridcolor": "white",
            "linecolor": "white",
            "ticks": ""
           },
           "bgcolor": "#E5ECF6",
           "caxis": {
            "gridcolor": "white",
            "linecolor": "white",
            "ticks": ""
           }
          },
          "title": {
           "x": 0.05
          },
          "xaxis": {
           "automargin": true,
           "gridcolor": "white",
           "linecolor": "white",
           "ticks": "",
           "title": {
            "standoff": 15
           },
           "zerolinecolor": "white",
           "zerolinewidth": 2
          },
          "yaxis": {
           "automargin": true,
           "gridcolor": "white",
           "linecolor": "white",
           "ticks": "",
           "title": {
            "standoff": 15
           },
           "zerolinecolor": "white",
           "zerolinewidth": 2
          }
         }
        },
        "yaxis": {
         "tickformat": ".2f"
        }
       }
      }
     },
     "metadata": {},
     "output_type": "display_data"
    }
   ],
   "source": [
    "import plotly.express as px\n",
    "\n",
    "df_ranks_long = df_ranks_abnormal.T\n",
    "order = df_ranks_long.rank(axis=\"columns\", ascending=False).median(axis=\"rows\").sort_values().index\n",
    "\n",
    "df_ranks_long[\"auc_score\"] = AUCs\n",
    "fig_barplot = px.bar(\n",
    "df_ranks_abnormal,\n",
    "barmode=\"group\",\n",
    ")\n",
    "def rank_sort(df_ranks_abnormal : pd.DataFrame) -> pd.Index:\n",
    "        \"\"\"This takes the dataframe, ranks its variables, and sorts them by the mean ranking\"\"\"\n",
    "        return df_ranks_abnormal.rank(axis=\"rows\").mean(axis=\"columns\").sort_values(ascending=False).index\n",
    "\n",
    "import plotly.express as px\n",
    "order = rank_sort(df_ranks_abnormal) # Converts ranks to an ordered list\n",
    "\n",
    "def wrapper_pcoorplot(df_ranks_abnormal, dims = order.tolist()):\n",
    "        \"\"\"Small wapper around plotly paralel coordinates plot\"\"\"\n",
    "        fig_ranks = px.parallel_coordinates(\n",
    "                df_ranks_abnormal.T, \n",
    "                dimensions=dims,\n",
    "                color=df_ranks_long[\"auc_score\"],\n",
    "                #labels=labels_relabel,\n",
    "                color_continuous_scale='BuGn',\n",
    "        )\n",
    "\n",
    "        fig_ranks.update_layout(\n",
    "                yaxis_tickformat=\".2f\",\n",
    "                coloraxis_colorbar=dict(title=f\"{'AUC'} (test data)\"),\n",
    "        )\n",
    "\n",
    "        return fig_ranks\n",
    "\n",
    "# Creates the figure with the first [:15] features according to ranking\n",
    "fig_abnormal = wrapper_pcoorplot(df_ranks_abnormal, order.tolist()[:10])\n",
    "fig_abnormal.show() # Show fig, as this is a notebook"
   ]
  }
 ],
 "metadata": {
  "kernelspec": {
   "display_name": "playground",
   "language": "python",
   "name": "python3"
  },
  "language_info": {
   "codemirror_mode": {
    "name": "ipython",
    "version": 3
   },
   "file_extension": ".py",
   "mimetype": "text/x-python",
   "name": "python",
   "nbconvert_exporter": "python",
   "pygments_lexer": "ipython3",
   "version": "3.10.11"
  },
  "orig_nbformat": 4
 },
 "nbformat": 4,
 "nbformat_minor": 2
}
