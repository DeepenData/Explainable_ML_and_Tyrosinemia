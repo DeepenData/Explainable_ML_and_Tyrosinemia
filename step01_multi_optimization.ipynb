{
 "cells": [
  {
   "cell_type": "code",
   "execution_count": 14,
   "metadata": {},
   "outputs": [
    {
     "name": "stdout",
     "output_type": "stream",
     "text": [
      "Both CSV files have the same number of columns: 18\n",
      "Column names are the same.\n",
      "Column order is the same.\n",
      "All common columns have the same data types.\n"
     ]
    }
   ],
   "source": [
    "import warnings\n",
    "warnings.filterwarnings(\"ignore\")\n",
    "from utils import *\n",
    "import pickle\n",
    "OPBG = [ 'age at diagnosis (months)',            \n",
    "            'ntbc dosis mg/kg/day',\n",
    "            'ntbc levels (dbs)',\n",
    "            'sca (urine)',\n",
    "            'methionine dbs',\n",
    "            'tyrosine dbs',\n",
    "            'phenylalanine dbs',\n",
    "            'methionine (plasma)',\n",
    "            'tyrosine (plasma)',\n",
    "            'phenylalanine (plasma)',\n",
    "            'inr',\n",
    "            'pt (sec)',\n",
    "            'bili total',\n",
    "            'gpt',\n",
    "            'got',\n",
    "            'ggt',\n",
    "            'alkaline phosphatase',\n",
    "            'alfa-fetoprotein']\n",
    "    \n",
    "df1 = pd.read_csv('data/tirosinemia.csv').loc[:,OPBG]\n",
    "df2 = pd.read_csv('data/tirosinemia_italia.csv').loc[:,OPBG]\n",
    "compare_dataframes(df1, df2)\n",
    "def extract_transform(path, keep_cols, cols_rows_with_missing_values, new_binary_target):\n",
    "    _ , spark_df = SparkDataProcessor().process_data(\n",
    "        data_csv_path= path,\n",
    "        )\n",
    "\n",
    "    return prepare_spark_df(\n",
    "        spark_df=spark_df,\n",
    "        keep_cols=keep_cols,\n",
    "        cols_rows_with_missing_values=cols_rows_with_missing_values,\n",
    "        new_binary_target = new_binary_target,\n",
    "    )\n",
    "\n",
    "binary_target = 'Alpha-Fet'\n",
    "df_train = extract_transform(\"data/tirosinemia.csv\", OPBG,  ['alfa-fetoprotein', 'sca (urine)', 'ntbc levels (dbs)'],binary_target)\n",
    "df_test  = extract_transform(\"data/tirosinemia_italia.csv\", OPBG,  ['alfa-fetoprotein', 'sca (urine)', 'ntbc levels (dbs)'],binary_target)\n",
    "ray_df_train = ray.put(df_train)\n",
    "ray_df_test  = ray.put(df_test)"
   ]
  },
  {
   "cell_type": "code",
   "execution_count": 15,
   "metadata": {},
   "outputs": [],
   "source": [
    "features : list[str] = df_train.columns.tolist()\n",
    "features.remove(binary_target)\n"
   ]
  },
  {
   "cell_type": "code",
   "execution_count": 18,
   "metadata": {},
   "outputs": [
    {
     "name": "stderr",
     "output_type": "stream",
     "text": [
      "\u001b[2m\u001b[36m(make_a_study pid=1559897)\u001b[0m \u001b[32m[I 2023-06-01 22:21:24,096]\u001b[0m A new study created in memory with name: age at diagnosis (months)_predicts_Alpha-Fet\u001b[0m\n",
      "\u001b[2m\u001b[36m(make_a_study pid=1559888)\u001b[0m \u001b[32m[I 2023-06-01 22:21:24,096]\u001b[0m A new study created in memory with name: age at diagnosis (months)_predicts_Alpha-Fet\u001b[0m\n",
      "\u001b[2m\u001b[36m(make_a_study pid=1559897)\u001b[0m \u001b[32m[I 2023-06-01 22:20:35,502]\u001b[0m Trial 9 finished with values: [0.5625, 0.4319020211696625] and parameters: {'max_depth': 5, 'eta': 0.297038894706459, 'subsample': 0.4944462533167917, 'lambda': 0.6598217742234079, 'alpha': 0.5066863576385843, 'scale_pos_weight': 2.7659090073301136, 'kfold_splits': 4}. \u001b[0m\u001b[32m [repeated 17x across cluster]\u001b[0m\n",
      "\u001b[2m\u001b[36m(make_a_study pid=1559888)\u001b[0m \u001b[32m[I 2023-06-01 22:21:24,096]\u001b[0m A new study created in memory with name: ntbc dosis mg/kg/day_predicts_Alpha-Fet\u001b[0m\n",
      "\u001b[2m\u001b[36m(make_a_study pid=1559897)\u001b[0m \u001b[32m[I 2023-06-01 22:21:29,183]\u001b[0m Trial 2 finished with values: [0.9125000000000001, 0.0] and parameters: {'max_depth': 2, 'eta': 0.359920756103038, 'subsample': 0.1248800603956834, 'lambda': 0.6683173373487913, 'alpha': 0.9078151159862343, 'scale_pos_weight': 3.3628541086457147, 'kfold_splits': 3}. \u001b[0m\u001b[32m [repeated 4x across cluster]\u001b[0m\n",
      "\u001b[2m\u001b[36m(make_a_study pid=1559897)\u001b[0m \u001b[32m[I 2023-06-01 22:21:34,704]\u001b[0m Trial 10 finished with values: [0.7375, 0.10988352447748184] and parameters: {'max_depth': 10, 'eta': 0.1831206113376121, 'subsample': 0.36234537730675254, 'lambda': 0.7681640927150188, 'alpha': 0.2306839065192715, 'scale_pos_weight': 0.32078832648218647, 'kfold_splits': 5}. \u001b[0m\u001b[32m [repeated 24x across cluster]\u001b[0m\n",
      "\u001b[2m\u001b[36m(make_a_study pid=1559897)\u001b[0m \u001b[32m[I 2023-06-01 22:21:39,896]\u001b[0m Trial 26 finished with values: [0.48750000000000004, 0.3224855065345764] and parameters: {'max_depth': 3, 'eta': 0.07008730245336396, 'subsample': 0.3117719758815559, 'lambda': 0.17995255927141385, 'alpha': 0.16834830379462185, 'scale_pos_weight': 0.5108065144696083, 'kfold_splits': 2}. \u001b[0m\u001b[32m [repeated 26x across cluster]\u001b[0m\n",
      "\u001b[2m\u001b[36m(make_a_study pid=1559888)\u001b[0m \u001b[32m[I 2023-06-01 22:21:45,210]\u001b[0m Trial 39 finished with values: [0.8125, 0.05738740414381027] and parameters: {'max_depth': 10, 'eta': 0.18157583037571046, 'subsample': 0.3958239224949438, 'lambda': 0.1056117525908482, 'alpha': 0.5713746896101239, 'scale_pos_weight': 4.1043015717992635, 'kfold_splits': 3}. \u001b[0m\u001b[32m [repeated 22x across cluster]\u001b[0m\n",
      "\u001b[2m\u001b[36m(make_a_study pid=1559897)\u001b[0m \u001b[32m[I 2023-06-01 22:21:48,049]\u001b[0m A new study created in memory with name: ntbc levels (dbs)_predicts_Alpha-Fet\u001b[0m\n",
      "\u001b[2m\u001b[36m(make_a_study pid=1559888)\u001b[0m \u001b[32m[I 2023-06-01 22:21:48,451]\u001b[0m A new study created in memory with name: sca (urine)_predicts_Alpha-Fet\u001b[0m\n",
      "\u001b[2m\u001b[36m(make_a_study pid=1559897)\u001b[0m \u001b[32m[I 2023-06-01 22:21:52,416]\u001b[0m Trial 2 finished with values: [0.65, 0.0] and parameters: {'max_depth': 5, 'eta': 0.2375886388044202, 'subsample': 0.3249771848631259, 'lambda': 0.5220121551858341, 'alpha': 0.6940065427421163, 'scale_pos_weight': 4.301571019356814, 'kfold_splits': 2}. \u001b[0m\u001b[32m [repeated 25x across cluster]\u001b[0m\n",
      "\u001b[2m\u001b[36m(make_a_study pid=1559897)\u001b[0m \u001b[32m[I 2023-06-01 22:21:58,056]\u001b[0m Trial 14 finished with values: [0.38750000000000007, 0.0] and parameters: {'max_depth': 8, 'eta': 0.1508403864902162, 'subsample': 0.3822907313089752, 'lambda': 0.09649520742176132, 'alpha': 0.6012619517829247, 'scale_pos_weight': 3.002913662767726, 'kfold_splits': 3}. \u001b[0m\u001b[32m [repeated 26x across cluster]\u001b[0m\n",
      "\u001b[2m\u001b[36m(make_a_study pid=1559897)\u001b[0m \u001b[32m[I 2023-06-01 22:22:03,211]\u001b[0m Trial 20 finished with values: [0.6375000000000001, 0.22138898074626923] and parameters: {'max_depth': 3, 'eta': 0.3326951469810022, 'subsample': 0.3114370352347917, 'lambda': 0.586231238060706, 'alpha': 0.6475757342105017, 'scale_pos_weight': 3.7069803239370454, 'kfold_splits': 5}. \u001b[0m\u001b[32m [repeated 15x across cluster]\u001b[0m\n",
      "\u001b[2m\u001b[36m(make_a_study pid=1559888)\u001b[0m \u001b[32m[I 2023-06-01 22:22:08,347]\u001b[0m Trial 22 finished with values: [0.6125, 0.02113679237663746] and parameters: {'max_depth': 9, 'eta': 0.03888280499474474, 'subsample': 0.1318709482550891, 'lambda': 0.8148940231947256, 'alpha': 0.43959225904239563, 'scale_pos_weight': 2.3747097881102217, 'kfold_splits': 4}. \u001b[0m\u001b[32m [repeated 16x across cluster]\u001b[0m\n",
      "\u001b[2m\u001b[36m(make_a_study pid=1559897)\u001b[0m \u001b[32m[I 2023-06-01 22:22:13,392]\u001b[0m Trial 39 finished with values: [0.5687500000000001, 0.31385672092437744] and parameters: {'max_depth': 4, 'eta': 0.21690725282093604, 'subsample': 0.13226380312826855, 'lambda': 0.7657324150871109, 'alpha': 0.08847167535760037, 'scale_pos_weight': 3.9190303216585356, 'kfold_splits': 5}. \u001b[0m\u001b[32m [repeated 21x across cluster]\u001b[0m\n",
      "\u001b[2m\u001b[36m(make_a_study pid=1559897)\u001b[0m \u001b[32m[I 2023-06-01 22:22:15,553]\u001b[0m A new study created in memory with name: methionine dbs_predicts_Alpha-Fet\u001b[0m\n",
      "\u001b[2m\u001b[36m(make_a_study pid=1559888)\u001b[0m \u001b[32m[I 2023-06-01 22:22:16,054]\u001b[0m A new study created in memory with name: tyrosine dbs_predicts_Alpha-Fet\u001b[0m\n",
      "\u001b[2m\u001b[36m(make_a_study pid=1559897)\u001b[0m \u001b[32m[I 2023-06-01 22:22:19,570]\u001b[0m Trial 7 finished with values: [0.5, 0.0] and parameters: {'max_depth': 4, 'eta': 0.40088266757614427, 'subsample': 0.253045535739709, 'lambda': 0.7535915056864033, 'alpha': 0.3693469456804507, 'scale_pos_weight': 0.15977087884888996, 'kfold_splits': 2}. \u001b[0m\u001b[32m [repeated 22x across cluster]\u001b[0m\n",
      "\u001b[2m\u001b[36m(make_a_study pid=1559897)\u001b[0m \u001b[32m[I 2023-06-01 22:22:24,849]\u001b[0m Trial 8 finished with values: [0.7, 0.01311193685978651] and parameters: {'max_depth': 5, 'eta': 0.02269034410487172, 'subsample': 0.34148602628227076, 'lambda': 0.1071642238116769, 'alpha': 0.6641201549329684, 'scale_pos_weight': 4.533667901855794, 'kfold_splits': 4}. \u001b[0m\u001b[32m [repeated 29x across cluster]\u001b[0m\n",
      "\u001b[2m\u001b[36m(make_a_study pid=1559888)\u001b[0m \u001b[32m[I 2023-06-01 22:22:29,917]\u001b[0m Trial 23 finished with values: [0.75, 0.09918520599603653] and parameters: {'max_depth': 3, 'eta': 0.03482273004025773, 'subsample': 0.4443798696502569, 'lambda': 0.11358003124839544, 'alpha': 0.30199056754333575, 'scale_pos_weight': 1.9957593025071345, 'kfold_splits': 3}. \u001b[0m\u001b[32m [repeated 25x across cluster]\u001b[0m\n",
      "\u001b[2m\u001b[36m(make_a_study pid=1559897)\u001b[0m \u001b[32m[I 2023-06-01 22:22:34,487]\u001b[0m A new study created in memory with name: phenylalanine dbs_predicts_Alpha-Fet\u001b[0m\n",
      "\u001b[2m\u001b[36m(make_a_study pid=1559888)\u001b[0m \u001b[32m[I 2023-06-01 22:22:34,714]\u001b[0m A new study created in memory with name: methionine (plasma)_predicts_Alpha-Fet\u001b[0m\n",
      "\u001b[2m\u001b[36m(make_a_study pid=1559897)\u001b[0m \u001b[32m[I 2023-06-01 22:22:36,680]\u001b[0m Trial 3 finished with values: [0.725, 0.0] and parameters: {'max_depth': 7, 'eta': 0.1235113841527873, 'subsample': 0.11178597685415884, 'lambda': 0.36644400447530345, 'alpha': 0.9320821631933937, 'scale_pos_weight': 4.598026468055764, 'kfold_splits': 2}. \u001b[0m\u001b[32m [repeated 46x across cluster]\u001b[0m\n",
      "\u001b[2m\u001b[36m(make_a_study pid=1559897)\u001b[0m \u001b[32m[I 2023-06-01 22:22:41,958]\u001b[0m Trial 20 finished with values: [0.39999999999999997, 0.13557998836040497] and parameters: {'max_depth': 9, 'eta': 0.04462076348607085, 'subsample': 0.21586295346708836, 'lambda': 0.6485783958625447, 'alpha': 0.5740448815662309, 'scale_pos_weight': 4.205768876233276, 'kfold_splits': 5}. \u001b[0m\u001b[32m [repeated 42x across cluster]\u001b[0m\n",
      "\u001b[2m\u001b[36m(make_a_study pid=1559897)\u001b[0m \u001b[32m[I 2023-06-01 22:22:47,353]\u001b[0m Trial 29 finished with values: [0.675, 0.13149961829185486] and parameters: {'max_depth': 4, 'eta': 0.011333747171959146, 'subsample': 0.41990386396707646, 'lambda': 0.5013635787852485, 'alpha': 0.5438041103787268, 'scale_pos_weight': 3.985684756502437, 'kfold_splits': 5}. \u001b[0m\u001b[32m [repeated 42x across cluster]\u001b[0m\n",
      "\u001b[2m\u001b[36m(make_a_study pid=1559888)\u001b[0m \u001b[32m[I 2023-06-01 22:22:47,966]\u001b[0m A new study created in memory with name: tyrosine (plasma)_predicts_Alpha-Fet\u001b[0m\n",
      "\u001b[2m\u001b[36m(make_a_study pid=1559897)\u001b[0m \u001b[32m[I 2023-06-01 22:22:48,592]\u001b[0m A new study created in memory with name: phenylalanine (plasma)_predicts_Alpha-Fet\u001b[0m\n",
      "\u001b[2m\u001b[36m(make_a_study pid=1559888)\u001b[0m \u001b[32m[I 2023-06-01 22:22:52,412]\u001b[0m Trial 3 finished with values: [0.7062499999999999, 0.0] and parameters: {'max_depth': 7, 'eta': 0.46084742083736563, 'subsample': 0.11902096540499803, 'lambda': 0.9656216923918552, 'alpha': 0.5954399995661447, 'scale_pos_weight': 2.624231620639354, 'kfold_splits': 3}. \u001b[0m\u001b[32m [repeated 19x across cluster]\u001b[0m\n",
      "\u001b[2m\u001b[36m(make_a_study pid=1559897)\u001b[0m \u001b[32m[I 2023-06-01 22:22:57,800]\u001b[0m Trial 13 finished with values: [0.81875, 0.13217896223068237] and parameters: {'max_depth': 4, 'eta': 0.3672673150557235, 'subsample': 0.1912280206413436, 'lambda': 0.43473457857499953, 'alpha': 0.005217432991871607, 'scale_pos_weight': 2.642008824321423, 'kfold_splits': 4}. \u001b[0m\u001b[32m [repeated 23x across cluster]\u001b[0m\n",
      "\u001b[2m\u001b[36m(make_a_study pid=1559897)\u001b[0m \u001b[32m[I 2023-06-01 22:23:03,175]\u001b[0m Trial 24 finished with values: [0.4375, 0.0] and parameters: {'max_depth': 3, 'eta': 0.17135846379490974, 'subsample': 0.4101558714888782, 'lambda': 0.46015902787810825, 'alpha': 0.8413038115900577, 'scale_pos_weight': 4.234380279019753, 'kfold_splits': 2}. \u001b[0m\u001b[32m [repeated 22x across cluster]\u001b[0m\n",
      "\u001b[2m\u001b[36m(make_a_study pid=1559888)\u001b[0m \u001b[32m[I 2023-06-01 22:23:08,149]\u001b[0m Trial 33 finished with values: [0.4875, 0.06382901966571808] and parameters: {'max_depth': 3, 'eta': 0.08969655390844511, 'subsample': 0.485777865366376, 'lambda': 0.205433802495535, 'alpha': 0.651033624370502, 'scale_pos_weight': 3.260751275036201, 'kfold_splits': 2}. \u001b[0m\u001b[32m [repeated 19x across cluster]\u001b[0m\n",
      "\u001b[2m\u001b[36m(make_a_study pid=1559888)\u001b[0m \u001b[32m[I 2023-06-01 22:23:12,117]\u001b[0m A new study created in memory with name: inr_predicts_Alpha-Fet\u001b[0m\n",
      "\u001b[2m\u001b[36m(make_a_study pid=1559897)\u001b[0m \u001b[32m[I 2023-06-01 22:23:13,794]\u001b[0m Trial 48 finished with values: [0.7875, 0.808764636516571] and parameters: {'max_depth': 9, 'eta': 0.4035054283910869, 'subsample': 0.2539674346142773, 'lambda': 0.32289577517814727, 'alpha': 0.40552646962438643, 'scale_pos_weight': 4.389521451967227, 'kfold_splits': 4}. \u001b[0m\u001b[32m [repeated 31x across cluster]\u001b[0m\n",
      "\u001b[2m\u001b[36m(make_a_study pid=1559897)\u001b[0m \u001b[32m[I 2023-06-01 22:23:13,822]\u001b[0m A new study created in memory with name: pt (sec)_predicts_Alpha-Fet\u001b[0m\n",
      "\u001b[2m\u001b[36m(make_a_study pid=1559897)\u001b[0m \u001b[32m[I 2023-06-01 22:23:18,863]\u001b[0m Trial 7 finished with values: [0.775, 0.21865570545196533] and parameters: {'max_depth': 2, 'eta': 0.32417887075240837, 'subsample': 0.43829972162568853, 'lambda': 0.9674404097001346, 'alpha': 0.6788801742395648, 'scale_pos_weight': 2.796480513634607, 'kfold_splits': 5}. \u001b[0m\u001b[32m [repeated 13x across cluster]\u001b[0m\n",
      "\u001b[2m\u001b[36m(make_a_study pid=1559888)\u001b[0m \u001b[32m[I 2023-06-01 22:23:24,226]\u001b[0m Trial 16 finished with values: [0.7250000000000001, 0.0] and parameters: {'max_depth': 9, 'eta': 0.28245393885436365, 'subsample': 0.2830068701266728, 'lambda': 0.49945586575295753, 'alpha': 0.7315547618015777, 'scale_pos_weight': 2.2815399846577074, 'kfold_splits': 4}. \u001b[0m\u001b[32m [repeated 20x across cluster]\u001b[0m\n",
      "\u001b[2m\u001b[36m(make_a_study pid=1559897)\u001b[0m \u001b[32m[I 2023-06-01 22:23:29,696]\u001b[0m Trial 24 finished with values: [0.525, 0.32708674669265747] and parameters: {'max_depth': 5, 'eta': 0.45445947377741025, 'subsample': 0.25364663671216114, 'lambda': 0.002237868560433287, 'alpha': 0.7661677567746557, 'scale_pos_weight': 2.853272109534065, 'kfold_splits': 3}. \u001b[0m\u001b[32m [repeated 18x across cluster]\u001b[0m\n",
      "\u001b[2m\u001b[36m(make_a_study pid=1559897)\u001b[0m \u001b[32m[I 2023-06-01 22:23:35,157]\u001b[0m Trial 36 finished with values: [0.71875, 0.0] and parameters: {'max_depth': 10, 'eta': 0.3820420230323571, 'subsample': 0.1442987217684531, 'lambda': 0.7770806993298935, 'alpha': 0.2321988278532584, 'scale_pos_weight': 1.2593775264872171, 'kfold_splits': 2}. \u001b[0m\u001b[32m [repeated 25x across cluster]\u001b[0m\n",
      "\u001b[2m\u001b[36m(make_a_study pid=1559888)\u001b[0m \u001b[32m[I 2023-06-01 22:23:37,967]\u001b[0m A new study created in memory with name: bili total_predicts_Alpha-Fet\u001b[0m\n",
      "\u001b[2m\u001b[36m(make_a_study pid=1559897)\u001b[0m \u001b[32m[I 2023-06-01 22:23:38,214]\u001b[0m A new study created in memory with name: gpt_predicts_Alpha-Fet\u001b[0m\n",
      "\u001b[2m\u001b[36m(make_a_study pid=1559888)\u001b[0m \u001b[32m[I 2023-06-01 22:23:42,213]\u001b[0m Trial 0 finished with values: [0.69375, 0.05983947962522507] and parameters: {'max_depth': 5, 'eta': 0.24197094790961296, 'subsample': 0.3948420326939436, 'lambda': 0.9904967249643575, 'alpha': 0.00712272901673161, 'scale_pos_weight': 4.698572789011999, 'kfold_splits': 2}. \u001b[0m\u001b[32m [repeated 27x across cluster]\u001b[0m\n",
      "\u001b[2m\u001b[36m(make_a_study pid=1559888)\u001b[0m \u001b[32m[I 2023-06-01 22:23:47,311]\u001b[0m Trial 10 finished with values: [0.45625, 0.0] and parameters: {'max_depth': 7, 'eta': 0.13760515596599873, 'subsample': 0.4277810521322417, 'lambda': 0.3371966474739603, 'alpha': 0.38829600574417855, 'scale_pos_weight': 3.934994122636387, 'kfold_splits': 4}. \u001b[0m\u001b[32m [repeated 22x across cluster]\u001b[0m\n",
      "\u001b[2m\u001b[36m(make_a_study pid=1559897)\u001b[0m \u001b[32m[I 2023-06-01 22:23:53,827]\u001b[0m Trial 22 finished with values: [0.6125, 0.7182677388191223] and parameters: {'max_depth': 3, 'eta': 0.2842286613365123, 'subsample': 0.3101334826671386, 'lambda': 0.086446981991257, 'alpha': 0.33523153685648954, 'scale_pos_weight': 0.960670125750881, 'kfold_splits': 4}. \u001b[0m\u001b[32m [repeated 23x across cluster]\u001b[0m\n",
      "\u001b[2m\u001b[36m(make_a_study pid=1559888)\u001b[0m \u001b[32m[I 2023-06-01 22:23:59,098]\u001b[0m Trial 32 finished with values: [0.7125, 0.01196687389165163] and parameters: {'max_depth': 6, 'eta': 0.042718682141008935, 'subsample': 0.1597673758567741, 'lambda': 0.4478669544209549, 'alpha': 0.5943205573612726, 'scale_pos_weight': 1.8172075655782098, 'kfold_splits': 3}. \u001b[0m\u001b[32m [repeated 21x across cluster]\u001b[0m\n",
      "\u001b[2m\u001b[36m(make_a_study pid=1559888)\u001b[0m \u001b[32m[I 2023-06-01 22:24:03,642]\u001b[0m A new study created in memory with name: got_predicts_Alpha-Fet\u001b[0m\n",
      "\u001b[2m\u001b[36m(make_a_study pid=1559897)\u001b[0m \u001b[32m[I 2023-06-01 22:24:04,223]\u001b[0m Trial 47 finished with values: [0.2625, 0.0] and parameters: {'max_depth': 5, 'eta': 0.33896147493125894, 'subsample': 0.13116660552353118, 'lambda': 0.029088395135124068, 'alpha': 0.8307006891908056, 'scale_pos_weight': 4.440306607825577, 'kfold_splits': 2}. \u001b[0m\u001b[32m [repeated 30x across cluster]\u001b[0m\n",
      "\u001b[2m\u001b[36m(make_a_study pid=1559897)\u001b[0m \u001b[32m[I 2023-06-01 22:24:08,799]\u001b[0m Trial 4 finished with values: [0.54375, 0.04366760328412056] and parameters: {'max_depth': 10, 'eta': 0.16279292791576, 'subsample': 0.42297276426773933, 'lambda': 0.8644098502831358, 'alpha': 0.42871554085839714, 'scale_pos_weight': 1.5118310124418595, 'kfold_splits': 4}. \u001b[0m\n",
      "\u001b[2m\u001b[36m(make_a_study pid=1559897)\u001b[0m \u001b[32m[I 2023-06-01 22:24:09,696]\u001b[0m Trial 1 finished with values: [0.925, 0.09846390783786774] and parameters: {'max_depth': 3, 'eta': 0.08832977340064666, 'subsample': 0.14338283383032926, 'lambda': 0.7698984748916314, 'alpha': 0.2469888813744433, 'scale_pos_weight': 3.951225570663857, 'kfold_splits': 4}. \u001b[0m\u001b[32m [repeated 16x across cluster]\u001b[0m\n",
      "\u001b[2m\u001b[36m(make_a_study pid=1559897)\u001b[0m \u001b[32m[I 2023-06-01 22:24:15,080]\u001b[0m Trial 14 finished with values: [0.71875, 0.2728129029273987] and parameters: {'max_depth': 3, 'eta': 0.33311453626373333, 'subsample': 0.25512137539180213, 'lambda': 0.8896093032478927, 'alpha': 0.3209856356127788, 'scale_pos_weight': 1.913921156092413, 'kfold_splits': 2}. \u001b[0m\u001b[32m [repeated 16x across cluster]\u001b[0m\n",
      "\u001b[2m\u001b[36m(make_a_study pid=1559888)\u001b[0m \u001b[32m[I 2023-06-01 22:24:20,388]\u001b[0m Trial 28 finished with values: [0.80625, 0.08196938037872314] and parameters: {'max_depth': 2, 'eta': 0.27164252951819495, 'subsample': 0.13495938842678223, 'lambda': 0.595072447205277, 'alpha': 0.7362293029981738, 'scale_pos_weight': 3.6609460010437234, 'kfold_splits': 3}. \u001b[0m\u001b[32m [repeated 22x across cluster]\u001b[0m\n",
      "\u001b[2m\u001b[36m(make_a_study pid=1559897)\u001b[0m \u001b[32m[I 2023-06-01 22:24:25,726]\u001b[0m Trial 34 finished with values: [0.6000000000000001, 0.41544613242149353] and parameters: {'max_depth': 9, 'eta': 0.39995400877825305, 'subsample': 0.46258385826579695, 'lambda': 0.7628478581202808, 'alpha': 0.5946371411979497, 'scale_pos_weight': 3.865631291358629, 'kfold_splits': 3}. \u001b[0m\u001b[32m [repeated 22x across cluster]\u001b[0m\n",
      "\u001b[2m\u001b[36m(make_a_study pid=1559888)\u001b[0m \u001b[32m[I 2023-06-01 22:24:28,900]\u001b[0m A new study created in memory with name: alkaline phosphatase_predicts_Alpha-Fet\u001b[0m\n",
      "\u001b[2m\u001b[36m(make_a_study pid=1559888)\u001b[0m \u001b[32m[I 2023-06-01 22:24:32,661]\u001b[0m Trial 7 finished with values: [0.41875, 0.057897768914699554] and parameters: {'max_depth': 2, 'eta': 0.40956407212006996, 'subsample': 0.4690095859756146, 'lambda': 0.45487427802707625, 'alpha': 0.851454263024097, 'scale_pos_weight': 3.907901780115881, 'kfold_splits': 2}. \u001b[0m\u001b[32m [repeated 28x across cluster]\u001b[0m\n",
      "\u001b[2m\u001b[36m(make_a_study pid=1559888)\u001b[0m \u001b[32m[I 2023-06-01 22:24:39,231]\u001b[0m Trial 9 finished with values: [0.55, 0.27078619599342346] and parameters: {'max_depth': 3, 'eta': 0.4812879026417466, 'subsample': 0.2889145143692398, 'lambda': 0.6244317961374914, 'alpha': 0.7600526562385219, 'scale_pos_weight': 4.99373140049906, 'kfold_splits': 2}. \u001b[0m\u001b[32m [repeated 7x across cluster]\u001b[0m\n",
      "\u001b[2m\u001b[36m(make_a_study pid=1559888)\u001b[0m \u001b[32m[I 2023-06-01 22:24:45,766]\u001b[0m Trial 16 finished with values: [0.6875, 1.2705647945404053] and parameters: {'max_depth': 7, 'eta': 0.4598520966659575, 'subsample': 0.3333053106992103, 'lambda': 0.6348626486985064, 'alpha': 0.0017323597271978741, 'scale_pos_weight': 1.7549055331100845, 'kfold_splits': 2}. \u001b[0m\u001b[32m [repeated 8x across cluster]\u001b[0m\n",
      "\u001b[2m\u001b[36m(make_a_study pid=1559888)\u001b[0m \u001b[32m[I 2023-06-01 22:24:51,707]\u001b[0m Trial 23 finished with values: [0.625, 0.3511991500854492] and parameters: {'max_depth': 2, 'eta': 0.1600860519763727, 'subsample': 0.3818574586981339, 'lambda': 0.9179033899776291, 'alpha': 0.4567169657632708, 'scale_pos_weight': 4.047848967330817, 'kfold_splits': 5}. \u001b[0m\u001b[32m [repeated 7x across cluster]\u001b[0m\n",
      "\u001b[2m\u001b[36m(make_a_study pid=1559888)\u001b[0m \u001b[32m[I 2023-06-01 22:24:58,509]\u001b[0m Trial 32 finished with values: [0.7812500000000001, 0.0] and parameters: {'max_depth': 6, 'eta': 0.3033823091845644, 'subsample': 0.12673164890049923, 'lambda': 0.09136765283906134, 'alpha': 0.3188555400235056, 'scale_pos_weight': 1.3792937223160562, 'kfold_splits': 4}. \u001b[0m\u001b[32m [repeated 8x across cluster]\u001b[0m\n",
      "\u001b[2m\u001b[36m(make_a_study pid=1559888)\u001b[0m \u001b[32m[I 2023-06-01 22:25:05,266]\u001b[0m Trial 31 finished with values: [0.375, 0.2623829245567322] and parameters: {'max_depth': 9, 'eta': 0.0526049032361522, 'subsample': 0.3457331332234753, 'lambda': 0.9117523709660853, 'alpha': 0.9685276137753401, 'scale_pos_weight': 2.4302907355242813, 'kfold_splits': 3}. \u001b[0m\u001b[32m [repeated 7x across cluster]\u001b[0m\n"
     ]
    },
    {
     "name": "stdout",
     "output_type": "stream",
     "text": [
      "CPU times: user 7.16 s, sys: 7.39 s, total: 14.6 s\n",
      "Wall time: 3min 45s\n"
     ]
    }
   ],
   "source": [
    "%%time\n",
    "\n",
    "studies = make_multiple_studies(\n",
    "    ray_df_train, \n",
    "    features = features,\n",
    "    targets = [binary_target],\n",
    "    n_trials=50,\n",
    "    Independent_testset = True,\n",
    "    Independent_testset_df = ray_df_test\n",
    ")\n",
    "\n",
    "studies = ray.get(studies)"
   ]
  },
  {
   "cell_type": "code",
   "execution_count": 20,
   "metadata": {},
   "outputs": [],
   "source": [
    "with open('studies_independent_testset.pickle', 'wb') as handle:\n",
    "    pickle.dump(studies, handle, protocol=pickle.HIGHEST_PROTOCOL)    "
   ]
  }
 ],
 "metadata": {
  "kernelspec": {
   "display_name": "spark",
   "language": "python",
   "name": "python3"
  },
  "language_info": {
   "codemirror_mode": {
    "name": "ipython",
    "version": 3
   },
   "file_extension": ".py",
   "mimetype": "text/x-python",
   "name": "python",
   "nbconvert_exporter": "python",
   "pygments_lexer": "ipython3",
   "version": "3.10.11"
  },
  "orig_nbformat": 4
 },
 "nbformat": 4,
 "nbformat_minor": 2
}
