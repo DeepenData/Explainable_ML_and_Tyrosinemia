{
 "cells": [
  {
   "cell_type": "code",
   "execution_count": 1,
   "metadata": {},
   "outputs": [],
   "source": [
    "import warnings\n",
    "warnings.filterwarnings(\"ignore\")\n",
    "from utils import *\n",
    "import pickle\n",
    "\n",
    "def extract_transform(path, keep_cols, cols_rows_with_missing_values, new_binary_target):\n",
    "    _ , spark_df = SparkDataProcessor().process_data(\n",
    "        data_csv_path= path,\n",
    "        )\n",
    "\n",
    "    return prepare_spark_df(\n",
    "        spark_df=spark_df,\n",
    "        keep_cols=keep_cols,\n",
    "        cols_rows_with_missing_values=cols_rows_with_missing_values,\n",
    "        new_binary_target = new_binary_target,\n",
    "    )\n",
    "# compare_dataframes(df1, df2)\n",
    "# df1.columns, df2.columns\n",
    "OPBG = [ 'código','age at diagnosis (months)',            \n",
    "            'ntbc dosis mg/kg/day',\n",
    "            'ntbc levels (dbs)',\n",
    "            'sca (urine)',\n",
    "            'methionine (plasma)',\n",
    "            'tyrosine (plasma)',\n",
    "            'phenylalanine (plasma)',\n",
    "            'pt (sec)',\n",
    "            'bili total',\n",
    "            'gpt',\n",
    "            'got',\n",
    "            'ggt',\n",
    "            'alkaline phosphatase',\n",
    "            'alfa-fetoprotein','glicemia']\n",
    "\n",
    "\n",
    "# OPBG = [ 'age at diagnosis (months)',    'código',   \n",
    "#                 'ntbc dosis mg/kg/day',\n",
    "#                 'ntbc levels (dbs)',\n",
    "#                 'sca (urine)',\n",
    "#                 'methionine dbs',\n",
    "#                 'tyrosine dbs',\n",
    "#                 'phenylalanine dbs',\n",
    "#                 'methionine (plasma)',\n",
    "#                 'tyrosine (plasma)',\n",
    "#                 'phenylalanine (plasma)',\n",
    "#                 'inr',\n",
    "#                 'pt (sec)',\n",
    "#                 'bili total',\n",
    "#                 'gpt',\n",
    "#                 'got',\n",
    "#                 'ggt',\n",
    "#                 'alkaline phosphatase',\n",
    "#                 'alfa-fetoprotein',]\n",
    "    \n",
    "# df1 = pd.read_csv('data/tirosinemia.csv').loc[:,OPBG]\n",
    "# df2 = pd.read_csv('data/tirosinemia_italia.csv').loc[:,OPBG]"
   ]
  },
  {
   "cell_type": "code",
   "execution_count": 3,
   "metadata": {},
   "outputs": [
    {
     "name": "stdout",
     "output_type": "stream",
     "text": [
      "Both CSV files have the same number of columns: 15\n",
      "Column names are the same.\n",
      "Column order is the same.\n",
      "All common columns have the same data types.\n",
      "Both CSV files have the same number of columns: 15\n",
      "Column names are the same.\n",
      "Column order is the same.\n",
      "All common columns have the same data types.\n"
     ]
    },
    {
     "data": {
      "text/plain": [
       "True"
      ]
     },
     "execution_count": 3,
     "metadata": {},
     "output_type": "execute_result"
    }
   ],
   "source": [
    "binary_target = 'Alpha-Fet'\n",
    "df_train, _ = extract_transform(\"data/tirosinemia.csv\",                 OPBG, ['alfa-fetoprotein', 'sca (urine)'],binary_target)\n",
    "df_train.drop('código', axis=1, inplace=True)\n",
    "df_test, df_test_raw  = extract_transform(\"data/tirosinemia_italia.csv\", OPBG, ['alfa-fetoprotein', 'sca (urine)'],binary_target)\n",
    "Rome_mask = df_test_raw['código'].str.startswith('R')\n",
    "\n",
    "df_test_FLOR  = encode_and_convert (df_test[~Rome_mask].drop('código', axis=1).reset_index(inplace=False, drop=True))\n",
    "df_test_ROME  = encode_and_convert (df_test[Rome_mask].drop('código', axis=1).reset_index(inplace=False, drop=True))\n",
    "df_test_FLOR['Alpha-Fet'] = df_test_FLOR['Alpha-Fet'].astype('int8').astype('category')\n",
    "df_test_ROME['Alpha-Fet'] = df_test_ROME['Alpha-Fet'].astype('int8').astype('category')\n",
    "\n",
    "\n",
    "compare_dataframes(df_test_ROME, df_test_FLOR) == compare_dataframes(df_train, df_test_ROME)\n",
    "\n"
   ]
  },
  {
   "cell_type": "code",
   "execution_count": 5,
   "metadata": {},
   "outputs": [],
   "source": [
    "df_train.to_parquet(\"data/train.parquet.gzip\")\n",
    "df_test_ROME.to_parquet(\"data/test.parquet.gzip\")"
   ]
  },
  {
   "cell_type": "code",
   "execution_count": 6,
   "metadata": {},
   "outputs": [
    {
     "name": "stderr",
     "output_type": "stream",
     "text": [
      "2023-06-07 20:02:14,803\tINFO worker.py:1616 -- Started a local Ray instance. View the dashboard at \u001b[1m\u001b[32m127.0.0.1:8265 \u001b[39m\u001b[22m\n"
     ]
    }
   ],
   "source": [
    "ray.shutdown()\n",
    "ray_df_train = ray.put(df_train)\n",
    "ray_df_test  = ray.put(df_test_ROME)"
   ]
  },
  {
   "cell_type": "code",
   "execution_count": 7,
   "metadata": {},
   "outputs": [
    {
     "data": {
      "text/plain": [
       "['age at diagnosis (months)',\n",
       " 'ntbc dosis mg/kg/day',\n",
       " 'ntbc levels (dbs)',\n",
       " 'sca (urine)',\n",
       " 'methionine (plasma)',\n",
       " 'tyrosine (plasma)',\n",
       " 'phenylalanine (plasma)',\n",
       " 'pt (sec)',\n",
       " 'bili total',\n",
       " 'gpt',\n",
       " 'got',\n",
       " 'ggt',\n",
       " 'alkaline phosphatase',\n",
       " 'glicemia']"
      ]
     },
     "execution_count": 7,
     "metadata": {},
     "output_type": "execute_result"
    }
   ],
   "source": [
    "features : list[str] = df_train.columns.tolist()\n",
    "features.remove(binary_target)\n",
    "features"
   ]
  },
  {
   "cell_type": "code",
   "execution_count": 9,
   "metadata": {},
   "outputs": [
    {
     "name": "stderr",
     "output_type": "stream",
     "text": [
      "\u001b[2m\u001b[36m(make_a_study pid=8462)\u001b[0m \u001b[32m[I 2023-06-07 20:38:05,412]\u001b[0m A new study created in memory with name: ntbc dosis mg/kg/day (Alpha-Fet)\u001b[0m\n",
      "\u001b[2m\u001b[36m(make_a_study pid=8459)\u001b[0m \u001b[32m[I 2023-06-07 20:02:38,457]\u001b[0m Trial 3 finished with values: [0.8888888888888888, 0.15080341696739197] and parameters: {'seed': 9771, 'max_depth': 7, 'eta': 0.18521273464702218, 'subsample': 0.21338326784327474, 'lambda': 0.8260651652673303, 'alpha': 0.6849885136760645, 'scale_pos_weight': 4.489663040047078, 'kfold_splits': 5}. \u001b[0m\u001b[32m [repeated 3x across cluster]\u001b[0m\n",
      "\u001b[2m\u001b[36m(make_a_study pid=8459)\u001b[0m \u001b[32m[I 2023-06-07 20:38:05,412]\u001b[0m A new study created in memory with name: age at diagnosis (months) (Alpha-Fet)\u001b[0m\n",
      "\u001b[2m\u001b[36m(make_a_study pid=8460)\u001b[0m \u001b[32m[I 2023-06-07 20:38:05,412]\u001b[0m A new study created in memory with name: ntbc levels (dbs) (Alpha-Fet)\u001b[0m\n",
      "\u001b[2m\u001b[36m(make_a_study pid=8452)\u001b[0m \u001b[32m[I 2023-06-07 20:38:05,412]\u001b[0m A new study created in memory with name: sca (urine) (Alpha-Fet)\u001b[0m\n",
      "\u001b[2m\u001b[36m(make_a_study pid=8452)\u001b[0m \u001b[32m[I 2023-06-07 20:38:10,504]\u001b[0m Trial 3 finished with values: [0.6818181818181818, 0.0314754918217659] and parameters: {'seed': 3992, 'max_depth': 6, 'eta': 0.03394403256759957, 'subsample': 0.24338874000236774, 'lambda': 0.07066140581716418, 'alpha': 0.07925910320592633, 'scale_pos_weight': 1.9786121267705052, 'kfold_splits': 2}. \u001b[0m\u001b[32m [repeated 7x across cluster]\u001b[0m\n",
      "\u001b[2m\u001b[36m(make_a_study pid=8452)\u001b[0m \u001b[32m[I 2023-06-07 20:38:14,666]\u001b[0m A new study created in memory with name: methionine (plasma) (Alpha-Fet)\u001b[0m\n",
      "\u001b[2m\u001b[36m(make_a_study pid=8462)\u001b[0m \u001b[32m[I 2023-06-07 20:38:14,785]\u001b[0m A new study created in memory with name: tyrosine (plasma) (Alpha-Fet)\u001b[0m\n",
      "\u001b[2m\u001b[36m(make_a_study pid=8459)\u001b[0m \u001b[32m[I 2023-06-07 20:38:14,832]\u001b[0m A new study created in memory with name: phenylalanine (plasma) (Alpha-Fet)\u001b[0m\n",
      "\u001b[2m\u001b[36m(make_a_study pid=8460)\u001b[0m \u001b[32m[I 2023-06-07 20:38:14,852]\u001b[0m A new study created in memory with name: pt (sec) (Alpha-Fet)\u001b[0m\n",
      "\u001b[2m\u001b[36m(make_a_study pid=8452)\u001b[0m \u001b[32m[I 2023-06-07 20:38:18,183]\u001b[0m Trial 0 finished with values: [0.8484848484848484, 0.09103475511074066] and parameters: {'seed': 20, 'max_depth': 3, 'eta': 0.28168337526109416, 'subsample': 0.14235523995631605, 'lambda': 0.3050953399548595, 'alpha': 0.6168900623040725, 'scale_pos_weight': 2.054770695436358, 'kfold_splits': 3}. \u001b[0m\u001b[32m [repeated 14x across cluster]\u001b[0m\n",
      "\u001b[2m\u001b[36m(make_a_study pid=8459)\u001b[0m \u001b[32m[I 2023-06-07 20:38:21,601]\u001b[0m A new study created in memory with name: got (Alpha-Fet)\u001b[0m\n",
      "\u001b[2m\u001b[36m(make_a_study pid=8460)\u001b[0m \u001b[32m[I 2023-06-07 20:38:21,580]\u001b[0m A new study created in memory with name: gpt (Alpha-Fet)\u001b[0m\n",
      "\u001b[2m\u001b[36m(make_a_study pid=8452)\u001b[0m \u001b[32m[I 2023-06-07 20:38:21,567]\u001b[0m A new study created in memory with name: bili total (Alpha-Fet)\u001b[0m\n",
      "\u001b[2m\u001b[36m(make_a_study pid=8462)\u001b[0m \u001b[32m[I 2023-06-07 20:38:21,724]\u001b[0m A new study created in memory with name: ggt (Alpha-Fet)\u001b[0m\n",
      "\u001b[2m\u001b[36m(make_a_study pid=8460)\u001b[0m \u001b[32m[I 2023-06-07 20:38:25,008]\u001b[0m Trial 2 finished with values: [0.44191919191919193, 0.0] and parameters: {'seed': 2526, 'max_depth': 4, 'eta': 0.3471269919044756, 'subsample': 0.11552953417280416, 'lambda': 0.1797294182980146, 'alpha': 0.928851914389503, 'scale_pos_weight': 3.609145667980986, 'kfold_splits': 2}. \u001b[0m\u001b[32m [repeated 20x across cluster]\u001b[0m\n",
      "\u001b[2m\u001b[36m(make_a_study pid=8460)\u001b[0m \u001b[32m[I 2023-06-07 20:38:25,299]\u001b[0m A new study created in memory with name: alkaline phosphatase (Alpha-Fet)\u001b[0m\n",
      "\u001b[2m\u001b[36m(make_a_study pid=8459)\u001b[0m \u001b[32m[I 2023-06-07 20:38:27,128]\u001b[0m A new study created in memory with name: glicemia (Alpha-Fet)\u001b[0m\n",
      "\u001b[2m\u001b[36m(make_a_study pid=8460)\u001b[0m \u001b[32m[I 2023-06-07 20:38:35,593]\u001b[0m Trial 2 finished with values: [0.5, 0.0] and parameters: {'seed': 4964, 'max_depth': 2, 'eta': 0.04693331063551348, 'subsample': 0.1561728647440265, 'lambda': 0.1684701328002226, 'alpha': 0.3256875100504453, 'scale_pos_weight': 0.1886367458258259, 'kfold_splits': 3}. \u001b[0m\u001b[32m [repeated 21x across cluster]\u001b[0m\n"
     ]
    },
    {
     "name": "stdout",
     "output_type": "stream",
     "text": [
      "CPU times: user 784 ms, sys: 729 ms, total: 1.51 s\n",
      "Wall time: 34 s\n"
     ]
    },
    {
     "ename": "",
     "evalue": "",
     "output_type": "error",
     "traceback": [
      "\u001b[1;31mThe Kernel crashed while executing code in the the current cell or a previous cell. Please review the code in the cell(s) to identify a possible cause of the failure. Click <a href='https://aka.ms/vscodeJupyterKernelCrash'>here</a> for more info. View Jupyter <a href='command:jupyter.viewOutput'>log</a> for further details."
     ]
    }
   ],
   "source": [
    "%%time\n",
    "\n",
    "studies = make_multiple_studies(\n",
    "    ray_df_train, \n",
    "    features = features,\n",
    "    targets = [binary_target],\n",
    "    n_trials=5,\n",
    "    Independent_testset = False,\n",
    "    Independent_testset_df = ray.put(df_test_ROME)\n",
    ")\n",
    "\n",
    "studies = ray.get(studies)"
   ]
  },
  {
   "cell_type": "code",
   "execution_count": null,
   "metadata": {},
   "outputs": [],
   "source": [
    "with open('chile.pickle', 'wb') as handle:\n",
    "    pickle.dump(studies, handle, protocol=pickle.HIGHEST_PROTOCOL)    "
   ]
  }
 ],
 "metadata": {
  "kernelspec": {
   "display_name": "spark",
   "language": "python",
   "name": "python3"
  },
  "language_info": {
   "codemirror_mode": {
    "name": "ipython",
    "version": 3
   },
   "file_extension": ".py",
   "mimetype": "text/x-python",
   "name": "python",
   "nbconvert_exporter": "python",
   "pygments_lexer": "ipython3",
   "version": "3.10.11"
  },
  "orig_nbformat": 4
 },
 "nbformat": 4,
 "nbformat_minor": 2
}
