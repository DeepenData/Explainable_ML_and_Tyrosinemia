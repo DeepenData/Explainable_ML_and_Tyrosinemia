{
 "cells": [
  {
   "cell_type": "code",
   "execution_count": 1,
   "metadata": {},
   "outputs": [
    {
     "name": "stdout",
     "output_type": "stream",
     "text": [
      "Both CSV files have the same number of columns: 16\n",
      "Column names are the same.\n",
      "Column order is the same.\n",
      "All common columns have the same data types.\n"
     ]
    },
    {
     "data": {
      "text/plain": [
       "(Index(['código', 'age at diagnosis (months)', 'ntbc dosis mg/kg/day',\n",
       "        'ntbc levels (dbs)', 'sca (urine)', 'methionine (plasma)',\n",
       "        'tyrosine (plasma)', 'phenylalanine (plasma)', 'pt (sec)', 'bili total',\n",
       "        'gpt', 'got', 'ggt', 'alkaline phosphatase', 'alfa-fetoprotein',\n",
       "        'glicemia'],\n",
       "       dtype='object'),\n",
       " Index(['código', 'age at diagnosis (months)', 'ntbc dosis mg/kg/day',\n",
       "        'ntbc levels (dbs)', 'sca (urine)', 'methionine (plasma)',\n",
       "        'tyrosine (plasma)', 'phenylalanine (plasma)', 'pt (sec)', 'bili total',\n",
       "        'gpt', 'got', 'ggt', 'alkaline phosphatase', 'alfa-fetoprotein',\n",
       "        'glicemia'],\n",
       "       dtype='object'))"
      ]
     },
     "execution_count": 1,
     "metadata": {},
     "output_type": "execute_result"
    }
   ],
   "source": [
    "import warnings\n",
    "warnings.filterwarnings(\"ignore\")\n",
    "from utils import *\n",
    "import pickle\n",
    "OPBG = [ 'código','age at diagnosis (months)',            \n",
    "            'ntbc dosis mg/kg/day',\n",
    "            'ntbc levels (dbs)',\n",
    "            'sca (urine)',\n",
    "            'methionine (plasma)',\n",
    "            'tyrosine (plasma)',\n",
    "            'phenylalanine (plasma)',\n",
    "            'pt (sec)',\n",
    "            'bili total',\n",
    "            'gpt',\n",
    "            'got',\n",
    "            'ggt',\n",
    "            'alkaline phosphatase',\n",
    "            'alfa-fetoprotein','glicemia']\n",
    "\n",
    "\n",
    "# OPBG = [ 'age at diagnosis (months)',    'código',   \n",
    "#                 'ntbc dosis mg/kg/day',\n",
    "#                 'ntbc levels (dbs)',\n",
    "#                 'sca (urine)',\n",
    "#                 'methionine dbs',\n",
    "#                 'tyrosine dbs',\n",
    "#                 'phenylalanine dbs',\n",
    "#                 'methionine (plasma)',\n",
    "#                 'tyrosine (plasma)',\n",
    "#                 'phenylalanine (plasma)',\n",
    "#                 'inr',\n",
    "#                 'pt (sec)',\n",
    "#                 'bili total',\n",
    "#                 'gpt',\n",
    "#                 'got',\n",
    "#                 'ggt',\n",
    "#                 'alkaline phosphatase',\n",
    "#                 'alfa-fetoprotein',]\n",
    "    \n",
    "df1 = pd.read_csv('data/tirosinemia.csv').loc[:,OPBG]\n",
    "df2 = pd.read_csv('data/tirosinemia_italia.csv').loc[:,OPBG]\n",
    "def extract_transform(path, keep_cols, cols_rows_with_missing_values, new_binary_target):\n",
    "    _ , spark_df = SparkDataProcessor().process_data(\n",
    "        data_csv_path= path,\n",
    "        )\n",
    "\n",
    "    return prepare_spark_df(\n",
    "        spark_df=spark_df,\n",
    "        keep_cols=keep_cols,\n",
    "        cols_rows_with_missing_values=cols_rows_with_missing_values,\n",
    "        new_binary_target = new_binary_target,\n",
    "    )\n",
    "compare_dataframes(df1, df2)\n",
    "df1.columns, df2.columns"
   ]
  },
  {
   "cell_type": "code",
   "execution_count": 2,
   "metadata": {},
   "outputs": [
    {
     "name": "stdout",
     "output_type": "stream",
     "text": [
      "23/06/07 17:59:53 WARN Utils: Your hostname, pop-os resolves to a loopback address: 127.0.1.1; using 100.64.221.100 instead (on interface tailscale0)\n",
      "23/06/07 17:59:53 WARN Utils: Set SPARK_LOCAL_IP if you need to bind to another address\n"
     ]
    },
    {
     "name": "stderr",
     "output_type": "stream",
     "text": [
      "Setting default log level to \"WARN\".\n",
      "To adjust logging level use sc.setLogLevel(newLevel). For SparkR, use setLogLevel(newLevel).\n"
     ]
    },
    {
     "name": "stdout",
     "output_type": "stream",
     "text": [
      "23/06/07 17:59:54 WARN NativeCodeLoader: Unable to load native-hadoop library for your platform... using builtin-java classes where applicable\n",
      "23/06/07 17:59:56 WARN package: Truncated the string representation of a plan since it was too large. This behavior can be adjusted by setting 'spark.sql.debug.maxToStringFields'.\n"
     ]
    }
   ],
   "source": [
    "\n",
    "binary_target = 'Alpha-Fet'\n",
    "df_train, _ = extract_transform(\"data/tirosinemia.csv\",                 OPBG, ['alfa-fetoprotein', 'sca (urine)'],binary_target)\n",
    "df_train.drop('código', axis=1, inplace=True)\n",
    "df_test, df_test_raw  = extract_transform(\"data/tirosinemia_italia.csv\", OPBG, ['alfa-fetoprotein', 'sca (urine)'],binary_target)\n",
    "\n"
   ]
  },
  {
   "cell_type": "code",
   "execution_count": 3,
   "metadata": {},
   "outputs": [
    {
     "name": "stdout",
     "output_type": "stream",
     "text": [
      "Both CSV files have the same number of columns: 15\n",
      "Column names are the same.\n",
      "Column order is the same.\n",
      "All common columns have the same data types.\n"
     ]
    }
   ],
   "source": [
    "\n",
    "Rome_mask = df_test_raw['código'].str.startswith('R')\n",
    "\n",
    "df_test_FLOR  = encode_and_convert (df_test[~Rome_mask].drop('código', axis=1).reset_index(inplace=False, drop=True))\n",
    "df_test_ROME  = encode_and_convert (df_test[Rome_mask].drop('código', axis=1).reset_index(inplace=False, drop=True))\n",
    "df_test_FLOR['Alpha-Fet'] = df_test_FLOR['Alpha-Fet'].astype('int8').astype('category')\n",
    "df_test_ROME['Alpha-Fet'] = df_test_ROME['Alpha-Fet'].astype('int8').astype('category')\n",
    "\n",
    "\n",
    "compare_dataframes(df_test_ROME, df_test_FLOR)\n"
   ]
  },
  {
   "cell_type": "code",
   "execution_count": 4,
   "metadata": {},
   "outputs": [
    {
     "name": "stdout",
     "output_type": "stream",
     "text": [
      "Both CSV files have the same number of columns: 15\n",
      "Column names are the same.\n",
      "Column order is the same.\n",
      "All common columns have the same data types.\n"
     ]
    }
   ],
   "source": [
    "\n",
    "\n",
    "compare_dataframes(df_train, df_test_ROME)\n",
    "\n",
    "\n",
    "\n",
    "\n"
   ]
  },
  {
   "cell_type": "code",
   "execution_count": 5,
   "metadata": {},
   "outputs": [],
   "source": [
    "df_train.to_parquet(\"data/train.parquet.gzip\")\n",
    "df_test_ROME.to_parquet(\"data/test.parquet.gzip\")"
   ]
  },
  {
   "cell_type": "code",
   "execution_count": 6,
   "metadata": {},
   "outputs": [
    {
     "name": "stderr",
     "output_type": "stream",
     "text": [
      "2023-06-07 17:59:58,730\tINFO worker.py:1616 -- Started a local Ray instance. View the dashboard at \u001b[1m\u001b[32m127.0.0.1:8266 \u001b[39m\u001b[22m\n"
     ]
    }
   ],
   "source": [
    "ray.shutdown()\n",
    "ray_df_train = ray.put(df_train)\n",
    "ray_df_test  = ray.put(df_test_ROME)"
   ]
  },
  {
   "cell_type": "code",
   "execution_count": 7,
   "metadata": {},
   "outputs": [
    {
     "data": {
      "text/plain": [
       "['age at diagnosis (months)',\n",
       " 'ntbc dosis mg/kg/day',\n",
       " 'ntbc levels (dbs)',\n",
       " 'sca (urine)',\n",
       " 'methionine (plasma)',\n",
       " 'tyrosine (plasma)',\n",
       " 'phenylalanine (plasma)',\n",
       " 'pt (sec)',\n",
       " 'bili total',\n",
       " 'gpt',\n",
       " 'got',\n",
       " 'ggt',\n",
       " 'alkaline phosphatase',\n",
       " 'glicemia']"
      ]
     },
     "execution_count": 7,
     "metadata": {},
     "output_type": "execute_result"
    }
   ],
   "source": [
    "features : list[str] = df_train.columns.tolist()\n",
    "features.remove(binary_target)\n",
    "features"
   ]
  },
  {
   "cell_type": "code",
   "execution_count": 8,
   "metadata": {},
   "outputs": [
    {
     "name": "stderr",
     "output_type": "stream",
     "text": [
      "\u001b[2m\u001b[36m(make_a_study pid=2212752)\u001b[0m \u001b[32m[I 2023-06-07 18:00:00,480]\u001b[0m A new study created in memory with name: sca (urine) (Alpha-Fet)\u001b[0m\n",
      "\u001b[2m\u001b[36m(make_a_study pid=2212740)\u001b[0m \u001b[32m[I 2023-06-07 18:00:00,480]\u001b[0m A new study created in memory with name: ntbc dosis mg/kg/day (Alpha-Fet)\u001b[0m\n",
      "\u001b[2m\u001b[36m(make_a_study pid=2212736)\u001b[0m \u001b[32m[I 2023-06-07 18:00:00,480]\u001b[0m A new study created in memory with name: ntbc levels (dbs) (Alpha-Fet)\u001b[0m\n",
      "\u001b[2m\u001b[36m(make_a_study pid=2212754)\u001b[0m \u001b[32m[I 2023-06-07 18:00:00,466]\u001b[0m A new study created in memory with name: age at diagnosis (months) (Alpha-Fet)\u001b[0m\n",
      "\u001b[2m\u001b[36m(make_a_study pid=2212740)\u001b[0m \u001b[32m[I 2023-06-07 18:00:15,256]\u001b[0m Trial 5 finished with values: [0.5, 0.0] and parameters: {'seed': 853, 'max_depth': 7, 'eta': 0.4720516218071773, 'subsample': 0.23099763575945853, 'lambda': 0.208510711423589, 'alpha': 0.12134824946686984, 'scale_pos_weight': 0.07941396943580425, 'kfold_splits': 2}. \u001b[0m\n",
      "\u001b[2m\u001b[36m(make_a_study pid=2212752)\u001b[0m \u001b[32m[I 2023-06-07 18:00:20,694]\u001b[0m Trial 9 finished with values: [0.898989898989899, 0.0] and parameters: {'seed': 3494, 'max_depth': 2, 'eta': 0.051881318065684044, 'subsample': 0.4175172625860931, 'lambda': 0.017703961542816393, 'alpha': 0.14021400954341046, 'scale_pos_weight': 2.939632233285265, 'kfold_splits': 4}. \u001b[0m\u001b[32m [repeated 71x across cluster] (Ray deduplicates logs by default. Set RAY_DEDUP_LOGS=0 to disable log deduplication, or see https://docs.ray.io/en/master/ray-observability/ray-logging.html#log-deduplication for more options.)\u001b[0m\n",
      "\u001b[2m\u001b[36m(make_a_study pid=2212740)\u001b[0m \u001b[32m[I 2023-06-07 18:00:25,890]\u001b[0m Trial 15 finished with values: [0.8737373737373737, 0.07048522680997849] and parameters: {'seed': 741, 'max_depth': 5, 'eta': 0.0358922496134807, 'subsample': 0.2749453859367495, 'lambda': 0.7498195297284407, 'alpha': 0.4338273261274639, 'scale_pos_weight': 3.2945744761717712, 'kfold_splits': 5}. \u001b[0m\u001b[32m [repeated 5x across cluster]\u001b[0m\n",
      "\u001b[2m\u001b[36m(make_a_study pid=2212740)\u001b[0m \u001b[32m[I 2023-06-07 18:00:30,957]\u001b[0m Trial 28 finished with values: [0.9015151515151516, 0.12983296811580658] and parameters: {'seed': 4311, 'max_depth': 10, 'eta': 0.4941050832846623, 'subsample': 0.4276342964787544, 'lambda': 0.8349462628877173, 'alpha': 0.8569120548259694, 'scale_pos_weight': 0.9660360667954532, 'kfold_splits': 4}. \u001b[0m\u001b[32m [repeated 18x across cluster]\u001b[0m\n",
      "\u001b[2m\u001b[36m(make_a_study pid=2212752)\u001b[0m \u001b[32m[I 2023-06-07 18:00:36,281]\u001b[0m Trial 13 finished with values: [0.8358585858585859, 0.008779237046837807] and parameters: {'seed': 2087, 'max_depth': 9, 'eta': 0.011339415941011833, 'subsample': 0.4379638039460686, 'lambda': 0.1669356189562311, 'alpha': 0.46981847322542747, 'scale_pos_weight': 2.172237624553067, 'kfold_splits': 4}. \u001b[0m\u001b[32m [repeated 54x across cluster]\u001b[0m\n"
     ]
    },
    {
     "ename": "KeyboardInterrupt",
     "evalue": "",
     "output_type": "error",
     "traceback": [
      "\u001b[0;31m---------------------------------------------------------------------------\u001b[0m",
      "\u001b[0;31mKeyboardInterrupt\u001b[0m                         Traceback (most recent call last)",
      "File \u001b[0;32m<timed exec>:10\u001b[0m\n",
      "File \u001b[0;32m/DeepenData/.miniconda/envs/spark/lib/python3.10/site-packages/ray/_private/client_mode_hook.py:105\u001b[0m, in \u001b[0;36mclient_mode_hook.<locals>.wrapper\u001b[0;34m(*args, **kwargs)\u001b[0m\n\u001b[1;32m    103\u001b[0m     \u001b[39mif\u001b[39;00m func\u001b[39m.\u001b[39m\u001b[39m__name__\u001b[39m \u001b[39m!=\u001b[39m \u001b[39m\"\u001b[39m\u001b[39minit\u001b[39m\u001b[39m\"\u001b[39m \u001b[39mor\u001b[39;00m is_client_mode_enabled_by_default:\n\u001b[1;32m    104\u001b[0m         \u001b[39mreturn\u001b[39;00m \u001b[39mgetattr\u001b[39m(ray, func\u001b[39m.\u001b[39m\u001b[39m__name__\u001b[39m)(\u001b[39m*\u001b[39margs, \u001b[39m*\u001b[39m\u001b[39m*\u001b[39mkwargs)\n\u001b[0;32m--> 105\u001b[0m \u001b[39mreturn\u001b[39;00m func(\u001b[39m*\u001b[39;49margs, \u001b[39m*\u001b[39;49m\u001b[39m*\u001b[39;49mkwargs)\n",
      "File \u001b[0;32m/DeepenData/.miniconda/envs/spark/lib/python3.10/site-packages/ray/_private/worker.py:2515\u001b[0m, in \u001b[0;36mget\u001b[0;34m(object_refs, timeout)\u001b[0m\n\u001b[1;32m   2510\u001b[0m     \u001b[39mraise\u001b[39;00m \u001b[39mValueError\u001b[39;00m(\n\u001b[1;32m   2511\u001b[0m         \u001b[39m\"\u001b[39m\u001b[39m'\u001b[39m\u001b[39mobject_refs\u001b[39m\u001b[39m'\u001b[39m\u001b[39m must either be an ObjectRef or a list of ObjectRefs.\u001b[39m\u001b[39m\"\u001b[39m\n\u001b[1;32m   2512\u001b[0m     )\n\u001b[1;32m   2514\u001b[0m \u001b[39m# TODO(ujvl): Consider how to allow user to retrieve the ready objects.\u001b[39;00m\n\u001b[0;32m-> 2515\u001b[0m values, debugger_breakpoint \u001b[39m=\u001b[39m worker\u001b[39m.\u001b[39;49mget_objects(object_refs, timeout\u001b[39m=\u001b[39;49mtimeout)\n\u001b[1;32m   2516\u001b[0m \u001b[39mfor\u001b[39;00m i, value \u001b[39min\u001b[39;00m \u001b[39menumerate\u001b[39m(values):\n\u001b[1;32m   2517\u001b[0m     \u001b[39mif\u001b[39;00m \u001b[39misinstance\u001b[39m(value, RayError):\n",
      "File \u001b[0;32m/DeepenData/.miniconda/envs/spark/lib/python3.10/site-packages/ray/_private/worker.py:742\u001b[0m, in \u001b[0;36mWorker.get_objects\u001b[0;34m(self, object_refs, timeout)\u001b[0m\n\u001b[1;32m    736\u001b[0m         \u001b[39mraise\u001b[39;00m \u001b[39mTypeError\u001b[39;00m(\n\u001b[1;32m    737\u001b[0m             \u001b[39mf\u001b[39m\u001b[39m\"\u001b[39m\u001b[39mAttempting to call `get` on the value \u001b[39m\u001b[39m{\u001b[39;00mobject_ref\u001b[39m}\u001b[39;00m\u001b[39m, \u001b[39m\u001b[39m\"\u001b[39m\n\u001b[1;32m    738\u001b[0m             \u001b[39m\"\u001b[39m\u001b[39mwhich is not an ray.ObjectRef.\u001b[39m\u001b[39m\"\u001b[39m\n\u001b[1;32m    739\u001b[0m         )\n\u001b[1;32m    741\u001b[0m timeout_ms \u001b[39m=\u001b[39m \u001b[39mint\u001b[39m(timeout \u001b[39m*\u001b[39m \u001b[39m1000\u001b[39m) \u001b[39mif\u001b[39;00m timeout \u001b[39melse\u001b[39;00m \u001b[39m-\u001b[39m\u001b[39m1\u001b[39m\n\u001b[0;32m--> 742\u001b[0m data_metadata_pairs \u001b[39m=\u001b[39m \u001b[39mself\u001b[39;49m\u001b[39m.\u001b[39;49mcore_worker\u001b[39m.\u001b[39;49mget_objects(\n\u001b[1;32m    743\u001b[0m     object_refs, \u001b[39mself\u001b[39;49m\u001b[39m.\u001b[39;49mcurrent_task_id, timeout_ms\n\u001b[1;32m    744\u001b[0m )\n\u001b[1;32m    745\u001b[0m debugger_breakpoint \u001b[39m=\u001b[39m \u001b[39mb\u001b[39m\u001b[39m\"\u001b[39m\u001b[39m\"\u001b[39m\n\u001b[1;32m    746\u001b[0m \u001b[39mfor\u001b[39;00m (data, metadata) \u001b[39min\u001b[39;00m data_metadata_pairs:\n",
      "File \u001b[0;32mpython/ray/_raylet.pyx:1664\u001b[0m, in \u001b[0;36mray._raylet.CoreWorker.get_objects\u001b[0;34m()\u001b[0m\n",
      "File \u001b[0;32mpython/ray/_raylet.pyx:201\u001b[0m, in \u001b[0;36mray._raylet.check_status\u001b[0;34m()\u001b[0m\n",
      "\u001b[0;31mKeyboardInterrupt\u001b[0m: "
     ]
    },
    {
     "name": "stderr",
     "output_type": "stream",
     "text": [
      "\u001b[2m\u001b[36m(make_a_study pid=2212752)\u001b[0m \u001b[32m[I 2023-06-07 18:00:40,460]\u001b[0m A new study created in memory with name: methionine (plasma) (Alpha-Fet)\u001b[0m\n",
      "\u001b[2m\u001b[36m(make_a_study pid=2212736)\u001b[0m \u001b[32m[I 2023-06-07 18:00:40,990]\u001b[0m A new study created in memory with name: phenylalanine (plasma) (Alpha-Fet)\u001b[0m\n",
      "\u001b[2m\u001b[36m(make_a_study pid=2212754)\u001b[0m \u001b[32m[I 2023-06-07 18:00:40,928]\u001b[0m A new study created in memory with name: tyrosine (plasma) (Alpha-Fet)\u001b[0m\n",
      "\u001b[2m\u001b[36m(make_a_study pid=2212740)\u001b[0m \u001b[32m[I 2023-06-07 18:00:41,393]\u001b[0m Trial 48 finished with values: [0.7752525252525253, 0.0] and parameters: {'seed': 9708, 'max_depth': 8, 'eta': 0.24726849527102523, 'subsample': 0.2044084772981529, 'lambda': 0.37561568445133375, 'alpha': 0.19121699847781137, 'scale_pos_weight': 0.6461076750864819, 'kfold_splits': 2}. \u001b[0m\u001b[32m [repeated 46x across cluster]\u001b[0m\n",
      "\u001b[2m\u001b[36m(make_a_study pid=2212740)\u001b[0m \u001b[32m[I 2023-06-07 18:00:41,783]\u001b[0m A new study created in memory with name: pt (sec) (Alpha-Fet)\u001b[0m\n",
      "\u001b[2m\u001b[36m(make_a_study pid=2212752)\u001b[0m \u001b[32m[I 2023-06-07 18:00:56,889]\u001b[0m Trial 2 finished with values: [0.5744949494949496, 0.29988375306129456] and parameters: {'seed': 1451, 'max_depth': 10, 'eta': 0.4171576477689397, 'subsample': 0.16949581742457537, 'lambda': 0.8357149301674129, 'alpha': 0.15144505743379622, 'scale_pos_weight': 1.5731000615695312, 'kfold_splits': 2}. \u001b[0m\u001b[32m [repeated 6x across cluster]\u001b[0m\n",
      "\u001b[2m\u001b[36m(make_a_study pid=2212740)\u001b[0m \u001b[32m[I 2023-06-07 18:01:02,648]\u001b[0m Trial 10 finished with values: [0.8383838383838385, 0.13214311003684998] and parameters: {'seed': 6462, 'max_depth': 3, 'eta': 0.11961314416989108, 'subsample': 0.10913011230657697, 'lambda': 0.9275222855634524, 'alpha': 0.04385898332180482, 'scale_pos_weight': 2.092572984911698, 'kfold_splits': 5}. \u001b[0m\u001b[32m [repeated 66x across cluster]\u001b[0m\n",
      "\u001b[2m\u001b[36m(make_a_study pid=2212736)\u001b[0m \u001b[32m[I 2023-06-07 18:01:08,530]\u001b[0m Trial 17 finished with values: [0.8333333333333334, 0.05730489268898964] and parameters: {'seed': 7813, 'max_depth': 2, 'eta': 0.0977921832798373, 'subsample': 0.13189852458978996, 'lambda': 0.5303139889627544, 'alpha': 0.7330940776156951, 'scale_pos_weight': 0.91983127610683, 'kfold_splits': 5}. \u001b[0m\u001b[32m [repeated 5x across cluster]\u001b[0m\n",
      "\u001b[2m\u001b[36m(make_a_study pid=2212752)\u001b[0m \u001b[32m[I 2023-06-07 18:01:13,715]\u001b[0m Trial 26 finished with values: [0.8169191919191919, 0.0] and parameters: {'seed': 5768, 'max_depth': 6, 'eta': 0.4791803290362502, 'subsample': 0.1791937944265726, 'lambda': 0.6723917187239634, 'alpha': 0.18635337549075315, 'scale_pos_weight': 3.2655888860089552, 'kfold_splits': 2}. \u001b[0m\u001b[32m [repeated 7x across cluster]\u001b[0m\n",
      "\u001b[2m\u001b[36m(make_a_study pid=2212740)\u001b[0m \u001b[32m[I 2023-06-07 18:01:18,821]\u001b[0m Trial 30 finished with values: [0.8484848484848485, 0.3744499683380127] and parameters: {'seed': 3690, 'max_depth': 3, 'eta': 0.4448828753753828, 'subsample': 0.3513530496131233, 'lambda': 0.2133156489221112, 'alpha': 0.9507779952357626, 'scale_pos_weight': 0.6358468670600664, 'kfold_splits': 4}. \u001b[0m\u001b[32m [repeated 44x across cluster]\u001b[0m\n",
      "\u001b[2m\u001b[36m(make_a_study pid=2212736)\u001b[0m \u001b[32m[I 2023-06-07 18:01:24,545]\u001b[0m Trial 24 finished with values: [0.8686868686868686, 0.05495152994990349] and parameters: {'seed': 7030, 'max_depth': 8, 'eta': 0.035718604613885166, 'subsample': 0.24423695044231317, 'lambda': 0.7835991833508827, 'alpha': 0.9827158757268629, 'scale_pos_weight': 1.6921782238129457, 'kfold_splits': 5}. \u001b[0m\u001b[32m [repeated 22x across cluster]\u001b[0m\n",
      "\u001b[2m\u001b[36m(make_a_study pid=2212752)\u001b[0m \u001b[32m[I 2023-06-07 18:01:28,300]\u001b[0m A new study created in memory with name: bili total (Alpha-Fet)\u001b[0m\n",
      "\u001b[2m\u001b[36m(make_a_study pid=2212740)\u001b[0m \u001b[32m[I 2023-06-07 18:01:29,486]\u001b[0m A new study created in memory with name: gpt (Alpha-Fet)\u001b[0m\n",
      "\u001b[2m\u001b[36m(make_a_study pid=2212736)\u001b[0m \u001b[32m[I 2023-06-07 18:01:29,633]\u001b[0m Trial 45 finished with values: [0.8131313131313131, 0.0] and parameters: {'seed': 6610, 'max_depth': 9, 'eta': 0.3582942311555328, 'subsample': 0.12674266273070237, 'lambda': 0.3175644700218141, 'alpha': 0.7598005493342583, 'scale_pos_weight': 3.1246791196348362, 'kfold_splits': 3}. \u001b[0m\u001b[32m [repeated 47x across cluster]\u001b[0m\n",
      "\u001b[2m\u001b[36m(make_a_study pid=2212754)\u001b[0m \u001b[32m[I 2023-06-07 18:01:29,869]\u001b[0m A new study created in memory with name: got (Alpha-Fet)\u001b[0m\n",
      "\u001b[2m\u001b[36m(make_a_study pid=2212736)\u001b[0m \u001b[32m[I 2023-06-07 18:01:30,136]\u001b[0m A new study created in memory with name: ggt (Alpha-Fet)\u001b[0m\n"
     ]
    }
   ],
   "source": [
    "%%time\n",
    "\n",
    "studies = make_multiple_studies(\n",
    "    ray_df_train, \n",
    "    features = features,\n",
    "    targets = [binary_target],\n",
    "    n_trials=50,\n",
    "    Independent_testset = False,\n",
    "    Independent_testset_df = ray_df_test\n",
    ")\n",
    "\n",
    "studies = ray.get(studies)"
   ]
  },
  {
   "cell_type": "code",
   "execution_count": null,
   "metadata": {},
   "outputs": [],
   "source": [
    "with open('chile.pickle', 'wb') as handle:\n",
    "    pickle.dump(studies, handle, protocol=pickle.HIGHEST_PROTOCOL)    "
   ]
  }
 ],
 "metadata": {
  "kernelspec": {
   "display_name": "spark",
   "language": "python",
   "name": "python3"
  },
  "language_info": {
   "codemirror_mode": {
    "name": "ipython",
    "version": 3
   },
   "file_extension": ".py",
   "mimetype": "text/x-python",
   "name": "python",
   "nbconvert_exporter": "python",
   "pygments_lexer": "ipython3",
   "version": "3.10.11"
  },
  "orig_nbformat": 4
 },
 "nbformat": 4,
 "nbformat_minor": 2
}
