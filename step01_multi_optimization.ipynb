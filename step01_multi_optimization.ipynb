{
 "cells": [
  {
   "cell_type": "code",
   "execution_count": 1,
   "metadata": {},
   "outputs": [
    {
     "name": "stdout",
     "output_type": "stream",
     "text": [
      "Both CSV files have the same number of columns: 16\n",
      "Column names are the same.\n",
      "Column order is the same.\n",
      "All common columns have the same data types.\n"
     ]
    },
    {
     "data": {
      "text/plain": [
       "(Index(['código', 'age at diagnosis (months)', 'ntbc dosis mg/kg/day',\n",
       "        'ntbc levels (dbs)', 'sca (urine)', 'methionine (plasma)',\n",
       "        'tyrosine (plasma)', 'phenylalanine (plasma)', 'pt (sec)', 'bili total',\n",
       "        'gpt', 'got', 'ggt', 'alkaline phosphatase', 'alfa-fetoprotein',\n",
       "        'glicemia'],\n",
       "       dtype='object'),\n",
       " Index(['código', 'age at diagnosis (months)', 'ntbc dosis mg/kg/day',\n",
       "        'ntbc levels (dbs)', 'sca (urine)', 'methionine (plasma)',\n",
       "        'tyrosine (plasma)', 'phenylalanine (plasma)', 'pt (sec)', 'bili total',\n",
       "        'gpt', 'got', 'ggt', 'alkaline phosphatase', 'alfa-fetoprotein',\n",
       "        'glicemia'],\n",
       "       dtype='object'))"
      ]
     },
     "execution_count": 1,
     "metadata": {},
     "output_type": "execute_result"
    }
   ],
   "source": [
    "import warnings\n",
    "warnings.filterwarnings(\"ignore\")\n",
    "from utils import *\n",
    "import pickle\n",
    "OPBG = [ 'código','age at diagnosis (months)',            \n",
    "            'ntbc dosis mg/kg/day',\n",
    "            'ntbc levels (dbs)',\n",
    "            'sca (urine)',\n",
    "            'methionine (plasma)',\n",
    "            'tyrosine (plasma)',\n",
    "            'phenylalanine (plasma)',\n",
    "            'pt (sec)',\n",
    "            'bili total',\n",
    "            'gpt',\n",
    "            'got',\n",
    "            'ggt',\n",
    "            'alkaline phosphatase',\n",
    "            'alfa-fetoprotein','glicemia']\n",
    "\n",
    "\n",
    "# OPBG = [ 'age at diagnosis (months)',    'código',   \n",
    "#                 'ntbc dosis mg/kg/day',\n",
    "#                 'ntbc levels (dbs)',\n",
    "#                 'sca (urine)',\n",
    "#                 'methionine dbs',\n",
    "#                 'tyrosine dbs',\n",
    "#                 'phenylalanine dbs',\n",
    "#                 'methionine (plasma)',\n",
    "#                 'tyrosine (plasma)',\n",
    "#                 'phenylalanine (plasma)',\n",
    "#                 'inr',\n",
    "#                 'pt (sec)',\n",
    "#                 'bili total',\n",
    "#                 'gpt',\n",
    "#                 'got',\n",
    "#                 'ggt',\n",
    "#                 'alkaline phosphatase',\n",
    "#                 'alfa-fetoprotein',]\n",
    "    \n",
    "df1 = pd.read_csv('data/tirosinemia.csv').loc[:,OPBG]\n",
    "df2 = pd.read_csv('data/tirosinemia_italia.csv').loc[:,OPBG]\n",
    "def extract_transform(path, keep_cols, cols_rows_with_missing_values, new_binary_target):\n",
    "    _ , spark_df = SparkDataProcessor().process_data(\n",
    "        data_csv_path= path,\n",
    "        )\n",
    "\n",
    "    return prepare_spark_df(\n",
    "        spark_df=spark_df,\n",
    "        keep_cols=keep_cols,\n",
    "        cols_rows_with_missing_values=cols_rows_with_missing_values,\n",
    "        new_binary_target = new_binary_target,\n",
    "    )\n",
    "compare_dataframes(df1, df2)\n",
    "df1.columns, df2.columns"
   ]
  },
  {
   "cell_type": "code",
   "execution_count": 2,
   "metadata": {},
   "outputs": [
    {
     "name": "stdout",
     "output_type": "stream",
     "text": [
      "23/06/07 20:02:09 WARN Utils: Your hostname, pop-os resolves to a loopback address: 127.0.1.1; using 100.64.221.100 instead (on interface tailscale0)\n",
      "23/06/07 20:02:09 WARN Utils: Set SPARK_LOCAL_IP if you need to bind to another address\n"
     ]
    },
    {
     "name": "stderr",
     "output_type": "stream",
     "text": [
      "Setting default log level to \"WARN\".\n",
      "To adjust logging level use sc.setLogLevel(newLevel). For SparkR, use setLogLevel(newLevel).\n"
     ]
    },
    {
     "name": "stdout",
     "output_type": "stream",
     "text": [
      "23/06/07 20:02:10 WARN NativeCodeLoader: Unable to load native-hadoop library for your platform... using builtin-java classes where applicable\n",
      "23/06/07 20:02:10 WARN Utils: Service 'SparkUI' could not bind on port 4040. Attempting port 4041.\n",
      "23/06/07 20:02:12 WARN package: Truncated the string representation of a plan since it was too large. This behavior can be adjusted by setting 'spark.sql.debug.maxToStringFields'.\n"
     ]
    }
   ],
   "source": [
    "\n",
    "binary_target = 'Alpha-Fet'\n",
    "df_train, _ = extract_transform(\"data/tirosinemia.csv\",                 OPBG, ['alfa-fetoprotein', 'sca (urine)'],binary_target)\n",
    "df_train.drop('código', axis=1, inplace=True)\n",
    "df_test, df_test_raw  = extract_transform(\"data/tirosinemia_italia.csv\", OPBG, ['alfa-fetoprotein', 'sca (urine)'],binary_target)\n",
    "\n"
   ]
  },
  {
   "cell_type": "code",
   "execution_count": 3,
   "metadata": {},
   "outputs": [
    {
     "name": "stdout",
     "output_type": "stream",
     "text": [
      "Both CSV files have the same number of columns: 15\n",
      "Column names are the same.\n",
      "Column order is the same.\n",
      "All common columns have the same data types.\n"
     ]
    }
   ],
   "source": [
    "\n",
    "Rome_mask = df_test_raw['código'].str.startswith('R')\n",
    "\n",
    "df_test_FLOR  = encode_and_convert (df_test[~Rome_mask].drop('código', axis=1).reset_index(inplace=False, drop=True))\n",
    "df_test_ROME  = encode_and_convert (df_test[Rome_mask].drop('código', axis=1).reset_index(inplace=False, drop=True))\n",
    "df_test_FLOR['Alpha-Fet'] = df_test_FLOR['Alpha-Fet'].astype('int8').astype('category')\n",
    "df_test_ROME['Alpha-Fet'] = df_test_ROME['Alpha-Fet'].astype('int8').astype('category')\n",
    "\n",
    "\n",
    "compare_dataframes(df_test_ROME, df_test_FLOR)\n"
   ]
  },
  {
   "cell_type": "code",
   "execution_count": 4,
   "metadata": {},
   "outputs": [
    {
     "name": "stdout",
     "output_type": "stream",
     "text": [
      "Both CSV files have the same number of columns: 15\n",
      "Column names are the same.\n",
      "Column order is the same.\n",
      "All common columns have the same data types.\n"
     ]
    }
   ],
   "source": [
    "\n",
    "\n",
    "compare_dataframes(df_train, df_test_ROME)\n",
    "\n",
    "\n",
    "\n",
    "\n"
   ]
  },
  {
   "cell_type": "code",
   "execution_count": 5,
   "metadata": {},
   "outputs": [],
   "source": [
    "df_train.to_parquet(\"data/train.parquet.gzip\")\n",
    "df_test_ROME.to_parquet(\"data/test.parquet.gzip\")"
   ]
  },
  {
   "cell_type": "code",
   "execution_count": 6,
   "metadata": {},
   "outputs": [
    {
     "name": "stderr",
     "output_type": "stream",
     "text": [
      "2023-06-07 20:02:14,803\tINFO worker.py:1616 -- Started a local Ray instance. View the dashboard at \u001b[1m\u001b[32m127.0.0.1:8265 \u001b[39m\u001b[22m\n"
     ]
    }
   ],
   "source": [
    "ray.shutdown()\n",
    "ray_df_train = ray.put(df_train)\n",
    "ray_df_test  = ray.put(df_test_ROME)"
   ]
  },
  {
   "cell_type": "code",
   "execution_count": 7,
   "metadata": {},
   "outputs": [
    {
     "data": {
      "text/plain": [
       "['age at diagnosis (months)',\n",
       " 'ntbc dosis mg/kg/day',\n",
       " 'ntbc levels (dbs)',\n",
       " 'sca (urine)',\n",
       " 'methionine (plasma)',\n",
       " 'tyrosine (plasma)',\n",
       " 'phenylalanine (plasma)',\n",
       " 'pt (sec)',\n",
       " 'bili total',\n",
       " 'gpt',\n",
       " 'got',\n",
       " 'ggt',\n",
       " 'alkaline phosphatase',\n",
       " 'glicemia']"
      ]
     },
     "execution_count": 7,
     "metadata": {},
     "output_type": "execute_result"
    }
   ],
   "source": [
    "features : list[str] = df_train.columns.tolist()\n",
    "features.remove(binary_target)\n",
    "features"
   ]
  },
  {
   "cell_type": "code",
   "execution_count": 8,
   "metadata": {},
   "outputs": [
    {
     "name": "stderr",
     "output_type": "stream",
     "text": [
      "\u001b[2m\u001b[36m(make_a_study pid=8462)\u001b[0m \u001b[32m[I 2023-06-07 20:02:16,343]\u001b[0m A new study created in memory with name: sca (urine) (Alpha-Fet)\u001b[0m\n",
      "\u001b[2m\u001b[36m(make_a_study pid=8459)\u001b[0m \u001b[32m[I 2023-06-07 20:02:16,353]\u001b[0m A new study created in memory with name: age at diagnosis (months) (Alpha-Fet)\u001b[0m\n",
      "\u001b[2m\u001b[36m(make_a_study pid=8460)\u001b[0m \u001b[32m[I 2023-06-07 20:02:16,352]\u001b[0m A new study created in memory with name: ntbc dosis mg/kg/day (Alpha-Fet)\u001b[0m\n",
      "\u001b[2m\u001b[36m(make_a_study pid=8452)\u001b[0m \u001b[32m[I 2023-06-07 20:02:16,381]\u001b[0m A new study created in memory with name: ntbc levels (dbs) (Alpha-Fet)\u001b[0m\n",
      "\u001b[2m\u001b[36m(make_a_study pid=8462)\u001b[0m \u001b[32m[I 2023-06-07 20:02:19,732]\u001b[0m Trial 1 finished with values: [0.5, 0.0] and parameters: {'seed': 8007, 'max_depth': 2, 'eta': 0.11954927888917408, 'subsample': 0.17153010306527317, 'lambda': 0.2875692244196053, 'alpha': 0.9301998406402514, 'scale_pos_weight': 0.2234323593242421, 'kfold_splits': 2}. \u001b[0m\n",
      "\u001b[2m\u001b[36m(make_a_study pid=8462)\u001b[0m \u001b[32m[I 2023-06-07 20:02:19,819]\u001b[0m Trial 2 finished with values: [0.8017676767676767, 0.0] and parameters: {'seed': 5063, 'max_depth': 9, 'eta': 0.1533032654278933, 'subsample': 0.10639657155477336, 'lambda': 0.5274063761458588, 'alpha': 0.7574792563175877, 'scale_pos_weight': 1.9602855970070066, 'kfold_splits': 2}. \u001b[0m\n",
      "\u001b[2m\u001b[36m(make_a_study pid=8462)\u001b[0m \u001b[32m[I 2023-06-07 20:02:19,843]\u001b[0m Trial 0 finished with values: [0.7803030303030303, 0.0] and parameters: {'seed': 9583, 'max_depth': 6, 'eta': 0.3038269375949026, 'subsample': 0.3202803076105588, 'lambda': 0.8126009207643294, 'alpha': 0.00030168761298610125, 'scale_pos_weight': 3.8917941247097607, 'kfold_splits': 3}. \u001b[0m\n",
      "\u001b[2m\u001b[36m(make_a_study pid=8462)\u001b[0m \u001b[32m[I 2023-06-07 20:02:19,865]\u001b[0m Trial 3 finished with values: [0.8409090909090909, 0.0] and parameters: {'seed': 2449, 'max_depth': 10, 'eta': 0.3341915435888209, 'subsample': 0.10670663798423581, 'lambda': 0.4830169141560705, 'alpha': 0.4060733191263156, 'scale_pos_weight': 2.288109974224418, 'kfold_splits': 3}. \u001b[0m\n",
      "\u001b[2m\u001b[36m(make_a_study pid=8462)\u001b[0m \u001b[32m[I 2023-06-07 20:02:19,888]\u001b[0m Trial 4 finished with values: [0.9393939393939394, 0.0] and parameters: {'seed': 5001, 'max_depth': 9, 'eta': 0.2750680988556112, 'subsample': 0.4237177067819783, 'lambda': 0.2870932510642805, 'alpha': 0.05539100806297237, 'scale_pos_weight': 2.230008537955113, 'kfold_splits': 3}. \u001b[0m\n",
      "\u001b[2m\u001b[36m(make_a_study pid=8462)\u001b[0m \u001b[32m[I 2023-06-07 20:02:19,891]\u001b[0m A new study created in memory with name: methionine (plasma) (Alpha-Fet)\u001b[0m\n",
      "\u001b[2m\u001b[36m(make_a_study pid=8459)\u001b[0m \u001b[32m[I 2023-06-07 20:02:22,598]\u001b[0m A new study created in memory with name: tyrosine (plasma) (Alpha-Fet)\u001b[0m\n",
      "\u001b[2m\u001b[36m(make_a_study pid=8460)\u001b[0m \u001b[32m[I 2023-06-07 20:02:23,326]\u001b[0m A new study created in memory with name: pt (sec) (Alpha-Fet)\u001b[0m\n",
      "\u001b[2m\u001b[36m(make_a_study pid=8452)\u001b[0m \u001b[32m[I 2023-06-07 20:02:23,268]\u001b[0m A new study created in memory with name: phenylalanine (plasma) (Alpha-Fet)\u001b[0m\n",
      "\u001b[2m\u001b[36m(make_a_study pid=8462)\u001b[0m \u001b[32m[I 2023-06-07 20:02:25,044]\u001b[0m Trial 1 finished with values: [0.9090909090909092, 0.24325792491436005] and parameters: {'seed': 9705, 'max_depth': 8, 'eta': 0.37033017444977484, 'subsample': 0.38558427043809373, 'lambda': 0.24326229443270664, 'alpha': 0.3717410143296582, 'scale_pos_weight': 1.582998554024847, 'kfold_splits': 2}. \u001b[0m\u001b[32m [repeated 16x across cluster] (Ray deduplicates logs by default. Set RAY_DEDUP_LOGS=0 to disable log deduplication, or see https://docs.ray.io/en/master/ray-observability/ray-logging.html#log-deduplication for more options.)\u001b[0m\n",
      "\u001b[2m\u001b[36m(make_a_study pid=8462)\u001b[0m \u001b[32m[I 2023-06-07 20:02:25,147]\u001b[0m A new study created in memory with name: bili total (Alpha-Fet)\u001b[0m\n",
      "\u001b[2m\u001b[36m(make_a_study pid=8459)\u001b[0m \u001b[32m[I 2023-06-07 20:02:26,772]\u001b[0m A new study created in memory with name: gpt (Alpha-Fet)\u001b[0m\n",
      "\u001b[2m\u001b[36m(make_a_study pid=8460)\u001b[0m \u001b[32m[I 2023-06-07 20:02:27,338]\u001b[0m A new study created in memory with name: got (Alpha-Fet)\u001b[0m\n",
      "\u001b[2m\u001b[36m(make_a_study pid=8452)\u001b[0m \u001b[32m[I 2023-06-07 20:02:27,343]\u001b[0m A new study created in memory with name: ggt (Alpha-Fet)\u001b[0m\n",
      "\u001b[2m\u001b[36m(make_a_study pid=8462)\u001b[0m \u001b[32m[I 2023-06-07 20:02:29,251]\u001b[0m A new study created in memory with name: alkaline phosphatase (Alpha-Fet)\u001b[0m\n",
      "\u001b[2m\u001b[36m(make_a_study pid=8459)\u001b[0m \u001b[32m[I 2023-06-07 20:02:30,684]\u001b[0m Trial 3 finished with values: [0.8409090909090909, 0.7369036078453064] and parameters: {'seed': 3817, 'max_depth': 9, 'eta': 0.47721696334288116, 'subsample': 0.20742352620618712, 'lambda': 0.6351416828376236, 'alpha': 0.504340055259342, 'scale_pos_weight': 3.648298741217792, 'kfold_splits': 2}. \u001b[0m\u001b[32m [repeated 25x across cluster]\u001b[0m\n",
      "\u001b[2m\u001b[36m(make_a_study pid=8459)\u001b[0m \u001b[32m[I 2023-06-07 20:02:31,427]\u001b[0m A new study created in memory with name: glicemia (Alpha-Fet)\u001b[0m\n",
      "\u001b[2m\u001b[36m(make_a_study pid=8459)\u001b[0m \u001b[32m[I 2023-06-07 20:02:38,119]\u001b[0m Trial 2 finished with values: [0.8686868686868686, 0.3664080798625946] and parameters: {'seed': 8772, 'max_depth': 4, 'eta': 0.4335360302455142, 'subsample': 0.4493567716697975, 'lambda': 0.31936020527892983, 'alpha': 0.6850937296031708, 'scale_pos_weight': 4.929684335400891, 'kfold_splits': 4}. \u001b[0m\u001b[32m [repeated 21x across cluster]\u001b[0m\n"
     ]
    },
    {
     "name": "stdout",
     "output_type": "stream",
     "text": [
      "CPU times: user 536 ms, sys: 403 ms, total: 939 ms\n",
      "Wall time: 23.1 s\n"
     ]
    }
   ],
   "source": [
    "%%time\n",
    "\n",
    "studies = make_multiple_studies(\n",
    "    ray_df_train, \n",
    "    features = features,\n",
    "    targets = [binary_target],\n",
    "    n_trials=5,\n",
    "    Independent_testset = False,\n",
    "    Independent_testset_df = ray_df_test\n",
    ")\n",
    "\n",
    "studies = ray.get(studies)"
   ]
  },
  {
   "cell_type": "code",
   "execution_count": null,
   "metadata": {},
   "outputs": [],
   "source": [
    "with open('chile.pickle', 'wb') as handle:\n",
    "    pickle.dump(studies, handle, protocol=pickle.HIGHEST_PROTOCOL)    "
   ]
  }
 ],
 "metadata": {
  "kernelspec": {
   "display_name": "spark",
   "language": "python",
   "name": "python3"
  },
  "language_info": {
   "codemirror_mode": {
    "name": "ipython",
    "version": 3
   },
   "file_extension": ".py",
   "mimetype": "text/x-python",
   "name": "python",
   "nbconvert_exporter": "python",
   "pygments_lexer": "ipython3",
   "version": "3.10.11"
  },
  "orig_nbformat": 4
 },
 "nbformat": 4,
 "nbformat_minor": 2
}
