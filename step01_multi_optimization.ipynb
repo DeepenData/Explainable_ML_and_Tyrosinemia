{
 "cells": [
  {
   "cell_type": "code",
   "execution_count": 15,
   "metadata": {},
   "outputs": [
    {
     "name": "stdout",
     "output_type": "stream",
     "text": [
      "Both CSV files have the same number of columns: 16\n",
      "Column names are the same.\n",
      "Column order is the same.\n",
      "All common columns have the same data types.\n"
     ]
    },
    {
     "data": {
      "text/plain": [
       "(Index(['código', 'age at diagnosis (months)', 'ntbc dosis mg/kg/day',\n",
       "        'ntbc levels (dbs)', 'sca (urine)', 'methionine (plasma)',\n",
       "        'tyrosine (plasma)', 'phenylalanine (plasma)', 'pt (sec)', 'bili total',\n",
       "        'gpt', 'got', 'ggt', 'alkaline phosphatase', 'alfa-fetoprotein',\n",
       "        'glicemia'],\n",
       "       dtype='object'),\n",
       " Index(['código', 'age at diagnosis (months)', 'ntbc dosis mg/kg/day',\n",
       "        'ntbc levels (dbs)', 'sca (urine)', 'methionine (plasma)',\n",
       "        'tyrosine (plasma)', 'phenylalanine (plasma)', 'pt (sec)', 'bili total',\n",
       "        'gpt', 'got', 'ggt', 'alkaline phosphatase', 'alfa-fetoprotein',\n",
       "        'glicemia'],\n",
       "       dtype='object'))"
      ]
     },
     "execution_count": 15,
     "metadata": {},
     "output_type": "execute_result"
    }
   ],
   "source": [
    "import warnings\n",
    "warnings.filterwarnings(\"ignore\")\n",
    "from utils import *\n",
    "import pickle\n",
    "OPBG = [ 'código','age at diagnosis (months)',            \n",
    "            'ntbc dosis mg/kg/day',\n",
    "            'ntbc levels (dbs)',\n",
    "            'sca (urine)',\n",
    "            'methionine (plasma)',\n",
    "            'tyrosine (plasma)',\n",
    "            'phenylalanine (plasma)',\n",
    "            'pt (sec)',\n",
    "            'bili total',\n",
    "            'gpt',\n",
    "            'got',\n",
    "            'ggt',\n",
    "            'alkaline phosphatase',\n",
    "            'alfa-fetoprotein','glicemia']\n",
    "    \n",
    "df1 = pd.read_csv('data/tirosinemia.csv').loc[:,OPBG]\n",
    "df2 = pd.read_csv('data/tirosinemia_italia.csv').loc[:,OPBG]\n",
    "def extract_transform(path, keep_cols, cols_rows_with_missing_values, new_binary_target):\n",
    "    _ , spark_df = SparkDataProcessor().process_data(\n",
    "        data_csv_path= path,\n",
    "        )\n",
    "\n",
    "    return prepare_spark_df(\n",
    "        spark_df=spark_df,\n",
    "        keep_cols=keep_cols,\n",
    "        cols_rows_with_missing_values=cols_rows_with_missing_values,\n",
    "        new_binary_target = new_binary_target,\n",
    "    )\n",
    "compare_dataframes(df1, df2)\n",
    "df1.columns, df2.columns"
   ]
  },
  {
   "cell_type": "code",
   "execution_count": 16,
   "metadata": {},
   "outputs": [],
   "source": [
    "\n",
    "binary_target = 'Alpha-Fet'\n",
    "df_train, _ = extract_transform(\"data/tirosinemia.csv\",                 OPBG,  ['alfa-fetoprotein','ntbc levels (dbs)','sca (urine)'],binary_target)\n",
    "df_train.drop('código', axis=1, inplace=True)\n",
    "df_test, df_test_raw  = extract_transform(\"data/tirosinemia_italia.csv\", OPBG,  ['alfa-fetoprotein','ntbc levels (dbs)','sca (urine)'],binary_target)\n",
    "\n"
   ]
  },
  {
   "cell_type": "code",
   "execution_count": 17,
   "metadata": {},
   "outputs": [
    {
     "name": "stdout",
     "output_type": "stream",
     "text": [
      "Both CSV files have the same number of columns: 15\n",
      "Column names are the same.\n",
      "Column order is the same.\n",
      "All common columns have the same data types.\n"
     ]
    }
   ],
   "source": [
    "\n",
    "Rome_mask = df_test_raw['código'].str.startswith('R')\n",
    "\n",
    "df_test_FLOR  = encode_and_convert (df_test[~Rome_mask].drop('código', axis=1).reset_index(inplace=False, drop=True))\n",
    "df_test_ROME  = encode_and_convert (df_test[Rome_mask].drop('código', axis=1).reset_index(inplace=False, drop=True))\n",
    "df_test_FLOR['Alpha-Fet'] = df_test_FLOR['Alpha-Fet'].astype('int8').astype('category')\n",
    "df_test_ROME['Alpha-Fet'] = df_test_ROME['Alpha-Fet'].astype('int8').astype('category')\n",
    "\n",
    "\n",
    "compare_dataframes(df_test_ROME, df_test_FLOR)\n"
   ]
  },
  {
   "cell_type": "code",
   "execution_count": 18,
   "metadata": {},
   "outputs": [
    {
     "name": "stdout",
     "output_type": "stream",
     "text": [
      "Both CSV files have the same number of columns: 15\n",
      "Column names are the same.\n",
      "Column order is the same.\n",
      "All common columns have the same data types.\n"
     ]
    },
    {
     "name": "stderr",
     "output_type": "stream",
     "text": [
      "\u001b[2m\u001b[36m(make_a_study pid=3986690)\u001b[0m \u001b[32m[I 2023-06-02 20:15:11,820]\u001b[0m A new study created in memory with name: glicemia\u001b[0m\n"
     ]
    }
   ],
   "source": [
    "\n",
    "\n",
    "compare_dataframes(df_train, df_test_ROME)\n",
    "\n",
    "\n",
    "\n",
    "\n"
   ]
  },
  {
   "cell_type": "code",
   "execution_count": 19,
   "metadata": {},
   "outputs": [],
   "source": [
    "\n",
    "ray_df_train = ray.put(df_train)\n",
    "ray_df_test  = ray.put(df_test_ROME)"
   ]
  },
  {
   "cell_type": "code",
   "execution_count": 20,
   "metadata": {},
   "outputs": [
    {
     "data": {
      "text/plain": [
       "['age at diagnosis (months)',\n",
       " 'ntbc dosis mg/kg/day',\n",
       " 'ntbc levels (dbs)',\n",
       " 'sca (urine)',\n",
       " 'methionine (plasma)',\n",
       " 'tyrosine (plasma)',\n",
       " 'phenylalanine (plasma)',\n",
       " 'pt (sec)',\n",
       " 'bili total',\n",
       " 'gpt',\n",
       " 'got',\n",
       " 'ggt',\n",
       " 'alkaline phosphatase',\n",
       " 'glicemia']"
      ]
     },
     "execution_count": 20,
     "metadata": {},
     "output_type": "execute_result"
    }
   ],
   "source": [
    "features : list[str] = df_train.columns.tolist()\n",
    "features.remove(binary_target)\n",
    "features"
   ]
  },
  {
   "cell_type": "code",
   "execution_count": 21,
   "metadata": {},
   "outputs": [
    {
     "name": "stderr",
     "output_type": "stream",
     "text": [
      "\u001b[2m\u001b[36m(make_a_study pid=3986682)\u001b[0m \u001b[32m[I 2023-06-02 20:15:12,268]\u001b[0m A new study created in memory with name: age at diagnosis (months)\u001b[0m\n",
      "\u001b[2m\u001b[36m(make_a_study pid=3986680)\u001b[0m \u001b[32m[I 2023-06-02 20:15:12,604]\u001b[0m A new study created in memory with name: ntbc dosis mg/kg/day\u001b[0m\n",
      "\u001b[2m\u001b[36m(make_a_study pid=3986683)\u001b[0m \u001b[32m[I 2023-06-02 20:15:28,167]\u001b[0m Trial 6 finished with values: [0.6191756272401434, 0.35824260115623474] and parameters: {'seed': 6759, 'max_depth': 6, 'eta': 0.45353759500018986, 'subsample': 0.2773242858830184, 'lambda': 0.4184107719972632, 'alpha': 0.6768646293385235, 'scale_pos_weight': 4.938862973492467, 'kfold_splits': 2}. \u001b[0m\u001b[32m [repeated 19x across cluster]\u001b[0m\n",
      "\u001b[2m\u001b[36m(make_a_study pid=3986680)\u001b[0m \u001b[32m[I 2023-06-02 20:15:33,230]\u001b[0m Trial 15 finished with values: [0.5017921146953406, 0.11937907338142395] and parameters: {'seed': 9316, 'max_depth': 6, 'eta': 0.4412032630206293, 'subsample': 0.40940798264580636, 'lambda': 0.5870578663991503, 'alpha': 0.22539017341056256, 'scale_pos_weight': 2.7298651772688114, 'kfold_splits': 2}. \u001b[0m\u001b[32m [repeated 44x across cluster]\u001b[0m\n",
      "\u001b[2m\u001b[36m(make_a_study pid=3986683)\u001b[0m \u001b[32m[I 2023-06-02 20:15:39,212]\u001b[0m Trial 3 finished with values: [0.45340501792114696, 0.30871862173080444] and parameters: {'seed': 2547, 'max_depth': 10, 'eta': 0.01457411680620543, 'subsample': 0.29305773324506146, 'lambda': 0.010546957598060347, 'alpha': 0.8498322876434001, 'scale_pos_weight': 2.8909898392447566, 'kfold_splits': 2}. \u001b[0m\u001b[32m [repeated 32x across cluster]\u001b[0m\n",
      "\u001b[2m\u001b[36m(make_a_study pid=3986680)\u001b[0m \u001b[32m[I 2023-06-02 20:15:47,343]\u001b[0m Trial 13 finished with values: [0.5304659498207884, 0.030947847291827202] and parameters: {'seed': 7486, 'max_depth': 2, 'eta': 0.029295310918745543, 'subsample': 0.45792977666064827, 'lambda': 0.48174535334696167, 'alpha': 0.8639557058319751, 'scale_pos_weight': 3.0079280482865745, 'kfold_splits': 4}. \u001b[0m\u001b[32m [repeated 2x across cluster]\u001b[0m\n",
      "\u001b[2m\u001b[36m(make_a_study pid=3986690)\u001b[0m \u001b[32m[I 2023-06-02 20:15:52,456]\u001b[0m Trial 25 finished with values: [0.42473118279569894, 0.09183941036462784] and parameters: {'seed': 3803, 'max_depth': 7, 'eta': 0.2200080726750919, 'subsample': 0.37457070178643626, 'lambda': 0.13649536474239943, 'alpha': 0.6823156575725292, 'scale_pos_weight': 3.9845174677333173, 'kfold_splits': 4}. \u001b[0m\u001b[32m [repeated 24x across cluster]\u001b[0m\n",
      "\u001b[2m\u001b[36m(make_a_study pid=3986682)\u001b[0m \u001b[32m[I 2023-06-02 20:15:58,024]\u001b[0m Trial 35 finished with values: [0.5053763440860215, 0.6491736769676208] and parameters: {'seed': 6295, 'max_depth': 5, 'eta': 0.18096688977693368, 'subsample': 0.47185944793073153, 'lambda': 0.7502332160474089, 'alpha': 0.5996288412840394, 'scale_pos_weight': 0.8374517689628336, 'kfold_splits': 4}. \u001b[0m\u001b[32m [repeated 48x across cluster]\u001b[0m\n",
      "\u001b[2m\u001b[36m(make_a_study pid=3986683)\u001b[0m \u001b[32m[I 2023-06-02 20:16:07,918]\u001b[0m Trial 46 finished with values: [0.6344086021505376, 0.03864044323563576] and parameters: {'seed': 5585, 'max_depth': 7, 'eta': 0.17265117584553194, 'subsample': 0.39641955933272977, 'lambda': 0.6789529643507332, 'alpha': 0.5666925310507819, 'scale_pos_weight': 4.978448081569893, 'kfold_splits': 2}. \u001b[0m\u001b[32m [repeated 8x across cluster]\u001b[0m\n",
      "\u001b[2m\u001b[36m(make_a_study pid=3986680)\u001b[0m \u001b[32m[I 2023-06-02 20:16:13,042]\u001b[0m Trial 41 finished with values: [0.5448028673835126, 0.2747800350189209] and parameters: {'seed': 9793, 'max_depth': 4, 'eta': 0.3891366474282689, 'subsample': 0.2082485489391623, 'lambda': 0.7864693229659707, 'alpha': 0.41586928795666767, 'scale_pos_weight': 1.6201945026296878, 'kfold_splits': 3}. \u001b[0m\u001b[32m [repeated 25x across cluster]\u001b[0m\n",
      "\u001b[2m\u001b[36m(make_a_study pid=3986680)\u001b[0m \u001b[32m[I 2023-06-02 20:16:19,546]\u001b[0m Trial 56 finished with values: [0.47132616487455203, 0.18479974567890167] and parameters: {'seed': 5207, 'max_depth': 8, 'eta': 0.055209945449421045, 'subsample': 0.43950338343965845, 'lambda': 0.24678252393599232, 'alpha': 0.06806535423307936, 'scale_pos_weight': 0.8518843188420699, 'kfold_splits': 2}. \u001b[0m\u001b[32m [repeated 40x across cluster]\u001b[0m\n",
      "\u001b[2m\u001b[36m(make_a_study pid=3986690)\u001b[0m \u001b[32m[I 2023-06-02 20:16:25,323]\u001b[0m Trial 51 finished with values: [0.5089605734767024, 0.04707967862486839] and parameters: {'seed': 3192, 'max_depth': 2, 'eta': 0.029059691919406702, 'subsample': 0.4796246247226087, 'lambda': 0.7767086019493372, 'alpha': 0.6993943353379933, 'scale_pos_weight': 4.50060718122746, 'kfold_splits': 5}. \u001b[0m\u001b[32m [repeated 11x across cluster]\u001b[0m\n",
      "\u001b[2m\u001b[36m(make_a_study pid=3986680)\u001b[0m \u001b[32m[I 2023-06-02 20:16:30,352]\u001b[0m Trial 59 finished with values: [0.3960573476702509, 0.2829534113407135] and parameters: {'seed': 4889, 'max_depth': 10, 'eta': 0.3777399185944807, 'subsample': 0.28084884393986603, 'lambda': 0.40994506338659, 'alpha': 0.03216480553577339, 'scale_pos_weight': 1.4604453057543754, 'kfold_splits': 3}. \u001b[0m\u001b[32m [repeated 15x across cluster]\u001b[0m\n",
      "\u001b[2m\u001b[36m(make_a_study pid=3986682)\u001b[0m \u001b[32m[I 2023-06-02 20:16:35,456]\u001b[0m Trial 70 finished with values: [0.2885304659498208, 1.4228038787841797] and parameters: {'seed': 2545, 'max_depth': 10, 'eta': 0.4361260678731008, 'subsample': 0.24221470969971853, 'lambda': 0.8852618008175561, 'alpha': 0.1100315259966056, 'scale_pos_weight': 1.7977743043399086, 'kfold_splits': 4}. \u001b[0m\u001b[32m [repeated 28x across cluster]\u001b[0m\n",
      "\u001b[2m\u001b[36m(make_a_study pid=3986682)\u001b[0m \u001b[32m[I 2023-06-02 20:16:41,018]\u001b[0m Trial 62 finished with values: [0.5967741935483871, 0.1964813470840454] and parameters: {'seed': 9974, 'max_depth': 7, 'eta': 0.01847288417353965, 'subsample': 0.1925430422834476, 'lambda': 0.6197407596530613, 'alpha': 0.34179097003489634, 'scale_pos_weight': 2.701716802847493, 'kfold_splits': 2}. \u001b[0m\u001b[32m [repeated 23x across cluster]\u001b[0m\n",
      "\u001b[2m\u001b[36m(make_a_study pid=3986683)\u001b[0m \u001b[32m[I 2023-06-02 20:16:47,990]\u001b[0m Trial 80 finished with values: [0.4103942652329749, 0.17822542786598206] and parameters: {'seed': 4812, 'max_depth': 5, 'eta': 0.14358181251831373, 'subsample': 0.10842197408146165, 'lambda': 0.010546957598060347, 'alpha': 0.8498322876434001, 'scale_pos_weight': 2.4544575343029957, 'kfold_splits': 2}. \u001b[0m\u001b[32m [repeated 13x across cluster]\u001b[0m\n"
     ]
    },
    {
     "ename": "KeyboardInterrupt",
     "evalue": "",
     "output_type": "error",
     "traceback": [
      "\u001b[0;31m---------------------------------------------------------------------------\u001b[0m",
      "\u001b[0;31mKeyboardInterrupt\u001b[0m                         Traceback (most recent call last)",
      "File \u001b[0;32m<timed exec>:10\u001b[0m\n",
      "File \u001b[0;32m/DeepenData/.miniconda/envs/spark/lib/python3.10/site-packages/ray/_private/client_mode_hook.py:105\u001b[0m, in \u001b[0;36mclient_mode_hook.<locals>.wrapper\u001b[0;34m(*args, **kwargs)\u001b[0m\n\u001b[1;32m    103\u001b[0m     \u001b[39mif\u001b[39;00m func\u001b[39m.\u001b[39m\u001b[39m__name__\u001b[39m \u001b[39m!=\u001b[39m \u001b[39m\"\u001b[39m\u001b[39minit\u001b[39m\u001b[39m\"\u001b[39m \u001b[39mor\u001b[39;00m is_client_mode_enabled_by_default:\n\u001b[1;32m    104\u001b[0m         \u001b[39mreturn\u001b[39;00m \u001b[39mgetattr\u001b[39m(ray, func\u001b[39m.\u001b[39m\u001b[39m__name__\u001b[39m)(\u001b[39m*\u001b[39margs, \u001b[39m*\u001b[39m\u001b[39m*\u001b[39mkwargs)\n\u001b[0;32m--> 105\u001b[0m \u001b[39mreturn\u001b[39;00m func(\u001b[39m*\u001b[39;49margs, \u001b[39m*\u001b[39;49m\u001b[39m*\u001b[39;49mkwargs)\n",
      "File \u001b[0;32m/DeepenData/.miniconda/envs/spark/lib/python3.10/site-packages/ray/_private/worker.py:2515\u001b[0m, in \u001b[0;36mget\u001b[0;34m(object_refs, timeout)\u001b[0m\n\u001b[1;32m   2510\u001b[0m     \u001b[39mraise\u001b[39;00m \u001b[39mValueError\u001b[39;00m(\n\u001b[1;32m   2511\u001b[0m         \u001b[39m\"\u001b[39m\u001b[39m'\u001b[39m\u001b[39mobject_refs\u001b[39m\u001b[39m'\u001b[39m\u001b[39m must either be an ObjectRef or a list of ObjectRefs.\u001b[39m\u001b[39m\"\u001b[39m\n\u001b[1;32m   2512\u001b[0m     )\n\u001b[1;32m   2514\u001b[0m \u001b[39m# TODO(ujvl): Consider how to allow user to retrieve the ready objects.\u001b[39;00m\n\u001b[0;32m-> 2515\u001b[0m values, debugger_breakpoint \u001b[39m=\u001b[39m worker\u001b[39m.\u001b[39;49mget_objects(object_refs, timeout\u001b[39m=\u001b[39;49mtimeout)\n\u001b[1;32m   2516\u001b[0m \u001b[39mfor\u001b[39;00m i, value \u001b[39min\u001b[39;00m \u001b[39menumerate\u001b[39m(values):\n\u001b[1;32m   2517\u001b[0m     \u001b[39mif\u001b[39;00m \u001b[39misinstance\u001b[39m(value, RayError):\n",
      "File \u001b[0;32m/DeepenData/.miniconda/envs/spark/lib/python3.10/site-packages/ray/_private/worker.py:742\u001b[0m, in \u001b[0;36mWorker.get_objects\u001b[0;34m(self, object_refs, timeout)\u001b[0m\n\u001b[1;32m    736\u001b[0m         \u001b[39mraise\u001b[39;00m \u001b[39mTypeError\u001b[39;00m(\n\u001b[1;32m    737\u001b[0m             \u001b[39mf\u001b[39m\u001b[39m\"\u001b[39m\u001b[39mAttempting to call `get` on the value \u001b[39m\u001b[39m{\u001b[39;00mobject_ref\u001b[39m}\u001b[39;00m\u001b[39m, \u001b[39m\u001b[39m\"\u001b[39m\n\u001b[1;32m    738\u001b[0m             \u001b[39m\"\u001b[39m\u001b[39mwhich is not an ray.ObjectRef.\u001b[39m\u001b[39m\"\u001b[39m\n\u001b[1;32m    739\u001b[0m         )\n\u001b[1;32m    741\u001b[0m timeout_ms \u001b[39m=\u001b[39m \u001b[39mint\u001b[39m(timeout \u001b[39m*\u001b[39m \u001b[39m1000\u001b[39m) \u001b[39mif\u001b[39;00m timeout \u001b[39melse\u001b[39;00m \u001b[39m-\u001b[39m\u001b[39m1\u001b[39m\n\u001b[0;32m--> 742\u001b[0m data_metadata_pairs \u001b[39m=\u001b[39m \u001b[39mself\u001b[39;49m\u001b[39m.\u001b[39;49mcore_worker\u001b[39m.\u001b[39;49mget_objects(\n\u001b[1;32m    743\u001b[0m     object_refs, \u001b[39mself\u001b[39;49m\u001b[39m.\u001b[39;49mcurrent_task_id, timeout_ms\n\u001b[1;32m    744\u001b[0m )\n\u001b[1;32m    745\u001b[0m debugger_breakpoint \u001b[39m=\u001b[39m \u001b[39mb\u001b[39m\u001b[39m\"\u001b[39m\u001b[39m\"\u001b[39m\n\u001b[1;32m    746\u001b[0m \u001b[39mfor\u001b[39;00m (data, metadata) \u001b[39min\u001b[39;00m data_metadata_pairs:\n",
      "File \u001b[0;32mpython/ray/_raylet.pyx:1664\u001b[0m, in \u001b[0;36mray._raylet.CoreWorker.get_objects\u001b[0;34m()\u001b[0m\n",
      "File \u001b[0;32mpython/ray/_raylet.pyx:201\u001b[0m, in \u001b[0;36mray._raylet.check_status\u001b[0;34m()\u001b[0m\n",
      "\u001b[0;31mKeyboardInterrupt\u001b[0m: "
     ]
    },
    {
     "name": "stderr",
     "output_type": "stream",
     "text": [
      "\u001b[2m\u001b[36m(make_a_study pid=3986683)\u001b[0m \u001b[32m[I 2023-06-02 20:16:53,328]\u001b[0m Trial 98 finished with values: [0.510752688172043, 0.12949253618717194] and parameters: {'seed': 5585, 'max_depth': 8, 'eta': 0.17265117584553194, 'subsample': 0.39641955933272977, 'lambda': 0.5556905854886565, 'alpha': 0.5666925310507819, 'scale_pos_weight': 1.4510145287673386, 'kfold_splits': 2}. \u001b[0m\u001b[32m [repeated 37x across cluster]\u001b[0m\n",
      "\u001b[2m\u001b[36m(make_a_study pid=3986683)\u001b[0m \u001b[32m[I 2023-06-02 20:16:53,410]\u001b[0m A new study created in memory with name: ntbc levels (dbs)\u001b[0m\n",
      "\u001b[2m\u001b[36m(make_a_study pid=3986690)\u001b[0m \u001b[32m[I 2023-06-02 20:16:56,078]\u001b[0m A new study created in memory with name: sca (urine)\u001b[0m\n",
      "\u001b[2m\u001b[36m(make_a_study pid=3986680)\u001b[0m \u001b[32m[I 2023-06-02 20:16:58,336]\u001b[0m Trial 94 finished with values: [0.3682795698924731, 0.35124680399894714] and parameters: {'seed': 8592, 'max_depth': 8, 'eta': 0.44110786750886727, 'subsample': 0.3227033519069556, 'lambda': 0.016475835394501814, 'alpha': 0.7155079416154675, 'scale_pos_weight': 0.8899017300179479, 'kfold_splits': 3}. \u001b[0m\u001b[32m [repeated 33x across cluster]\u001b[0m\n",
      "\u001b[2m\u001b[36m(make_a_study pid=3986680)\u001b[0m \u001b[32m[I 2023-06-02 20:17:00,337]\u001b[0m A new study created in memory with name: methionine (plasma)\u001b[0m\n",
      "\u001b[2m\u001b[36m(make_a_study pid=3986682)\u001b[0m \u001b[32m[I 2023-06-02 20:17:00,767]\u001b[0m A new study created in memory with name: tyrosine (plasma)\u001b[0m\n",
      "\u001b[2m\u001b[36m(make_a_study pid=3986683)\u001b[0m \u001b[32m[I 2023-06-02 20:17:13,514]\u001b[0m Trial 8 finished with values: [0.4059139784946237, 0.24335680902004242] and parameters: {'seed': 7340, 'max_depth': 2, 'eta': 0.23955970809799187, 'subsample': 0.4757880821255114, 'lambda': 0.35877909792348595, 'alpha': 0.8157678849647667, 'scale_pos_weight': 1.037887538436959, 'kfold_splits': 2}. \u001b[0m\u001b[32m [repeated 17x across cluster]\u001b[0m\n",
      "\u001b[2m\u001b[36m(make_a_study pid=3986690)\u001b[0m \u001b[32m[I 2023-06-02 20:17:18,851]\u001b[0m Trial 19 finished with values: [0.49641577060931896, 0.23647359013557434] and parameters: {'seed': 3294, 'max_depth': 9, 'eta': 0.22492732867162205, 'subsample': 0.17413053421065772, 'lambda': 0.7229374174808717, 'alpha': 0.3331620466883206, 'scale_pos_weight': 2.071087114240107, 'kfold_splits': 4}. \u001b[0m\u001b[32m [repeated 34x across cluster]\u001b[0m\n",
      "\u001b[2m\u001b[36m(make_a_study pid=3986682)\u001b[0m \u001b[32m[I 2023-06-02 20:17:24,799]\u001b[0m Trial 17 finished with values: [0.46953405017921146, 0.07757271826267242] and parameters: {'seed': 9074, 'max_depth': 3, 'eta': 0.056499798277254654, 'subsample': 0.15919334778684968, 'lambda': 0.10854783015949254, 'alpha': 0.3034820159958743, 'scale_pos_weight': 2.255695249476313, 'kfold_splits': 5}. \u001b[0m\u001b[32m [repeated 38x across cluster]\u001b[0m\n",
      "\u001b[2m\u001b[36m(make_a_study pid=3986682)\u001b[0m \u001b[32m[I 2023-06-02 20:17:30,279]\u001b[0m Trial 12 finished with values: [0.4551971326164875, 0.12592026591300964] and parameters: {'seed': 2905, 'max_depth': 2, 'eta': 0.011016724686172624, 'subsample': 0.4313075590772625, 'lambda': 0.3732310317258728, 'alpha': 0.5734617752773609, 'scale_pos_weight': 2.3814732845747226, 'kfold_splits': 2}. \u001b[0m\u001b[32m [repeated 6x across cluster]\u001b[0m\n",
      "\u001b[2m\u001b[36m(make_a_study pid=3986683)\u001b[0m \u001b[32m[I 2023-06-02 20:17:35,394]\u001b[0m Trial 31 finished with values: [0.42114695340501795, 0.26333409547805786] and parameters: {'seed': 1184, 'max_depth': 8, 'eta': 0.27351143094581376, 'subsample': 0.34492766891316107, 'lambda': 0.08918252467117638, 'alpha': 0.2797767406150966, 'scale_pos_weight': 0.3841010808754025, 'kfold_splits': 4}. \u001b[0m\u001b[32m [repeated 10x across cluster]\u001b[0m\n",
      "\u001b[2m\u001b[36m(make_a_study pid=3986680)\u001b[0m \u001b[32m[I 2023-06-02 20:17:40,404]\u001b[0m Trial 24 finished with values: [0.3817204301075269, 0.1254851222038269] and parameters: {'seed': 6668, 'max_depth': 5, 'eta': 0.30274595230172313, 'subsample': 0.2824395465264249, 'lambda': 0.5178549503552129, 'alpha': 0.993514843146972, 'scale_pos_weight': 3.8514990053714833, 'kfold_splits': 3}. \u001b[0m\u001b[32m [repeated 31x across cluster]\u001b[0m\n",
      "\u001b[2m\u001b[36m(make_a_study pid=3986682)\u001b[0m \u001b[32m[I 2023-06-02 20:17:45,723]\u001b[0m Trial 37 finished with values: [0.7473118279569892, 0.18039049208164215] and parameters: {'seed': 1061, 'max_depth': 4, 'eta': 0.35736723824478395, 'subsample': 0.1803286283119405, 'lambda': 0.910220262017662, 'alpha': 0.7459889513161301, 'scale_pos_weight': 1.780275468638504, 'kfold_splits': 4}. \u001b[0m\u001b[32m [repeated 32x across cluster]\u001b[0m\n",
      "\u001b[2m\u001b[36m(make_a_study pid=3986680)\u001b[0m \u001b[32m[I 2023-06-02 20:17:51,416]\u001b[0m Trial 39 finished with values: [0.37813620071684595, 0.1872677356004715] and parameters: {'seed': 9911, 'max_depth': 3, 'eta': 0.16759367188260352, 'subsample': 0.11508904598720214, 'lambda': 0.9792116929937683, 'alpha': 0.9389243461525116, 'scale_pos_weight': 0.5705444253064407, 'kfold_splits': 5}. \u001b[0m\u001b[32m [repeated 6x across cluster]\u001b[0m\n",
      "\u001b[2m\u001b[36m(make_a_study pid=3986690)\u001b[0m \u001b[32m[I 2023-06-02 20:17:56,730]\u001b[0m Trial 40 finished with values: [0.6863799283154122, 0.2492566704750061] and parameters: {'seed': 5740, 'max_depth': 10, 'eta': 0.2987138165713671, 'subsample': 0.19407763442034406, 'lambda': 0.5563583295977353, 'alpha': 0.639104626998707, 'scale_pos_weight': 3.3179986084434496, 'kfold_splits': 5}. \u001b[0m\u001b[32m [repeated 20x across cluster]\u001b[0m\n",
      "\u001b[2m\u001b[36m(make_a_study pid=3986682)\u001b[0m \u001b[32m[I 2023-06-02 20:18:02,219]\u001b[0m Trial 42 finished with values: [0.43637992831541217, 0.22639216482639313] and parameters: {'seed': 9997, 'max_depth': 7, 'eta': 0.34858874605067103, 'subsample': 0.13454363955904913, 'lambda': 0.9349063469712048, 'alpha': 0.3748194645234122, 'scale_pos_weight': 2.0546685007772836, 'kfold_splits': 5}. \u001b[0m\u001b[32m [repeated 29x across cluster]\u001b[0m\n",
      "\u001b[2m\u001b[36m(make_a_study pid=3986690)\u001b[0m \u001b[32m[I 2023-06-02 20:18:07,796]\u001b[0m Trial 58 finished with values: [0.4139784946236559, 0.09976920485496521] and parameters: {'seed': 3531, 'max_depth': 3, 'eta': 0.34459183585914716, 'subsample': 0.23042277727724192, 'lambda': 0.6435784736926121, 'alpha': 0.38076379049646325, 'scale_pos_weight': 3.433861657463547, 'kfold_splits': 4}. \u001b[0m\u001b[32m [repeated 23x across cluster]\u001b[0m\n"
     ]
    }
   ],
   "source": [
    "%%time\n",
    "\n",
    "studies = make_multiple_studies(\n",
    "    ray_df_train, \n",
    "    features = features,\n",
    "    targets = [binary_target],\n",
    "    n_trials=100,\n",
    "    Independent_testset = True,\n",
    "    Independent_testset_df = ray_df_test\n",
    ")\n",
    "\n",
    "studies = ray.get(studies)"
   ]
  },
  {
   "cell_type": "code",
   "execution_count": null,
   "metadata": {},
   "outputs": [],
   "source": []
  },
  {
   "cell_type": "code",
   "execution_count": null,
   "metadata": {},
   "outputs": [],
   "source": [
    "with open('aa.pickle', 'wb') as handle:\n",
    "    pickle.dump(studies, handle, protocol=pickle.HIGHEST_PROTOCOL)    "
   ]
  }
 ],
 "metadata": {
  "kernelspec": {
   "display_name": "spark",
   "language": "python",
   "name": "python3"
  },
  "language_info": {
   "codemirror_mode": {
    "name": "ipython",
    "version": 3
   },
   "file_extension": ".py",
   "mimetype": "text/x-python",
   "name": "python",
   "nbconvert_exporter": "python",
   "pygments_lexer": "ipython3",
   "version": "3.10.11"
  },
  "orig_nbformat": 4
 },
 "nbformat": 4,
 "nbformat_minor": 2
}
