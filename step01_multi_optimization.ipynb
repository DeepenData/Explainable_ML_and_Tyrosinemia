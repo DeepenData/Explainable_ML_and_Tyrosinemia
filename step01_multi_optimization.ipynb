{
 "cells": [
  {
   "cell_type": "code",
   "execution_count": 1,
   "metadata": {},
   "outputs": [
    {
     "name": "stdout",
     "output_type": "stream",
     "text": [
      "Both CSV files have the same number of columns: 16\n",
      "Column names are the same.\n",
      "Column order is the same.\n",
      "All common columns have the same data types.\n"
     ]
    },
    {
     "data": {
      "text/plain": [
       "(Index(['código', 'age at diagnosis (months)', 'ntbc dosis mg/kg/day',\n",
       "        'ntbc levels (dbs)', 'sca (urine)', 'methionine (plasma)',\n",
       "        'tyrosine (plasma)', 'phenylalanine (plasma)', 'pt (sec)', 'bili total',\n",
       "        'gpt', 'got', 'ggt', 'alkaline phosphatase', 'alfa-fetoprotein',\n",
       "        'glicemia'],\n",
       "       dtype='object'),\n",
       " Index(['código', 'age at diagnosis (months)', 'ntbc dosis mg/kg/day',\n",
       "        'ntbc levels (dbs)', 'sca (urine)', 'methionine (plasma)',\n",
       "        'tyrosine (plasma)', 'phenylalanine (plasma)', 'pt (sec)', 'bili total',\n",
       "        'gpt', 'got', 'ggt', 'alkaline phosphatase', 'alfa-fetoprotein',\n",
       "        'glicemia'],\n",
       "       dtype='object'))"
      ]
     },
     "execution_count": 1,
     "metadata": {},
     "output_type": "execute_result"
    }
   ],
   "source": [
    "import warnings\n",
    "warnings.filterwarnings(\"ignore\")\n",
    "from utils import *\n",
    "import pickle\n",
    "OPBG = [ 'código','age at diagnosis (months)',            \n",
    "            'ntbc dosis mg/kg/day',\n",
    "            'ntbc levels (dbs)',\n",
    "            'sca (urine)',\n",
    "            'methionine (plasma)',\n",
    "            'tyrosine (plasma)',\n",
    "            'phenylalanine (plasma)',\n",
    "            'pt (sec)',\n",
    "            'bili total',\n",
    "            'gpt',\n",
    "            'got',\n",
    "            'ggt',\n",
    "            'alkaline phosphatase',\n",
    "            'alfa-fetoprotein','glicemia']\n",
    "\n",
    "\n",
    "# OPBG = [ 'age at diagnosis (months)',    'código',   \n",
    "#                 'ntbc dosis mg/kg/day',\n",
    "#                 'ntbc levels (dbs)',\n",
    "#                 'sca (urine)',\n",
    "#                 'methionine dbs',\n",
    "#                 'tyrosine dbs',\n",
    "#                 'phenylalanine dbs',\n",
    "#                 'methionine (plasma)',\n",
    "#                 'tyrosine (plasma)',\n",
    "#                 'phenylalanine (plasma)',\n",
    "#                 'inr',\n",
    "#                 'pt (sec)',\n",
    "#                 'bili total',\n",
    "#                 'gpt',\n",
    "#                 'got',\n",
    "#                 'ggt',\n",
    "#                 'alkaline phosphatase',\n",
    "#                 'alfa-fetoprotein',]\n",
    "    \n",
    "df1 = pd.read_csv('data/tirosinemia.csv').loc[:,OPBG]\n",
    "df2 = pd.read_csv('data/tirosinemia_italia.csv').loc[:,OPBG]\n",
    "def extract_transform(path, keep_cols, cols_rows_with_missing_values, new_binary_target):\n",
    "    _ , spark_df = SparkDataProcessor().process_data(\n",
    "        data_csv_path= path,\n",
    "        )\n",
    "\n",
    "    return prepare_spark_df(\n",
    "        spark_df=spark_df,\n",
    "        keep_cols=keep_cols,\n",
    "        cols_rows_with_missing_values=cols_rows_with_missing_values,\n",
    "        new_binary_target = new_binary_target,\n",
    "    )\n",
    "compare_dataframes(df1, df2)\n",
    "df1.columns, df2.columns"
   ]
  },
  {
   "cell_type": "code",
   "execution_count": 2,
   "metadata": {},
   "outputs": [
    {
     "name": "stdout",
     "output_type": "stream",
     "text": [
      "23/06/02 21:36:53 WARN Utils: Your hostname, pop-os resolves to a loopback address: 127.0.1.1; using 100.64.221.100 instead (on interface tailscale0)\n",
      "23/06/02 21:36:53 WARN Utils: Set SPARK_LOCAL_IP if you need to bind to another address\n"
     ]
    },
    {
     "name": "stderr",
     "output_type": "stream",
     "text": [
      "Setting default log level to \"WARN\".\n",
      "To adjust logging level use sc.setLogLevel(newLevel). For SparkR, use setLogLevel(newLevel).\n"
     ]
    },
    {
     "name": "stdout",
     "output_type": "stream",
     "text": [
      "23/06/02 21:36:53 WARN NativeCodeLoader: Unable to load native-hadoop library for your platform... using builtin-java classes where applicable\n",
      "23/06/02 21:36:55 WARN package: Truncated the string representation of a plan since it was too large. This behavior can be adjusted by setting 'spark.sql.debug.maxToStringFields'.\n"
     ]
    }
   ],
   "source": [
    "\n",
    "binary_target = 'Alpha-Fet'\n",
    "df_train, _ = extract_transform(\"data/tirosinemia.csv\",                 OPBG, ['alfa-fetoprotein', 'sca (urine)'],binary_target)\n",
    "df_train.drop('código', axis=1, inplace=True)\n",
    "df_test, df_test_raw  = extract_transform(\"data/tirosinemia_italia.csv\", OPBG, ['alfa-fetoprotein', 'sca (urine)'],binary_target)\n",
    "\n"
   ]
  },
  {
   "cell_type": "code",
   "execution_count": 3,
   "metadata": {},
   "outputs": [
    {
     "name": "stdout",
     "output_type": "stream",
     "text": [
      "Both CSV files have the same number of columns: 15\n",
      "Column names are the same.\n",
      "Column order is the same.\n",
      "All common columns have the same data types.\n"
     ]
    }
   ],
   "source": [
    "\n",
    "Rome_mask = df_test_raw['código'].str.startswith('R')\n",
    "\n",
    "df_test_FLOR  = encode_and_convert (df_test[~Rome_mask].drop('código', axis=1).reset_index(inplace=False, drop=True))\n",
    "df_test_ROME  = encode_and_convert (df_test[Rome_mask].drop('código', axis=1).reset_index(inplace=False, drop=True))\n",
    "df_test_FLOR['Alpha-Fet'] = df_test_FLOR['Alpha-Fet'].astype('int8').astype('category')\n",
    "df_test_ROME['Alpha-Fet'] = df_test_ROME['Alpha-Fet'].astype('int8').astype('category')\n",
    "\n",
    "\n",
    "compare_dataframes(df_test_ROME, df_test_FLOR)\n"
   ]
  },
  {
   "cell_type": "code",
   "execution_count": 4,
   "metadata": {},
   "outputs": [
    {
     "name": "stdout",
     "output_type": "stream",
     "text": [
      "Both CSV files have the same number of columns: 15\n",
      "Column names are the same.\n",
      "Column order is the same.\n",
      "All common columns have the same data types.\n"
     ]
    }
   ],
   "source": [
    "\n",
    "\n",
    "compare_dataframes(df_train, df_test_ROME)\n",
    "\n",
    "\n",
    "\n",
    "\n"
   ]
  },
  {
   "cell_type": "code",
   "execution_count": 5,
   "metadata": {},
   "outputs": [
    {
     "name": "stderr",
     "output_type": "stream",
     "text": [
      "2023-06-02 21:36:58,174\tINFO worker.py:1616 -- Started a local Ray instance. View the dashboard at \u001b[1m\u001b[32m127.0.0.1:8265 \u001b[39m\u001b[22m\n"
     ]
    }
   ],
   "source": [
    "ray.shutdown()\n",
    "ray_df_train = ray.put(df_train)\n",
    "ray_df_test  = ray.put(df_test_ROME)"
   ]
  },
  {
   "cell_type": "code",
   "execution_count": 6,
   "metadata": {},
   "outputs": [
    {
     "data": {
      "text/plain": [
       "['age at diagnosis (months)',\n",
       " 'ntbc dosis mg/kg/day',\n",
       " 'ntbc levels (dbs)',\n",
       " 'sca (urine)',\n",
       " 'methionine (plasma)',\n",
       " 'tyrosine (plasma)',\n",
       " 'phenylalanine (plasma)',\n",
       " 'pt (sec)',\n",
       " 'bili total',\n",
       " 'gpt',\n",
       " 'got',\n",
       " 'ggt',\n",
       " 'alkaline phosphatase',\n",
       " 'glicemia']"
      ]
     },
     "execution_count": 6,
     "metadata": {},
     "output_type": "execute_result"
    }
   ],
   "source": [
    "features : list[str] = df_train.columns.tolist()\n",
    "features.remove(binary_target)\n",
    "features"
   ]
  },
  {
   "cell_type": "code",
   "execution_count": 7,
   "metadata": {},
   "outputs": [
    {
     "name": "stderr",
     "output_type": "stream",
     "text": [
      "\u001b[2m\u001b[36m(make_a_study pid=2004147)\u001b[0m \u001b[32m[I 2023-06-02 21:36:59,737]\u001b[0m A new study created in memory with name: sca (urine) (Alpha-Fet)\u001b[0m\n",
      "\u001b[2m\u001b[36m(make_a_study pid=2004151)\u001b[0m \u001b[32m[I 2023-06-02 21:36:59,773]\u001b[0m A new study created in memory with name: ntbc dosis mg/kg/day (Alpha-Fet)\u001b[0m\n",
      "\u001b[2m\u001b[36m(make_a_study pid=2004144)\u001b[0m \u001b[32m[I 2023-06-02 21:36:59,752]\u001b[0m A new study created in memory with name: age at diagnosis (months) (Alpha-Fet)\u001b[0m\n",
      "\u001b[2m\u001b[36m(make_a_study pid=2004134)\u001b[0m \u001b[32m[I 2023-06-02 21:36:59,756]\u001b[0m A new study created in memory with name: ntbc levels (dbs) (Alpha-Fet)\u001b[0m\n",
      "\u001b[2m\u001b[36m(make_a_study pid=2004151)\u001b[0m \u001b[32m[I 2023-06-02 21:37:14,337]\u001b[0m Trial 2 finished with values: [0.5, 0.0] and parameters: {'seed': 276, 'max_depth': 6, 'eta': 0.4485788460408156, 'subsample': 0.11478326349963149, 'lambda': 0.2824383745504637, 'alpha': 0.7316356315574625, 'scale_pos_weight': 0.2571153942665755, 'kfold_splits': 2}. \u001b[0m\n",
      "\u001b[2m\u001b[36m(make_a_study pid=2004151)\u001b[0m \u001b[32m[I 2023-06-02 21:37:14,447]\u001b[0m Trial 9 finished with values: [0.696969696969697, 0.0] and parameters: {'seed': 2916, 'max_depth': 2, 'eta': 0.26218994561005077, 'subsample': 0.3535359152079799, 'lambda': 0.5368884666084245, 'alpha': 0.1397723226134071, 'scale_pos_weight': 4.016333015264728, 'kfold_splits': 2}. \u001b[0m\n",
      "\u001b[2m\u001b[36m(make_a_study pid=2004151)\u001b[0m \u001b[32m[I 2023-06-02 21:37:14,537]\u001b[0m Trial 15 finished with values: [0.9090909090909092, 0.10451075434684753] and parameters: {'seed': 1492, 'max_depth': 7, 'eta': 0.25704441920530324, 'subsample': 0.2623327345889823, 'lambda': 0.952916311702911, 'alpha': 0.218449198220929, 'scale_pos_weight': 3.794350310421204, 'kfold_splits': 2}. \u001b[0m\n",
      "\u001b[2m\u001b[36m(make_a_study pid=2004144)\u001b[0m \u001b[32m[I 2023-06-02 21:37:20,395]\u001b[0m Trial 6 finished with values: [0.6641414141414141, 0.3324480652809143] and parameters: {'seed': 5159, 'max_depth': 7, 'eta': 0.10053313290139063, 'subsample': 0.42795139561820084, 'lambda': 0.17978515019671581, 'alpha': 0.5439322683989994, 'scale_pos_weight': 3.6714564845693216, 'kfold_splits': 5}. \u001b[0m\u001b[32m [repeated 75x across cluster] (Ray deduplicates logs by default. Set RAY_DEDUP_LOGS=0 to disable log deduplication, or see https://docs.ray.io/en/master/ray-observability/ray-logging.html#log-deduplication for more options.)\u001b[0m\n",
      "\u001b[2m\u001b[36m(make_a_study pid=2004134)\u001b[0m \u001b[32m[I 2023-06-02 21:37:28,821]\u001b[0m Trial 21 finished with values: [0.8939393939393939, 0.28925278782844543] and parameters: {'seed': 4366, 'max_depth': 5, 'eta': 0.4004825418582988, 'subsample': 0.444886638125333, 'lambda': 0.30688007415572427, 'alpha': 0.053283518262718044, 'scale_pos_weight': 1.0307058835701954, 'kfold_splits': 2}. \u001b[0m\u001b[32m [repeated 3x across cluster]\u001b[0m\n",
      "\u001b[2m\u001b[36m(make_a_study pid=2004147)\u001b[0m \u001b[32m[I 2023-06-02 21:37:34,019]\u001b[0m Trial 36 finished with values: [0.8712121212121212, 0.04114968702197075] and parameters: {'seed': 5652, 'max_depth': 6, 'eta': 0.12248497895988594, 'subsample': 0.19666159191956673, 'lambda': 0.50481781211973, 'alpha': 0.4521589005118424, 'scale_pos_weight': 2.138934823537251, 'kfold_splits': 5}. \u001b[0m\u001b[32m [repeated 70x across cluster]\u001b[0m\n",
      "\u001b[2m\u001b[36m(make_a_study pid=2004147)\u001b[0m \u001b[32m[I 2023-06-02 21:37:39,039]\u001b[0m Trial 44 finished with values: [0.8560606060606061, 0.0] and parameters: {'seed': 1116, 'max_depth': 7, 'eta': 0.4069160027745374, 'subsample': 0.2732179374447391, 'lambda': 0.1435830704281975, 'alpha': 0.9365431574778323, 'scale_pos_weight': 2.974083724454944, 'kfold_splits': 3}. \u001b[0m\u001b[32m [repeated 22x across cluster]\u001b[0m\n",
      "\u001b[2m\u001b[36m(make_a_study pid=2004151)\u001b[0m \u001b[32m[I 2023-06-02 21:37:38,999]\u001b[0m A new study created in memory with name: methionine (plasma) (Alpha-Fet)\u001b[0m\n",
      "\u001b[2m\u001b[36m(make_a_study pid=2004147)\u001b[0m \u001b[32m[I 2023-06-02 21:37:42,903]\u001b[0m A new study created in memory with name: phenylalanine (plasma) (Alpha-Fet)\u001b[0m\n",
      "\u001b[2m\u001b[36m(make_a_study pid=2004144)\u001b[0m \u001b[32m[I 2023-06-02 21:37:42,862]\u001b[0m A new study created in memory with name: tyrosine (plasma) (Alpha-Fet)\u001b[0m\n",
      "\u001b[2m\u001b[36m(make_a_study pid=2004134)\u001b[0m \u001b[32m[I 2023-06-02 21:37:42,966]\u001b[0m A new study created in memory with name: pt (sec) (Alpha-Fet)\u001b[0m\n",
      "\u001b[2m\u001b[36m(make_a_study pid=2004151)\u001b[0m \u001b[32m[I 2023-06-02 21:37:55,695]\u001b[0m Trial 2 finished with values: [0.8712121212121212, 0.2193436622619629] and parameters: {'seed': 8655, 'max_depth': 3, 'eta': 0.446475145997087, 'subsample': 0.17650726232508018, 'lambda': 0.40104467453365555, 'alpha': 0.6107340994656117, 'scale_pos_weight': 3.4370968750389648, 'kfold_splits': 2}. \u001b[0m\u001b[32m [repeated 31x across cluster]\u001b[0m\n",
      "\u001b[2m\u001b[36m(make_a_study pid=2004134)\u001b[0m \u001b[32m[I 2023-06-02 21:38:02,013]\u001b[0m Trial 14 finished with values: [0.9393939393939394, 0.018438708037137985] and parameters: {'seed': 6247, 'max_depth': 10, 'eta': 0.09403441136450573, 'subsample': 0.4626682351103032, 'lambda': 0.43877799783051485, 'alpha': 0.7051647658044078, 'scale_pos_weight': 0.5415532015047303, 'kfold_splits': 5}. \u001b[0m\u001b[32m [repeated 71x across cluster]\u001b[0m\n",
      "\u001b[2m\u001b[36m(make_a_study pid=2004134)\u001b[0m \u001b[32m[I 2023-06-02 21:38:08,592]\u001b[0m Trial 18 finished with values: [0.952020202020202, 0.06772463768720627] and parameters: {'seed': 9799, 'max_depth': 4, 'eta': 0.022455009352969686, 'subsample': 0.31930101725301574, 'lambda': 0.039009524467429335, 'alpha': 0.06743691028857834, 'scale_pos_weight': 2.279778476059282, 'kfold_splits': 4}. \u001b[0m\u001b[32m [repeated 4x across cluster]\u001b[0m\n",
      "\u001b[2m\u001b[36m(make_a_study pid=2004144)\u001b[0m \u001b[32m[I 2023-06-02 21:38:13,751]\u001b[0m Trial 27 finished with values: [0.8636363636363636, 0.3358202874660492] and parameters: {'seed': 3349, 'max_depth': 2, 'eta': 0.126743389903852, 'subsample': 0.3297124250670662, 'lambda': 0.7988975098698912, 'alpha': 0.023004843439277778, 'scale_pos_weight': 1.841770280029034, 'kfold_splits': 3}. \u001b[0m\u001b[32m [repeated 36x across cluster]\u001b[0m\n",
      "\u001b[2m\u001b[36m(make_a_study pid=2004147)\u001b[0m \u001b[32m[I 2023-06-02 21:38:19,937]\u001b[0m Trial 39 finished with values: [0.8585858585858586, 0.305611789226532] and parameters: {'seed': 374, 'max_depth': 9, 'eta': 0.2913889223187795, 'subsample': 0.18873150197949654, 'lambda': 0.18303158592140334, 'alpha': 0.44520994063596775, 'scale_pos_weight': 4.447110744266321, 'kfold_splits': 3}. \u001b[0m\u001b[32m [repeated 42x across cluster]\u001b[0m\n",
      "\u001b[2m\u001b[36m(make_a_study pid=2004151)\u001b[0m \u001b[32m[I 2023-06-02 21:38:20,492]\u001b[0m A new study created in memory with name: bili total (Alpha-Fet)\u001b[0m\n",
      "\u001b[2m\u001b[36m(make_a_study pid=2004144)\u001b[0m \u001b[32m[I 2023-06-02 21:38:22,806]\u001b[0m A new study created in memory with name: gpt (Alpha-Fet)\u001b[0m\n",
      "\u001b[2m\u001b[36m(make_a_study pid=2004147)\u001b[0m \u001b[32m[I 2023-06-02 21:38:22,976]\u001b[0m A new study created in memory with name: got (Alpha-Fet)\u001b[0m\n",
      "\u001b[2m\u001b[36m(make_a_study pid=2004134)\u001b[0m \u001b[32m[I 2023-06-02 21:38:22,988]\u001b[0m A new study created in memory with name: ggt (Alpha-Fet)\u001b[0m\n",
      "\u001b[2m\u001b[36m(make_a_study pid=2004151)\u001b[0m \u001b[32m[I 2023-06-02 21:38:36,331]\u001b[0m Trial 4 finished with values: [0.8484848484848485, 0.0] and parameters: {'seed': 4812, 'max_depth': 5, 'eta': 0.33566030181826534, 'subsample': 0.4615191363107237, 'lambda': 0.7341297288143844, 'alpha': 0.9613324173819872, 'scale_pos_weight': 0.8360129200598776, 'kfold_splits': 2}. \u001b[0m\u001b[32m [repeated 44x across cluster]\u001b[0m\n",
      "\u001b[2m\u001b[36m(make_a_study pid=2004147)\u001b[0m \u001b[32m[I 2023-06-02 21:38:41,440]\u001b[0m Trial 2 finished with values: [0.7702020202020203, 0.0] and parameters: {'seed': 2336, 'max_depth': 6, 'eta': 0.23755313552683946, 'subsample': 0.1611132146022285, 'lambda': 0.6578278326316829, 'alpha': 0.9948621304169074, 'scale_pos_weight': 3.215621702979394, 'kfold_splits': 4}. \u001b[0m\u001b[32m [repeated 71x across cluster]\u001b[0m\n",
      "\u001b[2m\u001b[36m(make_a_study pid=2004134)\u001b[0m \u001b[32m[I 2023-06-02 21:38:47,929]\u001b[0m Trial 8 finished with values: [0.6565656565656566, 0.010129031725227833] and parameters: {'seed': 6239, 'max_depth': 2, 'eta': 0.0262347554213277, 'subsample': 0.37821923167434746, 'lambda': 0.6467812682181053, 'alpha': 0.7499143227266132, 'scale_pos_weight': 4.85412752732974, 'kfold_splits': 4}. \u001b[0m\u001b[32m [repeated 4x across cluster]\u001b[0m\n",
      "\u001b[2m\u001b[36m(make_a_study pid=2004134)\u001b[0m \u001b[32m[I 2023-06-02 21:38:53,021]\u001b[0m Trial 24 finished with values: [0.8686868686868687, 0.0] and parameters: {'seed': 3173, 'max_depth': 9, 'eta': 0.2861869640621101, 'subsample': 0.3843925251120025, 'lambda': 0.19573374959643086, 'alpha': 0.18815806557059822, 'scale_pos_weight': 0.465668138088528, 'kfold_splits': 3}. \u001b[0m\u001b[32m [repeated 15x across cluster]\u001b[0m\n",
      "\u001b[2m\u001b[36m(make_a_study pid=2004144)\u001b[0m \u001b[32m[I 2023-06-02 21:38:58,288]\u001b[0m Trial 36 finished with values: [0.9242424242424242, 0.47912395000457764] and parameters: {'seed': 7072, 'max_depth': 4, 'eta': 0.13593075964536103, 'subsample': 0.4460426011577928, 'lambda': 0.5478222996304989, 'alpha': 0.7067275797844405, 'scale_pos_weight': 3.676642243023455, 'kfold_splits': 5}. \u001b[0m\u001b[32m [repeated 58x across cluster]\u001b[0m\n",
      "\u001b[2m\u001b[36m(make_a_study pid=2004151)\u001b[0m \u001b[32m[I 2023-06-02 21:39:02,037]\u001b[0m A new study created in memory with name: alkaline phosphatase (Alpha-Fet)\u001b[0m\n",
      "\u001b[2m\u001b[36m(make_a_study pid=2004144)\u001b[0m \u001b[32m[I 2023-06-02 21:39:03,700]\u001b[0m Trial 41 finished with values: [0.7752525252525252, 0.44200611114501953] and parameters: {'seed': 1003, 'max_depth': 2, 'eta': 0.16316111450307919, 'subsample': 0.3281150812043486, 'lambda': 0.28282088527885696, 'alpha': 0.4927808341867733, 'scale_pos_weight': 1.141215446198542, 'kfold_splits': 2}. \u001b[0m\u001b[32m [repeated 19x across cluster]\u001b[0m\n",
      "\u001b[2m\u001b[36m(make_a_study pid=2004144)\u001b[0m \u001b[32m[I 2023-06-02 21:39:03,973]\u001b[0m A new study created in memory with name: glicemia (Alpha-Fet)\u001b[0m\n",
      "\u001b[2m\u001b[36m(make_a_study pid=2004151)\u001b[0m \u001b[32m[I 2023-06-02 21:39:49,999]\u001b[0m Trial 17 finished with values: [0.803030303030303, 0.4816478192806244] and parameters: {'seed': 3494, 'max_depth': 10, 'eta': 0.33670653248583965, 'subsample': 0.4417875530891554, 'lambda': 0.19351455583940147, 'alpha': 0.8838576640453208, 'scale_pos_weight': 3.7911226844215657, 'kfold_splits': 2}. \u001b[0m\u001b[32m [repeated 34x across cluster]\u001b[0m\n",
      "\u001b[2m\u001b[36m(make_a_study pid=2004144)\u001b[0m \u001b[32m[I 2023-06-02 21:39:55,421]\u001b[0m Trial 6 finished with values: [0.8080808080808081, 0.19697077572345734] and parameters: {'seed': 30, 'max_depth': 9, 'eta': 0.4825399891463374, 'subsample': 0.24790889447256192, 'lambda': 0.22575854778992066, 'alpha': 0.583872156720121, 'scale_pos_weight': 4.6959918993507195, 'kfold_splits': 4}. \u001b[0m\u001b[32m [repeated 28x across cluster]\u001b[0m\n",
      "\u001b[2m\u001b[36m(make_a_study pid=2004144)\u001b[0m \u001b[32m[I 2023-06-02 21:40:00,904]\u001b[0m Trial 16 finished with values: [0.9090909090909091, 0.05576535314321518] and parameters: {'seed': 4881, 'max_depth': 7, 'eta': 0.036450690977613866, 'subsample': 0.35478317250472036, 'lambda': 0.4530732910300507, 'alpha': 0.8262924595031481, 'scale_pos_weight': 4.616910396299108, 'kfold_splits': 2}. \u001b[0m\u001b[32m [repeated 7x across cluster]\u001b[0m\n",
      "\u001b[2m\u001b[36m(make_a_study pid=2004151)\u001b[0m \u001b[32m[I 2023-06-02 21:40:28,068]\u001b[0m Trial 16 finished with values: [0.8055555555555555, 0.27026277780532837] and parameters: {'seed': 1424, 'max_depth': 3, 'eta': 0.038027677936331945, 'subsample': 0.41804464355828386, 'lambda': 0.882793147346314, 'alpha': 0.3789249936197544, 'scale_pos_weight': 2.5845641529763332, 'kfold_splits': 4}. \u001b[0m\u001b[32m [repeated 2x across cluster]\u001b[0m\n",
      "\u001b[2m\u001b[36m(make_a_study pid=2004151)\u001b[0m \u001b[32m[I 2023-06-02 21:40:40,326]\u001b[0m Trial 22 finished with values: [0.9368686868686869, 0.48087745904922485] and parameters: {'seed': 1094, 'max_depth': 6, 'eta': 0.20940696854850116, 'subsample': 0.3731086855121357, 'lambda': 0.02092769856776222, 'alpha': 0.9027800559915738, 'scale_pos_weight': 3.246022485206769, 'kfold_splits': 2}. \u001b[0m\u001b[32m [repeated 3x across cluster]\u001b[0m\n",
      "\u001b[2m\u001b[36m(make_a_study pid=2004151)\u001b[0m \u001b[32m[I 2023-06-02 21:40:45,409]\u001b[0m Trial 30 finished with values: [0.8813131313131314, 0.030177542939782143] and parameters: {'seed': 8813, 'max_depth': 10, 'eta': 0.10628532794822734, 'subsample': 0.4504572548125736, 'lambda': 0.7244715364992383, 'alpha': 0.1455631658371931, 'scale_pos_weight': 4.577603581518347, 'kfold_splits': 5}. \u001b[0m\u001b[32m [repeated 12x across cluster]\u001b[0m\n",
      "\u001b[2m\u001b[36m(make_a_study pid=2004144)\u001b[0m \u001b[32m[I 2023-06-02 21:40:50,483]\u001b[0m Trial 26 finished with values: [0.7676767676767677, 0.34620386362075806] and parameters: {'seed': 3575, 'max_depth': 10, 'eta': 0.32507703972496016, 'subsample': 0.41546663375691173, 'lambda': 0.6653060905171221, 'alpha': 0.9144547074367113, 'scale_pos_weight': 2.1136090901647058, 'kfold_splits': 5}. \u001b[0m\u001b[32m [repeated 17x across cluster]\u001b[0m\n",
      "\u001b[2m\u001b[36m(make_a_study pid=2004144)\u001b[0m \u001b[32m[I 2023-06-02 21:40:55,748]\u001b[0m Trial 37 finished with values: [0.7803030303030303, 0.0] and parameters: {'seed': 2734, 'max_depth': 2, 'eta': 0.4215408981266385, 'subsample': 0.11352855074920046, 'lambda': 0.2945849668635363, 'alpha': 0.02592970063385458, 'scale_pos_weight': 3.360712754591579, 'kfold_splits': 5}. \u001b[0m\u001b[32m [repeated 4x across cluster]\u001b[0m\n",
      "\u001b[2m\u001b[36m(make_a_study pid=2004144)\u001b[0m \u001b[32m[I 2023-06-02 21:41:01,753]\u001b[0m Trial 21 finished with values: [0.7828282828282829, 0.019214516505599022] and parameters: {'seed': 5110, 'max_depth': 10, 'eta': 0.029602017464900404, 'subsample': 0.27064392560240097, 'lambda': 0.31023742833083057, 'alpha': 0.553524904724642, 'scale_pos_weight': 0.8622502647492342, 'kfold_splits': 3}. \u001b[0m\u001b[32m [repeated 3x across cluster]\u001b[0m\n",
      "\u001b[2m\u001b[36m(make_a_study pid=2004151)\u001b[0m \u001b[32m[I 2023-06-02 21:41:07,821]\u001b[0m Trial 39 finished with values: [0.8434343434343434, 0.46154358983039856] and parameters: {'seed': 8506, 'max_depth': 3, 'eta': 0.4031996088588777, 'subsample': 0.3013820670559729, 'lambda': 0.6373300233094611, 'alpha': 0.06714811750444127, 'scale_pos_weight': 1.1510405171266214, 'kfold_splits': 3}. \u001b[0m\n",
      "\u001b[2m\u001b[36m(make_a_study pid=2004151)\u001b[0m \u001b[32m[I 2023-06-02 21:41:09,892]\u001b[0m Trial 45 finished with values: [0.9722222222222222, 1.1731300354003906] and parameters: {'seed': 1558, 'max_depth': 5, 'eta': 0.46941049522299166, 'subsample': 0.43993603135162185, 'lambda': 0.9041093771383787, 'alpha': 0.007123913366607337, 'scale_pos_weight': 3.5851330799400416, 'kfold_splits': 2}. \u001b[0m\n",
      "\u001b[2m\u001b[36m(make_a_study pid=2004151)\u001b[0m \u001b[32m[I 2023-06-02 21:41:09,986]\u001b[0m Trial 44 finished with values: [0.5643939393939393, 0.0] and parameters: {'seed': 3840, 'max_depth': 10, 'eta': 0.3619109295399641, 'subsample': 0.22355329942000918, 'lambda': 0.9029396484193488, 'alpha': 0.30811551554119154, 'scale_pos_weight': 1.70497303991547, 'kfold_splits': 2}. \u001b[0m\n",
      "\u001b[2m\u001b[36m(make_a_study pid=2004151)\u001b[0m \u001b[32m[I 2023-06-02 21:41:10,035]\u001b[0m Trial 40 finished with values: [0.9267676767676767, 0.2863890826702118] and parameters: {'seed': 3283, 'max_depth': 7, 'eta': 0.468449130434663, 'subsample': 0.2951509731945692, 'lambda': 0.9602516239850658, 'alpha': 0.9814274654550329, 'scale_pos_weight': 1.0622559555680593, 'kfold_splits': 3}. \u001b[0m\n",
      "\u001b[2m\u001b[36m(make_a_study pid=2004151)\u001b[0m \u001b[32m[I 2023-06-02 21:41:10,084]\u001b[0m Trial 43 finished with values: [0.787878787878788, 0.04114887863397598] and parameters: {'seed': 140, 'max_depth': 5, 'eta': 0.09788206397814254, 'subsample': 0.17455400068026897, 'lambda': 0.2063344235074802, 'alpha': 0.20797858624640053, 'scale_pos_weight': 4.69961623688706, 'kfold_splits': 2}. \u001b[0m\n",
      "\u001b[2m\u001b[36m(make_a_study pid=2004151)\u001b[0m \u001b[32m[I 2023-06-02 21:41:10,088]\u001b[0m Trial 47 finished with values: [0.8484848484848485, 0.13352562487125397] and parameters: {'seed': 9802, 'max_depth': 8, 'eta': 0.22654234564815445, 'subsample': 0.4083635968292033, 'lambda': 0.6387569541231232, 'alpha': 0.7778805429274543, 'scale_pos_weight': 2.784514135316703, 'kfold_splits': 2}. \u001b[0m\n",
      "\u001b[2m\u001b[36m(make_a_study pid=2004151)\u001b[0m \u001b[32m[I 2023-06-02 21:41:10,171]\u001b[0m Trial 49 finished with values: [0.8775252525252525, 0.3188107907772064] and parameters: {'seed': 7669, 'max_depth': 4, 'eta': 0.16728887950548063, 'subsample': 0.1294791039140697, 'lambda': 0.5550347122174178, 'alpha': 0.0385409290099441, 'scale_pos_weight': 4.048254029473772, 'kfold_splits': 4}. \u001b[0m\n",
      "\u001b[2m\u001b[36m(make_a_study pid=2004151)\u001b[0m \u001b[32m[I 2023-06-02 21:41:10,176]\u001b[0m Trial 46 finished with values: [0.8712121212121213, 0.080957792699337] and parameters: {'seed': 4450, 'max_depth': 4, 'eta': 0.09490197421982112, 'subsample': 0.26891868015372383, 'lambda': 0.38228040552506093, 'alpha': 0.19470163950123065, 'scale_pos_weight': 1.5085213959361854, 'kfold_splits': 2}. \u001b[0m\n",
      "\u001b[2m\u001b[36m(make_a_study pid=2004151)\u001b[0m \u001b[32m[I 2023-06-02 21:41:10,225]\u001b[0m Trial 48 finished with values: [0.9015151515151515, 0.2606101632118225] and parameters: {'seed': 818, 'max_depth': 7, 'eta': 0.2679587732135888, 'subsample': 0.20290919894400902, 'lambda': 0.3045405655729251, 'alpha': 0.13100334891656795, 'scale_pos_weight': 2.6766769440612403, 'kfold_splits': 4}. \u001b[0m\n",
      "\u001b[2m\u001b[36m(make_a_study pid=2004151)\u001b[0m \u001b[32m[I 2023-06-02 21:41:10,231]\u001b[0m Trial 41 finished with values: [0.8055555555555556, 0.21832753717899323] and parameters: {'seed': 5142, 'max_depth': 6, 'eta': 0.09494780802012164, 'subsample': 0.40631166825202225, 'lambda': 0.9018803465725951, 'alpha': 0.5366708866533525, 'scale_pos_weight': 1.5388024921884336, 'kfold_splits': 4}. \u001b[0m\n",
      "\u001b[2m\u001b[36m(make_a_study pid=2004151)\u001b[0m \u001b[32m[I 2023-06-02 21:41:10,234]\u001b[0m Trial 42 finished with values: [0.9292929292929293, 0.44474583864212036] and parameters: {'seed': 9157, 'max_depth': 5, 'eta': 0.12696235858172533, 'subsample': 0.29277418377563635, 'lambda': 0.7131893421293259, 'alpha': 0.6287460664302712, 'scale_pos_weight': 0.5463566525664165, 'kfold_splits': 2}. \u001b[0m\n"
     ]
    },
    {
     "name": "stdout",
     "output_type": "stream",
     "text": [
      "CPU times: user 7.39 s, sys: 7.54 s, total: 14.9 s\n",
      "Wall time: 4min 19s\n"
     ]
    },
    {
     "name": "stderr",
     "output_type": "stream",
     "text": [
      "\u001b[2m\u001b[36m(make_a_study pid=2004144)\u001b[0m \u001b[32m[I 2023-06-02 21:41:17,599]\u001b[0m Trial 48 finished with values: [0.7967171717171717, 0.0] and parameters: {'seed': 1628, 'max_depth': 10, 'eta': 0.31289467301613877, 'subsample': 0.1773096080103673, 'lambda': 0.9637083092466544, 'alpha': 0.9698416394058856, 'scale_pos_weight': 1.1047094230430314, 'kfold_splits': 2}. \u001b[0m\u001b[32m [repeated 6x across cluster]\u001b[0m\n"
     ]
    }
   ],
   "source": [
    "%%time\n",
    "\n",
    "studies = make_multiple_studies(\n",
    "    ray_df_train, \n",
    "    features = features,\n",
    "    targets = [binary_target],\n",
    "    n_trials=50,\n",
    "    Independent_testset = False,\n",
    "    Independent_testset_df = ray_df_test\n",
    ")\n",
    "\n",
    "studies = ray.get(studies)"
   ]
  },
  {
   "cell_type": "code",
   "execution_count": 9,
   "metadata": {},
   "outputs": [],
   "source": [
    "with open('chile.pickle', 'wb') as handle:\n",
    "    pickle.dump(studies, handle, protocol=pickle.HIGHEST_PROTOCOL)    "
   ]
  }
 ],
 "metadata": {
  "kernelspec": {
   "display_name": "spark",
   "language": "python",
   "name": "python3"
  },
  "language_info": {
   "codemirror_mode": {
    "name": "ipython",
    "version": 3
   },
   "file_extension": ".py",
   "mimetype": "text/x-python",
   "name": "python",
   "nbconvert_exporter": "python",
   "pygments_lexer": "ipython3",
   "version": "3.10.11"
  },
  "orig_nbformat": 4
 },
 "nbformat": 4,
 "nbformat_minor": 2
}
