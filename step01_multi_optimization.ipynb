{
 "cells": [
  {
   "cell_type": "code",
   "execution_count": 1,
   "metadata": {},
   "outputs": [
    {
     "name": "stdout",
     "output_type": "stream",
     "text": [
      "23/06/08 20:16:29 WARN Utils: Your hostname, pop-os resolves to a loopback address: 127.0.1.1; using 100.64.221.100 instead (on interface tailscale0)\n",
      "23/06/08 20:16:29 WARN Utils: Set SPARK_LOCAL_IP if you need to bind to another address\n"
     ]
    },
    {
     "name": "stderr",
     "output_type": "stream",
     "text": [
      "Setting default log level to \"WARN\".\n",
      "To adjust logging level use sc.setLogLevel(newLevel). For SparkR, use setLogLevel(newLevel).\n"
     ]
    },
    {
     "name": "stdout",
     "output_type": "stream",
     "text": [
      "23/06/08 20:16:30 WARN NativeCodeLoader: Unable to load native-hadoop library for your platform... using builtin-java classes where applicable\n",
      "23/06/08 20:16:32 WARN package: Truncated the string representation of a plan since it was too large. This behavior can be adjusted by setting 'spark.sql.debug.maxToStringFields'.\n",
      "23/06/08 20:16:32 WARN CSVHeaderChecker: CSV header does not conform to the schema.\n",
      " Header: tiempo, código, pacientes, age at diagnosis (months), dosis ntbc, ntbc dosis mg/kg/day, ntbc levels (dbs), ntbc levels (plasma), sca (urine), suac, methionine dbs, tyrosine dbs, phenylalanine dbs, methionine (plasma), tyrosine (plasma), phenylalanine (plasma), weight, height, z-score height, z-score nut status, phe+tyr intake, phe supl, tot protein (gr/d), prot hbv (gr/kg/día), prot fla (gr/kg/día), ca intake (mg/d), ca supl (mg/d), fe intake (mg/d), fe supl (mg/d), zn intake (mg/d), zn supl (mg/d), inr, pt (sec), bili total, bili directa, gpt, got, ggt, alkaline phosphatase, alfa-fetoprotein, glicemia, iq, bun, uremia, creatinine (plasma), bilis (urine), uribillinogeno (urine), ketone bodies (urine), protein, \n",
      " Schema: tiempo, código, pacientes, age at diagnosis (months), dosis ntbc, ntbc dosis mg/kg/day, ntbc levels (dbs), ntbc levels (plasma), sca (urine), suac, methionine dbs, tyrosine dbs, phenylalanine dbs, methionine (plasma), tyrosine (plasma), phenylalanine (plasma), weight, height, z-score height, z-score nut status, phe+tyr intake, phe supl, tot protein (gr/d), prot hbv (gr/kg/día), prot fla (gr/kg/día), ca intake (mg/d), ca supl (mg/d), fe intake (mg/d), fe supl (mg/d), zn intake (mg/d), zn supl (mg/d), inr, pt (sec), bili total, bili directa, gpt, got, ggt, alkaline phosphatase, alfa-fetoprotein, glicemia, iq, bun, uremia, creatinine (plasma), bilis (urine), uribillinogeno (urine), ketone bodies (urine), protein, _c49\n",
      "Expected: _c49 but found: \n",
      "CSV file: file:///DeepenData/Repos/Explainable_ML_and_Tyrosinemia/data/tirosinemia.csv\n",
      "Both CSV files have the same number of columns: 15\n",
      "Column names are the same.\n",
      "Column order is the same.\n",
      "All common columns have the same data types.\n",
      "Both CSV files have the same number of columns: 15\n",
      "Column names are the same.\n",
      "Column order is the same.\n",
      "All common columns have the same data types.\n"
     ]
    }
   ],
   "source": [
    "import warnings\n",
    "warnings.filterwarnings(\"ignore\")\n",
    "from utils import *\n",
    "import pickle\n",
    "\n",
    "def extract_transform(path, keep_cols, cols_rows_with_missing_values, new_binary_target):\n",
    "    _ , spark_df = SparkDataProcessor().process_data(\n",
    "        data_csv_path= path,\n",
    "        )\n",
    "\n",
    "    return prepare_spark_df(\n",
    "        spark_df=spark_df,\n",
    "        keep_cols=keep_cols,\n",
    "        cols_rows_with_missing_values=cols_rows_with_missing_values,\n",
    "        new_binary_target = new_binary_target,\n",
    "    )\n",
    "def get_datasets(path_chile, path_italia, binary_target, columns_drop_NANs):\n",
    "    df_train, _ = extract_transform(path_chile,                 OPBG, columns_drop_NANs,binary_target)\n",
    "    df_train.drop('código', axis=1, inplace=True)\n",
    "    df_test, df_test_raw  = extract_transform(path_italia, OPBG, columns_drop_NANs,binary_target)\n",
    "    Rome_mask = df_test_raw['código'].str.startswith('R')\n",
    "\n",
    "    df_test_FLOR  = encode_and_convert (df_test[~Rome_mask].drop('código', axis=1).reset_index(inplace=False, drop=True))\n",
    "    df_test_ROME  = encode_and_convert (df_test[Rome_mask].drop('código', axis=1).reset_index(inplace=False, drop=True))\n",
    "    df_test_FLOR[binary_target] = df_test_FLOR[binary_target].astype('int8').astype('category')\n",
    "    df_test_ROME[binary_target] = df_test_ROME[binary_target].astype('int8').astype('category')\n",
    "\n",
    "\n",
    "    compare_dataframes(df_test_ROME, df_test_FLOR) == compare_dataframes(df_train, df_test_ROME)\n",
    "\n",
    "    return df_train, df_test_ROME, df_test_FLOR\n",
    "OPBG = [ 'código','age at diagnosis (months)',            \n",
    "            'ntbc dosis mg/kg/day',\n",
    "            'ntbc levels (dbs)',\n",
    "            \"suac\", #'sca (urine)',\n",
    "            'methionine (plasma)',\n",
    "            'tyrosine (plasma)',\n",
    "            'phenylalanine (plasma)',\n",
    "            'pt (sec)',\n",
    "            'bili total',\n",
    "            'gpt',\n",
    "            'got',\n",
    "            'ggt',\n",
    "            'alkaline phosphatase',\n",
    "            'alfa-fetoprotein','glicemia']\n",
    "\n",
    "binary_target= 'Alpha-Fet'\n",
    "df_chile, df_rome, df_flor = get_datasets(\n",
    "    path_chile= \"data/tirosinemia.csv\", \n",
    "    path_italia=  \"data/tirosinemia_italia.csv\", \n",
    "    binary_target= binary_target, \n",
    "    columns_drop_NANs= ['alfa-fetoprotein', 'suac'])"
   ]
  },
  {
   "cell_type": "code",
   "execution_count": 2,
   "metadata": {},
   "outputs": [],
   "source": [
    "df_chile.to_parquet(\"data/df_chile.parquet.gzip\")\n",
    "df_rome.to_parquet(\"data/df_rome.parquet.gzip\")\n",
    "df_flor.to_parquet(\"data/df_flor.parquet.gzip\")"
   ]
  },
  {
   "cell_type": "code",
   "execution_count": 3,
   "metadata": {},
   "outputs": [],
   "source": [
    "df_italy =  pd.concat([df_rome, df_flor])\n",
    "df_italy.to_parquet(\"data/df_italy.parquet.gzip\")"
   ]
  },
  {
   "cell_type": "code",
   "execution_count": 6,
   "metadata": {},
   "outputs": [
    {
     "name": "stderr",
     "output_type": "stream",
     "text": [
      "2023-06-08 20:17:55,150\tINFO worker.py:1616 -- Started a local Ray instance. View the dashboard at \u001b[1m\u001b[32m127.0.0.1:8265 \u001b[39m\u001b[22m\n",
      "\u001b[2m\u001b[36m(make_a_study pid=915648)\u001b[0m \u001b[32m[I 2023-06-08 20:17:56,633]\u001b[0m A new study created in memory with name: age at diagnosis (months) (Alpha-Fet)\u001b[0m\n",
      "\u001b[2m\u001b[36m(make_a_study pid=915653)\u001b[0m \u001b[32m[I 2023-06-08 20:17:56,633]\u001b[0m A new study created in memory with name: ntbc levels (dbs) (Alpha-Fet)\u001b[0m\n",
      "\u001b[2m\u001b[36m(make_a_study pid=915642)\u001b[0m \u001b[32m[I 2023-06-08 20:17:56,616]\u001b[0m A new study created in memory with name: suac (Alpha-Fet)\u001b[0m\n",
      "\u001b[2m\u001b[36m(make_a_study pid=915644)\u001b[0m \u001b[32m[I 2023-06-08 20:17:56,619]\u001b[0m A new study created in memory with name: ntbc dosis mg/kg/day (Alpha-Fet)\u001b[0m\n",
      "\u001b[2m\u001b[36m(make_a_study pid=915648)\u001b[0m \u001b[32m[I 2023-06-08 20:18:03,601]\u001b[0m Trial 0 finished with values: [0.8636363636363636, 0.0] and parameters: {'seed': 6504, 'max_depth': 9, 'eta': 0.439423508890367, 'subsample': 0.16440858449970644, 'lambda': 0.622498593708366, 'alpha': 0.6659311817325423, 'scale_pos_weight': 3.844966638776185, 'kfold_splits': 2}. \u001b[0m\n",
      "\u001b[2m\u001b[36m(make_a_study pid=915648)\u001b[0m \u001b[32m[I 2023-06-08 20:18:03,622]\u001b[0m Trial 7 finished with values: [0.5, 0.0] and parameters: {'seed': 5420, 'max_depth': 8, 'eta': 0.48566493435086683, 'subsample': 0.292105305565204, 'lambda': 0.33824158159001805, 'alpha': 0.5752865946144583, 'scale_pos_weight': 0.07715128549236727, 'kfold_splits': 4}. \u001b[0m\n",
      "\u001b[2m\u001b[36m(make_a_study pid=915648)\u001b[0m \u001b[32m[I 2023-06-08 20:18:08,181]\u001b[0m A new study created in memory with name: tyrosine (plasma) (Alpha-Fet)\u001b[0m\n",
      "\u001b[2m\u001b[36m(make_a_study pid=915653)\u001b[0m \u001b[32m[I 2023-06-08 20:18:08,174]\u001b[0m A new study created in memory with name: methionine (plasma) (Alpha-Fet)\u001b[0m\n",
      "\u001b[2m\u001b[36m(make_a_study pid=915644)\u001b[0m \u001b[32m[I 2023-06-08 20:18:08,236]\u001b[0m A new study created in memory with name: phenylalanine (plasma) (Alpha-Fet)\u001b[0m\n",
      "\u001b[2m\u001b[36m(make_a_study pid=915642)\u001b[0m \u001b[32m[I 2023-06-08 20:18:08,274]\u001b[0m A new study created in memory with name: pt (sec) (Alpha-Fet)\u001b[0m\n",
      "\u001b[2m\u001b[36m(make_a_study pid=915648)\u001b[0m \u001b[32m[I 2023-06-08 20:18:15,080]\u001b[0m Trial 0 finished with values: [0.8892045454545454, 0.06019319221377373] and parameters: {'seed': 8916, 'max_depth': 3, 'eta': 0.1322247861818007, 'subsample': 0.4622080741974094, 'lambda': 0.7099116623789126, 'alpha': 0.3930170961280762, 'scale_pos_weight': 0.19655409538172186, 'kfold_splits': 2}. \u001b[0m\u001b[32m [repeated 39x across cluster] (Ray deduplicates logs by default. Set RAY_DEDUP_LOGS=0 to disable log deduplication, or see https://docs.ray.io/en/master/ray-observability/ray-logging.html#log-deduplication for more options.)\u001b[0m\n",
      "\u001b[2m\u001b[36m(make_a_study pid=915648)\u001b[0m \u001b[32m[I 2023-06-08 20:18:15,604]\u001b[0m A new study created in memory with name: bili total (Alpha-Fet)\u001b[0m\n",
      "\u001b[2m\u001b[36m(make_a_study pid=915644)\u001b[0m \u001b[32m[I 2023-06-08 20:18:15,652]\u001b[0m A new study created in memory with name: gpt (Alpha-Fet)\u001b[0m\n",
      "\u001b[2m\u001b[36m(make_a_study pid=915653)\u001b[0m \u001b[32m[I 2023-06-08 20:18:15,959]\u001b[0m A new study created in memory with name: got (Alpha-Fet)\u001b[0m\n",
      "\u001b[2m\u001b[36m(make_a_study pid=915642)\u001b[0m \u001b[32m[I 2023-06-08 20:18:16,092]\u001b[0m A new study created in memory with name: ggt (Alpha-Fet)\u001b[0m\n",
      "\u001b[2m\u001b[36m(make_a_study pid=915648)\u001b[0m \u001b[32m[I 2023-06-08 20:18:23,326]\u001b[0m Trial 6 finished with values: [0.9005681818181819, 0.0] and parameters: {'seed': 9603, 'max_depth': 8, 'eta': 0.4536717999176085, 'subsample': 0.15319607978182562, 'lambda': 0.46498819653056567, 'alpha': 0.6450684814531898, 'scale_pos_weight': 0.6887018218360619, 'kfold_splits': 3}. \u001b[0m\u001b[32m [repeated 40x across cluster]\u001b[0m\n",
      "\u001b[2m\u001b[36m(make_a_study pid=915648)\u001b[0m \u001b[32m[I 2023-06-08 20:18:23,664]\u001b[0m A new study created in memory with name: alkaline phosphatase (Alpha-Fet)\u001b[0m\n",
      "\u001b[2m\u001b[36m(make_a_study pid=915644)\u001b[0m \u001b[32m[I 2023-06-08 20:18:23,694]\u001b[0m A new study created in memory with name: glicemia (Alpha-Fet)\u001b[0m\n",
      "\u001b[2m\u001b[36m(make_a_study pid=915648)\u001b[0m \u001b[32m[I 2023-06-08 20:18:44,882]\u001b[0m Trial 6 finished with values: [0.9119318181818181, 0.8829764723777771] and parameters: {'seed': 2192, 'max_depth': 10, 'eta': 0.3795301284487364, 'subsample': 0.3406020979329164, 'lambda': 0.598500233604316, 'alpha': 0.6914452458902639, 'scale_pos_weight': 1.5830478898965217, 'kfold_splits': 3}. \u001b[0m\u001b[32m [repeated 40x across cluster]\u001b[0m\n",
      "\u001b[2m\u001b[36m(make_a_study pid=915648)\u001b[0m \u001b[32m[I 2023-06-08 20:18:45,070]\u001b[0m Trial 1 finished with values: [0.7727272727272727, 0.09517581760883331] and parameters: {'seed': 3532, 'max_depth': 9, 'eta': 0.08739581714336529, 'subsample': 0.21311670902253987, 'lambda': 0.34078925354685197, 'alpha': 0.7176030505433717, 'scale_pos_weight': 0.8690726548221428, 'kfold_splits': 2}. \u001b[0m\u001b[32m [repeated 14x across cluster]\u001b[0m\n",
      "2023-06-08 20:18:49,010\tINFO worker.py:1616 -- Started a local Ray instance. View the dashboard at \u001b[1m\u001b[32m127.0.0.1:8265 \u001b[39m\u001b[22m\n",
      "\u001b[2m\u001b[36m(make_a_study pid=917301)\u001b[0m \u001b[32m[I 2023-06-08 20:18:50,528]\u001b[0m A new study created in memory with name: suac (Alpha-Fet)\u001b[0m\n",
      "\u001b[2m\u001b[36m(make_a_study pid=917297)\u001b[0m \u001b[32m[I 2023-06-08 20:18:50,489]\u001b[0m A new study created in memory with name: ntbc levels (dbs) (Alpha-Fet)\u001b[0m\n",
      "\u001b[2m\u001b[36m(make_a_study pid=917315)\u001b[0m \u001b[32m[I 2023-06-08 20:18:50,515]\u001b[0m A new study created in memory with name: age at diagnosis (months) (Alpha-Fet)\u001b[0m\n",
      "\u001b[2m\u001b[36m(make_a_study pid=917309)\u001b[0m \u001b[32m[I 2023-06-08 20:18:50,511]\u001b[0m A new study created in memory with name: ntbc dosis mg/kg/day (Alpha-Fet)\u001b[0m\n",
      "\u001b[2m\u001b[36m(make_a_study pid=917301)\u001b[0m \u001b[32m[I 2023-06-08 20:18:59,626]\u001b[0m Trial 8 finished with values: [0.43796296296296294, 0.0] and parameters: {'seed': 648, 'max_depth': 10, 'eta': 0.22027921979700693, 'subsample': 0.2412558028548901, 'lambda': 0.3459037333162419, 'alpha': 0.9167121412979006, 'scale_pos_weight': 4.85386811285459, 'kfold_splits': 2}. \u001b[0m\n",
      "\u001b[2m\u001b[36m(make_a_study pid=917309)\u001b[0m \u001b[32m[I 2023-06-08 20:19:05,914]\u001b[0m Trial 9 finished with values: [0.3574074074074074, 0.0910501480102539] and parameters: {'seed': 9929, 'max_depth': 5, 'eta': 0.3139515562587509, 'subsample': 0.17586033453629876, 'lambda': 0.03474381275605676, 'alpha': 0.7845672305184719, 'scale_pos_weight': 0.5590520977012226, 'kfold_splits': 5}. \u001b[0m\u001b[32m [repeated 28x across cluster]\u001b[0m\n",
      "\u001b[2m\u001b[36m(make_a_study pid=917297)\u001b[0m \u001b[32m[I 2023-06-08 20:19:13,404]\u001b[0m Trial 6 finished with values: [0.43518518518518523, 0.22223803400993347] and parameters: {'seed': 126, 'max_depth': 3, 'eta': 0.16255115229973405, 'subsample': 0.33432493959707477, 'lambda': 0.813354662004547, 'alpha': 0.26131786791288025, 'scale_pos_weight': 0.9487215124339204, 'kfold_splits': 5}. \u001b[0m\u001b[32m [repeated 4x across cluster]\u001b[0m\n",
      "\u001b[2m\u001b[36m(make_a_study pid=917315)\u001b[0m \u001b[32m[I 2023-06-08 20:19:18,846]\u001b[0m Trial 1 finished with values: [0.48518518518518516, 0.5195960402488708] and parameters: {'seed': 8849, 'max_depth': 5, 'eta': 0.0954256123845568, 'subsample': 0.3165914450096994, 'lambda': 0.9779060049749214, 'alpha': 0.7436620371381556, 'scale_pos_weight': 3.2645089523014565, 'kfold_splits': 4}. \u001b[0m\u001b[32m [repeated 2x across cluster]\u001b[0m\n",
      "\u001b[2m\u001b[36m(make_a_study pid=917297)\u001b[0m \u001b[32m[I 2023-06-08 20:19:18,931]\u001b[0m A new study created in memory with name: methionine (plasma) (Alpha-Fet)\u001b[0m\n",
      "\u001b[2m\u001b[36m(make_a_study pid=917315)\u001b[0m \u001b[32m[I 2023-06-08 20:19:18,946]\u001b[0m A new study created in memory with name: tyrosine (plasma) (Alpha-Fet)\u001b[0m\n",
      "\u001b[2m\u001b[36m(make_a_study pid=917301)\u001b[0m \u001b[32m[I 2023-06-08 20:19:19,006]\u001b[0m A new study created in memory with name: phenylalanine (plasma) (Alpha-Fet)\u001b[0m\n",
      "\u001b[2m\u001b[36m(make_a_study pid=917309)\u001b[0m \u001b[32m[I 2023-06-08 20:19:19,016]\u001b[0m A new study created in memory with name: pt (sec) (Alpha-Fet)\u001b[0m\n",
      "\u001b[2m\u001b[36m(make_a_study pid=917297)\u001b[0m \u001b[32m[I 2023-06-08 20:19:28,805]\u001b[0m Trial 7 finished with values: [0.6444444444444444, 0.0] and parameters: {'seed': 8051, 'max_depth': 3, 'eta': 0.1354432854596164, 'subsample': 0.10815851281195515, 'lambda': 0.18638560567949736, 'alpha': 0.7769884405769891, 'scale_pos_weight': 0.3440506771977353, 'kfold_splits': 3}. \u001b[0m\u001b[32m [repeated 7x across cluster]\u001b[0m\n",
      "\u001b[2m\u001b[36m(make_a_study pid=917315)\u001b[0m \u001b[32m[I 2023-06-08 20:19:30,694]\u001b[0m A new study created in memory with name: bili total (Alpha-Fet)\u001b[0m\n",
      "\u001b[2m\u001b[36m(make_a_study pid=917301)\u001b[0m \u001b[32m[I 2023-06-08 20:19:30,952]\u001b[0m A new study created in memory with name: got (Alpha-Fet)\u001b[0m\n",
      "\u001b[2m\u001b[36m(make_a_study pid=917297)\u001b[0m \u001b[32m[I 2023-06-08 20:19:30,943]\u001b[0m A new study created in memory with name: gpt (Alpha-Fet)\u001b[0m\n",
      "\u001b[2m\u001b[36m(make_a_study pid=917309)\u001b[0m \u001b[32m[I 2023-06-08 20:19:31,012]\u001b[0m A new study created in memory with name: ggt (Alpha-Fet)\u001b[0m\n"
     ]
    }
   ],
   "source": [
    "%%time\n",
    "def launch_to_ray(df_train,binary_target, save_to ,n_trials=50 ,Independent_testset = None, df_test = None):\n",
    "    ray.shutdown()\n",
    "\n",
    "    ray_df_train = ray.put(df_train)\n",
    "    ray_df_test  = ray.put(df_test)\n",
    "    features : list[str] = df_train.columns.tolist()\n",
    "    features.remove(binary_target)\n",
    "    #return ray_df_train, ray_df_test, features\n",
    "    \n",
    "    studies = make_multiple_studies(\n",
    "        ray_df_train, \n",
    "        features = features,\n",
    "        targets = [binary_target],\n",
    "        n_trials=n_trials,\n",
    "        Independent_testset = Independent_testset,\n",
    "        Independent_testset_df = ray_df_test\n",
    "    )\n",
    "\n",
    "    S = ray.get(studies)\n",
    "    with open(save_to + '.pickle', 'wb') as handle:\n",
    "        pickle.dump(S, handle, protocol=pickle.HIGHEST_PROTOCOL)  \n",
    "    \n",
    "    ray.shutdown()\n",
    "\n",
    "\n",
    "\n",
    "launch_to_ray(df_train = df_chile , binary_target= binary_target, save_to = \"studies_1k_chile\", n_trials = 10, Independent_testset = False)\n",
    "launch_to_ray(df_train = df_chile , binary_target= binary_target, save_to = \"studies_1k_rome\", n_trials = 10, Independent_testset = True, df_test = df_rome)\n",
    "launch_to_ray(df_train = df_chile , binary_target= binary_target,save_to= \"studies_1k_flor\" , n_trials = 10,Independent_testset = True, df_test = df_flor)\n",
    "launch_to_ray(df_train = df_chile , binary_target= binary_target,save_to= \"studies_1k_italy\" , n_trials = 10,Independent_testset = True, df_test = df_italy)\n",
    "\n"
   ]
  }
 ],
 "metadata": {
  "kernelspec": {
   "display_name": "spark",
   "language": "python",
   "name": "python3"
  },
  "language_info": {
   "codemirror_mode": {
    "name": "ipython",
    "version": 3
   },
   "file_extension": ".py",
   "mimetype": "text/x-python",
   "name": "python",
   "nbconvert_exporter": "python",
   "pygments_lexer": "ipython3",
   "version": "3.10.11"
  },
  "orig_nbformat": 4
 },
 "nbformat": 4,
 "nbformat_minor": 2
}
