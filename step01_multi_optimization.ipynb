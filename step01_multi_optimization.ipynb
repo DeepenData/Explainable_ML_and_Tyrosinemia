{
 "cells": [
  {
   "cell_type": "code",
   "execution_count": 1,
   "metadata": {},
   "outputs": [
    {
     "name": "stdout",
     "output_type": "stream",
     "text": [
      "Both CSV files have the same number of columns: 16\n",
      "Column names are the same.\n",
      "Column order is the same.\n",
      "All common columns have the same data types.\n"
     ]
    },
    {
     "data": {
      "text/plain": [
       "(Index(['código', 'age at diagnosis (months)', 'ntbc dosis mg/kg/day',\n",
       "        'ntbc levels (dbs)', 'sca (urine)', 'methionine (plasma)',\n",
       "        'tyrosine (plasma)', 'phenylalanine (plasma)', 'pt (sec)', 'bili total',\n",
       "        'gpt', 'got', 'ggt', 'alkaline phosphatase', 'alfa-fetoprotein',\n",
       "        'glicemia'],\n",
       "       dtype='object'),\n",
       " Index(['código', 'age at diagnosis (months)', 'ntbc dosis mg/kg/day',\n",
       "        'ntbc levels (dbs)', 'sca (urine)', 'methionine (plasma)',\n",
       "        'tyrosine (plasma)', 'phenylalanine (plasma)', 'pt (sec)', 'bili total',\n",
       "        'gpt', 'got', 'ggt', 'alkaline phosphatase', 'alfa-fetoprotein',\n",
       "        'glicemia'],\n",
       "       dtype='object'))"
      ]
     },
     "execution_count": 1,
     "metadata": {},
     "output_type": "execute_result"
    }
   ],
   "source": [
    "import warnings\n",
    "warnings.filterwarnings(\"ignore\")\n",
    "from utils import *\n",
    "import pickle\n",
    "OPBG = [ 'código','age at diagnosis (months)',            \n",
    "            'ntbc dosis mg/kg/day',\n",
    "            'ntbc levels (dbs)',\n",
    "            'sca (urine)',\n",
    "            'methionine (plasma)',\n",
    "            'tyrosine (plasma)',\n",
    "            'phenylalanine (plasma)',\n",
    "            'pt (sec)',\n",
    "            'bili total',\n",
    "            'gpt',\n",
    "            'got',\n",
    "            'ggt',\n",
    "            'alkaline phosphatase',\n",
    "            'alfa-fetoprotein','glicemia']\n",
    "\n",
    "\n",
    "# OPBG = [ 'age at diagnosis (months)',    'código',   \n",
    "#                 'ntbc dosis mg/kg/day',\n",
    "#                 'ntbc levels (dbs)',\n",
    "#                 'sca (urine)',\n",
    "#                 'methionine dbs',\n",
    "#                 'tyrosine dbs',\n",
    "#                 'phenylalanine dbs',\n",
    "#                 'methionine (plasma)',\n",
    "#                 'tyrosine (plasma)',\n",
    "#                 'phenylalanine (plasma)',\n",
    "#                 'inr',\n",
    "#                 'pt (sec)',\n",
    "#                 'bili total',\n",
    "#                 'gpt',\n",
    "#                 'got',\n",
    "#                 'ggt',\n",
    "#                 'alkaline phosphatase',\n",
    "#                 'alfa-fetoprotein',]\n",
    "    \n",
    "df1 = pd.read_csv('data/tirosinemia.csv').loc[:,OPBG]\n",
    "df2 = pd.read_csv('data/tirosinemia_italia.csv').loc[:,OPBG]\n",
    "def extract_transform(path, keep_cols, cols_rows_with_missing_values, new_binary_target):\n",
    "    _ , spark_df = SparkDataProcessor().process_data(\n",
    "        data_csv_path= path,\n",
    "        )\n",
    "\n",
    "    return prepare_spark_df(\n",
    "        spark_df=spark_df,\n",
    "        keep_cols=keep_cols,\n",
    "        cols_rows_with_missing_values=cols_rows_with_missing_values,\n",
    "        new_binary_target = new_binary_target,\n",
    "    )\n",
    "compare_dataframes(df1, df2)\n",
    "df1.columns, df2.columns"
   ]
  },
  {
   "cell_type": "code",
   "execution_count": 2,
   "metadata": {},
   "outputs": [
    {
     "name": "stdout",
     "output_type": "stream",
     "text": [
      "23/06/02 21:30:47 WARN Utils: Your hostname, pop-os resolves to a loopback address: 127.0.1.1; using 100.64.221.100 instead (on interface tailscale0)\n",
      "23/06/02 21:30:47 WARN Utils: Set SPARK_LOCAL_IP if you need to bind to another address\n"
     ]
    },
    {
     "name": "stderr",
     "output_type": "stream",
     "text": [
      "Setting default log level to \"WARN\".\n",
      "To adjust logging level use sc.setLogLevel(newLevel). For SparkR, use setLogLevel(newLevel).\n"
     ]
    },
    {
     "name": "stdout",
     "output_type": "stream",
     "text": [
      "23/06/02 21:30:47 WARN NativeCodeLoader: Unable to load native-hadoop library for your platform... using builtin-java classes where applicable\n",
      "23/06/02 21:30:49 WARN package: Truncated the string representation of a plan since it was too large. This behavior can be adjusted by setting 'spark.sql.debug.maxToStringFields'.\n"
     ]
    }
   ],
   "source": [
    "\n",
    "binary_target = 'Alpha-Fet'\n",
    "df_train, _ = extract_transform(\"data/tirosinemia.csv\",                 OPBG, ['alfa-fetoprotein', 'sca (urine)'],binary_target)\n",
    "df_train.drop('código', axis=1, inplace=True)\n",
    "df_test, df_test_raw  = extract_transform(\"data/tirosinemia_italia.csv\", OPBG, ['alfa-fetoprotein', 'sca (urine)'],binary_target)\n",
    "\n"
   ]
  },
  {
   "cell_type": "code",
   "execution_count": 3,
   "metadata": {},
   "outputs": [
    {
     "name": "stdout",
     "output_type": "stream",
     "text": [
      "Both CSV files have the same number of columns: 15\n",
      "Column names are the same.\n",
      "Column order is the same.\n",
      "All common columns have the same data types.\n"
     ]
    }
   ],
   "source": [
    "\n",
    "Rome_mask = df_test_raw['código'].str.startswith('R')\n",
    "\n",
    "df_test_FLOR  = encode_and_convert (df_test[~Rome_mask].drop('código', axis=1).reset_index(inplace=False, drop=True))\n",
    "df_test_ROME  = encode_and_convert (df_test[Rome_mask].drop('código', axis=1).reset_index(inplace=False, drop=True))\n",
    "df_test_FLOR['Alpha-Fet'] = df_test_FLOR['Alpha-Fet'].astype('int8').astype('category')\n",
    "df_test_ROME['Alpha-Fet'] = df_test_ROME['Alpha-Fet'].astype('int8').astype('category')\n",
    "\n",
    "\n",
    "compare_dataframes(df_test_ROME, df_test_FLOR)\n"
   ]
  },
  {
   "cell_type": "code",
   "execution_count": 4,
   "metadata": {},
   "outputs": [
    {
     "name": "stdout",
     "output_type": "stream",
     "text": [
      "Both CSV files have the same number of columns: 15\n",
      "Column names are the same.\n",
      "Column order is the same.\n",
      "All common columns have the same data types.\n"
     ]
    }
   ],
   "source": [
    "\n",
    "\n",
    "compare_dataframes(df_train, df_test_ROME)\n",
    "\n",
    "\n",
    "\n",
    "\n"
   ]
  },
  {
   "cell_type": "code",
   "execution_count": 5,
   "metadata": {},
   "outputs": [
    {
     "name": "stderr",
     "output_type": "stream",
     "text": [
      "2023-06-02 21:30:52,185\tINFO worker.py:1616 -- Started a local Ray instance. View the dashboard at \u001b[1m\u001b[32m127.0.0.1:8265 \u001b[39m\u001b[22m\n"
     ]
    }
   ],
   "source": [
    "ray.shutdown()\n",
    "ray_df_train = ray.put(df_train)\n",
    "ray_df_test  = ray.put(df_test_ROME)"
   ]
  },
  {
   "cell_type": "code",
   "execution_count": 6,
   "metadata": {},
   "outputs": [
    {
     "data": {
      "text/plain": [
       "['age at diagnosis (months)',\n",
       " 'ntbc dosis mg/kg/day',\n",
       " 'ntbc levels (dbs)',\n",
       " 'sca (urine)',\n",
       " 'methionine (plasma)',\n",
       " 'tyrosine (plasma)',\n",
       " 'phenylalanine (plasma)',\n",
       " 'pt (sec)',\n",
       " 'bili total',\n",
       " 'gpt',\n",
       " 'got',\n",
       " 'ggt',\n",
       " 'alkaline phosphatase',\n",
       " 'glicemia']"
      ]
     },
     "execution_count": 6,
     "metadata": {},
     "output_type": "execute_result"
    }
   ],
   "source": [
    "features : list[str] = df_train.columns.tolist()\n",
    "features.remove(binary_target)\n",
    "features"
   ]
  },
  {
   "cell_type": "code",
   "execution_count": 7,
   "metadata": {},
   "outputs": [
    {
     "name": "stderr",
     "output_type": "stream",
     "text": [
      "\u001b[2m\u001b[36m(make_a_study pid=1995444)\u001b[0m \u001b[32m[I 2023-06-02 21:30:53,808]\u001b[0m A new study created in memory with name: ntbc levels (dbs) (Alpha-Fet)\u001b[0m\n",
      "\u001b[2m\u001b[36m(make_a_study pid=1995454)\u001b[0m \u001b[32m[I 2023-06-02 21:30:53,798]\u001b[0m A new study created in memory with name: age at diagnosis (months) (Alpha-Fet)\u001b[0m\n",
      "\u001b[2m\u001b[36m(make_a_study pid=1995455)\u001b[0m \u001b[32m[I 2023-06-02 21:30:53,798]\u001b[0m A new study created in memory with name: ntbc dosis mg/kg/day (Alpha-Fet)\u001b[0m\n",
      "\u001b[2m\u001b[36m(make_a_study pid=1995442)\u001b[0m \u001b[32m[I 2023-06-02 21:30:53,778]\u001b[0m A new study created in memory with name: sca (urine) (Alpha-Fet)\u001b[0m\n",
      "\u001b[2m\u001b[36m(make_a_study pid=1995444)\u001b[0m \u001b[32m[I 2023-06-02 21:31:10,121]\u001b[0m Trial 15 finished with values: [0.5, 0.0] and parameters: {'seed': 6009, 'max_depth': 3, 'eta': 0.05648779468458812, 'subsample': 0.21631963549408986, 'lambda': 0.14233456938590305, 'alpha': 0.8971395428400898, 'scale_pos_weight': 0.06040573017518591, 'kfold_splits': 2}. \u001b[0m\n",
      "\u001b[2m\u001b[36m(make_a_study pid=1995444)\u001b[0m \u001b[32m[I 2023-06-02 21:31:10,137]\u001b[0m Trial 13 finished with values: [0.7058823529411764, 0.048456478863954544] and parameters: {'seed': 7629, 'max_depth': 7, 'eta': 0.24184146342825436, 'subsample': 0.3354595075344192, 'lambda': 0.4356867844695125, 'alpha': 0.1674016508021241, 'scale_pos_weight': 3.7192999509312714, 'kfold_splits': 2}. \u001b[0m\n",
      "\u001b[2m\u001b[36m(make_a_study pid=1995444)\u001b[0m \u001b[32m[I 2023-06-02 21:31:10,247]\u001b[0m Trial 8 finished with values: [0.7205882352941175, 0.0] and parameters: {'seed': 8338, 'max_depth': 10, 'eta': 0.35491759076147694, 'subsample': 0.24557185747215976, 'lambda': 0.24456218711055921, 'alpha': 0.3299400779947924, 'scale_pos_weight': 0.1921019013038383, 'kfold_splits': 3}. \u001b[0m\n",
      "\u001b[2m\u001b[36m(make_a_study pid=1995444)\u001b[0m \u001b[32m[I 2023-06-02 21:31:15,844]\u001b[0m Trial 7 finished with values: [0.7450980392156863, 0.07066556066274643] and parameters: {'seed': 9404, 'max_depth': 2, 'eta': 0.09243699316138632, 'subsample': 0.4822191622616594, 'lambda': 0.49719677432564524, 'alpha': 0.3195025936738559, 'scale_pos_weight': 1.9449988422658593, 'kfold_splits': 4}. \u001b[0m\u001b[32m [repeated 71x across cluster] (Ray deduplicates logs by default. Set RAY_DEDUP_LOGS=0 to disable log deduplication, or see https://docs.ray.io/en/master/ray-observability/ray-logging.html#log-deduplication for more options.)\u001b[0m\n",
      "\u001b[2m\u001b[36m(make_a_study pid=1995454)\u001b[0m \u001b[32m[I 2023-06-02 21:31:26,170]\u001b[0m Trial 32 finished with values: [0.4950980392156863, 0.5623767971992493] and parameters: {'seed': 7058, 'max_depth': 10, 'eta': 0.4367554400374657, 'subsample': 0.2852601168274579, 'lambda': 0.1479166560018046, 'alpha': 0.018958869930004174, 'scale_pos_weight': 1.7762957299883668, 'kfold_splits': 2}. \u001b[0m\u001b[32m [repeated 5x across cluster]\u001b[0m\n",
      "\u001b[2m\u001b[36m(make_a_study pid=1995454)\u001b[0m \u001b[32m[I 2023-06-02 21:31:31,275]\u001b[0m Trial 5 finished with values: [0.6960784313725489, 0.5003084540367126] and parameters: {'seed': 1861, 'max_depth': 10, 'eta': 0.011492081207849655, 'subsample': 0.3300902674697611, 'lambda': 0.7164323026814229, 'alpha': 0.7902774217655716, 'scale_pos_weight': 3.8232930077099834, 'kfold_splits': 3}. \u001b[0m\u001b[32m [repeated 67x across cluster]\u001b[0m\n",
      "\u001b[2m\u001b[36m(make_a_study pid=1995444)\u001b[0m \u001b[32m[I 2023-06-02 21:31:36,933]\u001b[0m Trial 42 finished with values: [0.784313725490196, 0.0] and parameters: {'seed': 8111, 'max_depth': 3, 'eta': 0.2733669296635113, 'subsample': 0.45015195375077843, 'lambda': 0.19233294073901108, 'alpha': 0.47275547938629925, 'scale_pos_weight': 1.2566472775688464, 'kfold_splits': 3}. \u001b[0m\u001b[32m [repeated 12x across cluster]\u001b[0m\n",
      "\u001b[2m\u001b[36m(make_a_study pid=1995444)\u001b[0m \u001b[32m[I 2023-06-02 21:31:37,517]\u001b[0m A new study created in memory with name: methionine (plasma) (Alpha-Fet)\u001b[0m\n",
      "\u001b[2m\u001b[36m(make_a_study pid=1995442)\u001b[0m \u001b[32m[I 2023-06-02 21:31:37,661]\u001b[0m A new study created in memory with name: tyrosine (plasma) (Alpha-Fet)\u001b[0m\n",
      "\u001b[2m\u001b[36m(make_a_study pid=1995455)\u001b[0m \u001b[32m[I 2023-06-02 21:31:38,089]\u001b[0m A new study created in memory with name: phenylalanine (plasma) (Alpha-Fet)\u001b[0m\n",
      "\u001b[2m\u001b[36m(make_a_study pid=1995454)\u001b[0m \u001b[32m[I 2023-06-02 21:31:38,147]\u001b[0m A new study created in memory with name: pt (sec) (Alpha-Fet)\u001b[0m\n",
      "\u001b[2m\u001b[36m(make_a_study pid=1995444)\u001b[0m \u001b[32m[I 2023-06-02 21:31:54,300]\u001b[0m Trial 9 finished with values: [0.22058823529411767, 0.0] and parameters: {'seed': 5359, 'max_depth': 5, 'eta': 0.3891820907966442, 'subsample': 0.14789008317364993, 'lambda': 0.2646057198507126, 'alpha': 0.1453582755655346, 'scale_pos_weight': 0.9144612449468559, 'kfold_splits': 2}. \u001b[0m\u001b[32m [repeated 43x across cluster]\u001b[0m\n",
      "\u001b[2m\u001b[36m(make_a_study pid=1995442)\u001b[0m \u001b[32m[I 2023-06-02 21:31:59,699]\u001b[0m Trial 2 finished with values: [0.7450980392156863, 0.13954778015613556] and parameters: {'seed': 357, 'max_depth': 6, 'eta': 0.023991934333162476, 'subsample': 0.1928412319845866, 'lambda': 0.4208566438994483, 'alpha': 0.011793927239311386, 'scale_pos_weight': 2.2154331628419603, 'kfold_splits': 2}. \u001b[0m\u001b[32m [repeated 71x across cluster]\u001b[0m\n",
      "\u001b[2m\u001b[36m(make_a_study pid=1995442)\u001b[0m \u001b[32m[I 2023-06-02 21:32:05,341]\u001b[0m Trial 11 finished with values: [0.6764705882352942, 0.02752520889043808] and parameters: {'seed': 370, 'max_depth': 8, 'eta': 0.026600704672863032, 'subsample': 0.1497795244641779, 'lambda': 0.8501654528858673, 'alpha': 0.9346583472604308, 'scale_pos_weight': 3.3616811124131587, 'kfold_splits': 5}. \u001b[0m\u001b[32m [repeated 5x across cluster]\u001b[0m\n",
      "\u001b[2m\u001b[36m(make_a_study pid=1995444)\u001b[0m \u001b[32m[I 2023-06-02 21:32:10,398]\u001b[0m Trial 29 finished with values: [0.5686274509803921, 0.2713128328323364] and parameters: {'seed': 6526, 'max_depth': 7, 'eta': 0.3947886537600308, 'subsample': 0.1224511459313399, 'lambda': 0.29211172421677845, 'alpha': 0.13870897891823797, 'scale_pos_weight': 3.278547869240285, 'kfold_splits': 2}. \u001b[0m\u001b[32m [repeated 11x across cluster]\u001b[0m\n",
      "\u001b[2m\u001b[36m(make_a_study pid=1995455)\u001b[0m \u001b[32m[I 2023-06-02 21:32:15,556]\u001b[0m Trial 36 finished with values: [0.6372549019607844, 0.09815627336502075] and parameters: {'seed': 7145, 'max_depth': 6, 'eta': 0.10498824018595095, 'subsample': 0.35886353588695175, 'lambda': 0.9179143091827567, 'alpha': 0.19269480802193473, 'scale_pos_weight': 2.015675117049705, 'kfold_splits': 2}. \u001b[0m\u001b[32m [repeated 56x across cluster]\u001b[0m\n",
      "\u001b[2m\u001b[36m(make_a_study pid=1995444)\u001b[0m \u001b[32m[I 2023-06-02 21:32:21,498]\u001b[0m Trial 38 finished with values: [0.47058823529411764, 0.2184903621673584] and parameters: {'seed': 9087, 'max_depth': 2, 'eta': 0.30953610987998587, 'subsample': 0.2154192714411238, 'lambda': 0.8117911820701311, 'alpha': 0.32548704486484126, 'scale_pos_weight': 4.121896438711165, 'kfold_splits': 2}. \u001b[0m\u001b[32m [repeated 11x across cluster]\u001b[0m\n",
      "\u001b[2m\u001b[36m(make_a_study pid=1995454)\u001b[0m \u001b[32m[I 2023-06-02 21:32:22,093]\u001b[0m A new study created in memory with name: bili total (Alpha-Fet)\u001b[0m\n",
      "\u001b[2m\u001b[36m(make_a_study pid=1995444)\u001b[0m \u001b[32m[I 2023-06-02 21:32:22,351]\u001b[0m A new study created in memory with name: gpt (Alpha-Fet)\u001b[0m\n",
      "\u001b[2m\u001b[36m(make_a_study pid=1995442)\u001b[0m \u001b[32m[I 2023-06-02 21:32:22,487]\u001b[0m A new study created in memory with name: got (Alpha-Fet)\u001b[0m\n",
      "\u001b[2m\u001b[36m(make_a_study pid=1995455)\u001b[0m \u001b[32m[I 2023-06-02 21:32:23,499]\u001b[0m A new study created in memory with name: ggt (Alpha-Fet)\u001b[0m\n",
      "\u001b[2m\u001b[36m(make_a_study pid=1995444)\u001b[0m \u001b[32m[I 2023-06-02 21:32:39,085]\u001b[0m Trial 13 finished with values: [0.7156862745098039, 0.7574498057365417] and parameters: {'seed': 6585, 'max_depth': 9, 'eta': 0.4290483516481616, 'subsample': 0.39813184645075705, 'lambda': 0.5770165057909914, 'alpha': 0.864289794622329, 'scale_pos_weight': 2.726282440792494, 'kfold_splits': 2}. \u001b[0m\u001b[32m [repeated 46x across cluster]\u001b[0m\n",
      "\u001b[2m\u001b[36m(make_a_study pid=1995454)\u001b[0m \u001b[32m[I 2023-06-02 21:32:44,145]\u001b[0m Trial 14 finished with values: [0.676470588235294, 0.031720224767923355] and parameters: {'seed': 7020, 'max_depth': 7, 'eta': 0.13809111199384638, 'subsample': 0.22989522952330696, 'lambda': 0.4595714726258002, 'alpha': 0.795599723079144, 'scale_pos_weight': 1.1063819212882742, 'kfold_splits': 5}. \u001b[0m\u001b[32m [repeated 71x across cluster]\u001b[0m\n",
      "\u001b[2m\u001b[36m(make_a_study pid=1995444)\u001b[0m \u001b[32m[I 2023-06-02 21:32:52,866]\u001b[0m Trial 2 finished with values: [0.7352941176470589, 0.6004054546356201] and parameters: {'seed': 6359, 'max_depth': 3, 'eta': 0.033782852118671304, 'subsample': 0.1305834647144205, 'lambda': 0.6409217739839219, 'alpha': 0.17353751422741226, 'scale_pos_weight': 0.7610499652655811, 'kfold_splits': 3}. \u001b[0m\u001b[32m [repeated 7x across cluster]\u001b[0m\n",
      "\u001b[2m\u001b[36m(make_a_study pid=1995454)\u001b[0m \u001b[32m[I 2023-06-02 21:32:57,962]\u001b[0m Trial 30 finished with values: [0.607843137254902, 0.17405813932418823] and parameters: {'seed': 5202, 'max_depth': 4, 'eta': 0.4032057088678431, 'subsample': 0.3805792989115526, 'lambda': 0.7226137914214901, 'alpha': 0.22231627476242533, 'scale_pos_weight': 1.1951945220925193, 'kfold_splits': 5}. \u001b[0m\u001b[32m [repeated 27x across cluster]\u001b[0m\n",
      "\u001b[2m\u001b[36m(make_a_study pid=1995442)\u001b[0m \u001b[32m[I 2023-06-02 21:33:03,091]\u001b[0m Trial 39 finished with values: [0.8137254901960785, 0.1285744458436966] and parameters: {'seed': 840, 'max_depth': 2, 'eta': 0.336205440819036, 'subsample': 0.25170167703738566, 'lambda': 0.3351277859502517, 'alpha': 0.7511142494815154, 'scale_pos_weight': 3.312081470430688, 'kfold_splits': 5}. \u001b[0m\u001b[32m [repeated 47x across cluster]\u001b[0m\n",
      "\u001b[2m\u001b[36m(make_a_study pid=1995454)\u001b[0m \u001b[32m[I 2023-06-02 21:33:07,624]\u001b[0m A new study created in memory with name: alkaline phosphatase (Alpha-Fet)\u001b[0m\n",
      "\u001b[2m\u001b[36m(make_a_study pid=1995444)\u001b[0m \u001b[32m[I 2023-06-02 21:33:07,862]\u001b[0m A new study created in memory with name: glicemia (Alpha-Fet)\u001b[0m\n",
      "\u001b[2m\u001b[36m(make_a_study pid=1995442)\u001b[0m \u001b[32m[I 2023-06-02 21:33:08,138]\u001b[0m Trial 48 finished with values: [0.6764705882352942, 0.07005972415208817] and parameters: {'seed': 6832, 'max_depth': 5, 'eta': 0.05118892285228859, 'subsample': 0.4083663036209507, 'lambda': 0.7914825832081395, 'alpha': 0.8701342961334122, 'scale_pos_weight': 1.8112894211131703, 'kfold_splits': 4}. \u001b[0m\u001b[32m [repeated 37x across cluster]\u001b[0m\n",
      "\u001b[2m\u001b[36m(make_a_study pid=1995444)\u001b[0m \u001b[32m[I 2023-06-02 21:33:44,114]\u001b[0m Trial 4 finished with values: [0.6862745098039216, 0.0] and parameters: {'seed': 196, 'max_depth': 6, 'eta': 0.2771966626643818, 'subsample': 0.19771065777676822, 'lambda': 0.551586243204402, 'alpha': 0.41888781867601066, 'scale_pos_weight': 0.9415705708548311, 'kfold_splits': 2}. \u001b[0m\u001b[32m [repeated 12x across cluster]\u001b[0m\n",
      "\u001b[2m\u001b[36m(make_a_study pid=1995444)\u001b[0m \u001b[32m[I 2023-06-02 21:33:49,086]\u001b[0m Trial 10 finished with values: [0.7254901960784312, 0.155075803399086] and parameters: {'seed': 3459, 'max_depth': 9, 'eta': 0.07463525067784159, 'subsample': 0.47104426798250876, 'lambda': 0.8009307867046511, 'alpha': 0.36045692916959726, 'scale_pos_weight': 4.779137547418715, 'kfold_splits': 4}. \u001b[0m\u001b[32m [repeated 34x across cluster]\u001b[0m\n",
      "\u001b[2m\u001b[36m(make_a_study pid=1995454)\u001b[0m \u001b[32m[I 2023-06-02 21:33:54,179]\u001b[0m Trial 12 finished with values: [0.5686274509803921, 0.3406120538711548] and parameters: {'seed': 2043, 'max_depth': 2, 'eta': 0.1778486696579709, 'subsample': 0.2683034526665262, 'lambda': 0.6750117475108063, 'alpha': 0.5828657183703155, 'scale_pos_weight': 1.4360264249585746, 'kfold_splits': 5}. \u001b[0m\u001b[32m [repeated 2x across cluster]\u001b[0m\n",
      "\u001b[2m\u001b[36m(make_a_study pid=1995444)\u001b[0m \u001b[32m[I 2023-06-02 21:34:06,081]\u001b[0m Trial 15 finished with values: [0.5980392156862746, 0.03716437146067619] and parameters: {'seed': 4525, 'max_depth': 6, 'eta': 0.034539154077873446, 'subsample': 0.11873019533136815, 'lambda': 0.28810308592476286, 'alpha': 0.8260809769479863, 'scale_pos_weight': 2.433571230239358, 'kfold_splits': 5}. \u001b[0m\n",
      "\u001b[2m\u001b[36m(make_a_study pid=1995444)\u001b[0m \u001b[32m[I 2023-06-02 21:34:28,457]\u001b[0m Trial 20 finished with values: [0.446078431372549, 0.0] and parameters: {'seed': 3950, 'max_depth': 2, 'eta': 0.3561347673712424, 'subsample': 0.4184964781630568, 'lambda': 0.947763766560652, 'alpha': 0.08422423631460463, 'scale_pos_weight': 2.629205973034537, 'kfold_splits': 2}. \u001b[0m\n",
      "\u001b[2m\u001b[36m(make_a_study pid=1995444)\u001b[0m \u001b[32m[I 2023-06-02 21:34:29,349]\u001b[0m Trial 23 finished with values: [0.6421568627450981, 0.026724250987172127] and parameters: {'seed': 8722, 'max_depth': 9, 'eta': 0.43707458071751093, 'subsample': 0.45052256458217943, 'lambda': 0.417321779386859, 'alpha': 0.9699200485221359, 'scale_pos_weight': 0.4554248930642868, 'kfold_splits': 2}. \u001b[0m\n",
      "\u001b[2m\u001b[36m(make_a_study pid=1995444)\u001b[0m \u001b[32m[I 2023-06-02 21:34:29,537]\u001b[0m Trial 27 finished with values: [0.7647058823529412, 0.0702124610543251] and parameters: {'seed': 3638, 'max_depth': 6, 'eta': 0.2304073271884834, 'subsample': 0.27930751344296195, 'lambda': 0.30951738424726494, 'alpha': 0.8902024790072, 'scale_pos_weight': 2.9516322583564722, 'kfold_splits': 2}. \u001b[0m\n",
      "\u001b[2m\u001b[36m(make_a_study pid=1995444)\u001b[0m \u001b[32m[I 2023-06-02 21:34:29,589]\u001b[0m Trial 28 finished with values: [0.6372549019607843, 0.0] and parameters: {'seed': 3600, 'max_depth': 4, 'eta': 0.32553639665908557, 'subsample': 0.2856234971375099, 'lambda': 0.446518585887154, 'alpha': 0.5408220477367522, 'scale_pos_weight': 0.7353703062231415, 'kfold_splits': 2}. \u001b[0m\n",
      "\u001b[2m\u001b[36m(make_a_study pid=1995444)\u001b[0m \u001b[32m[I 2023-06-02 21:34:29,629]\u001b[0m Trial 21 finished with values: [0.5588235294117647, 0.19752560555934906] and parameters: {'seed': 4338, 'max_depth': 7, 'eta': 0.28395191057708824, 'subsample': 0.40502456048636604, 'lambda': 0.675720700839473, 'alpha': 0.8496968866595809, 'scale_pos_weight': 0.9025401680468353, 'kfold_splits': 3}. \u001b[0m\n",
      "\u001b[2m\u001b[36m(make_a_study pid=1995444)\u001b[0m \u001b[32m[I 2023-06-02 21:34:29,858]\u001b[0m Trial 24 finished with values: [0.6470588235294118, 0.3833480179309845] and parameters: {'seed': 7080, 'max_depth': 7, 'eta': 0.35112338989876424, 'subsample': 0.47388818902180785, 'lambda': 0.8583636634437207, 'alpha': 0.6413360783861216, 'scale_pos_weight': 4.429416986132421, 'kfold_splits': 4}. \u001b[0m\n",
      "\u001b[2m\u001b[36m(make_a_study pid=1995444)\u001b[0m \u001b[32m[I 2023-06-02 21:34:30,028]\u001b[0m Trial 30 finished with values: [0.8382352941176471, 0.04019051045179367] and parameters: {'seed': 7501, 'max_depth': 3, 'eta': 0.11721597536640498, 'subsample': 0.39272717703704874, 'lambda': 0.20232415062737874, 'alpha': 0.12653179778493517, 'scale_pos_weight': 2.4525195354702567, 'kfold_splits': 2}. \u001b[0m\n",
      "\u001b[2m\u001b[36m(make_a_study pid=1995444)\u001b[0m \u001b[32m[I 2023-06-02 21:34:30,207]\u001b[0m Trial 34 finished with values: [0.6274509803921569, 0.2673584520816803] and parameters: {'seed': 559, 'max_depth': 7, 'eta': 0.4884662363531191, 'subsample': 0.3294396058725606, 'lambda': 0.45062075188647566, 'alpha': 0.2076177581540981, 'scale_pos_weight': 3.6446667999671405, 'kfold_splits': 2}. \u001b[0m\n",
      "\u001b[2m\u001b[36m(make_a_study pid=1995444)\u001b[0m \u001b[32m[I 2023-06-02 21:34:30,338]\u001b[0m Trial 26 finished with values: [0.6470588235294118, 0.16625092923641205] and parameters: {'seed': 3696, 'max_depth': 3, 'eta': 0.3062207436895076, 'subsample': 0.3351774491022329, 'lambda': 0.5737081564998929, 'alpha': 0.6969452958402763, 'scale_pos_weight': 2.595241530931414, 'kfold_splits': 5}. \u001b[0m\n",
      "\u001b[2m\u001b[36m(make_a_study pid=1995454)\u001b[0m \u001b[32m[I 2023-06-02 21:34:33,958]\u001b[0m Trial 36 finished with values: [0.6911764705882353, 0.02517714537680149] and parameters: {'seed': 5012, 'max_depth': 7, 'eta': 0.49545862528488377, 'subsample': 0.42155348402226445, 'lambda': 0.03133327716197587, 'alpha': 0.5283597765725844, 'scale_pos_weight': 1.7678574984593602, 'kfold_splits': 3}. \u001b[0m\u001b[32m [repeated 21x across cluster]\u001b[0m\n",
      "\u001b[2m\u001b[36m(make_a_study pid=1995444)\u001b[0m \u001b[32m[I 2023-06-02 21:34:39,593]\u001b[0m Trial 33 finished with values: [0.676470588235294, 0.07671541720628738] and parameters: {'seed': 4711, 'max_depth': 4, 'eta': 0.08755666980371271, 'subsample': 0.30201226049564245, 'lambda': 0.10858999564581195, 'alpha': 0.9115613938610173, 'scale_pos_weight': 1.3911609570498795, 'kfold_splits': 4}. \u001b[0m\u001b[32m [repeated 7x across cluster]\u001b[0m\n",
      "\u001b[2m\u001b[36m(make_a_study pid=1995444)\u001b[0m \u001b[32m[I 2023-06-02 21:34:47,330]\u001b[0m Trial 38 finished with values: [0.6568627450980392, 0.0] and parameters: {'seed': 1071, 'max_depth': 5, 'eta': 0.37440904357583316, 'subsample': 0.14945452923716, 'lambda': 0.7123390082068023, 'alpha': 0.6521955033455112, 'scale_pos_weight': 3.387329341014467, 'kfold_splits': 3}. \u001b[0m\n",
      "\u001b[2m\u001b[36m(make_a_study pid=1995444)\u001b[0m \u001b[32m[I 2023-06-02 21:34:48,057]\u001b[0m Trial 17 finished with values: [0.676470588235294, 0.05136149004101753] and parameters: {'seed': 4971, 'max_depth': 7, 'eta': 0.0109841697035186, 'subsample': 0.30635562680609574, 'lambda': 0.24903079340493062, 'alpha': 0.34824552020983435, 'scale_pos_weight': 0.8601971333169817, 'kfold_splits': 4}. \u001b[0m\n",
      "\u001b[2m\u001b[36m(make_a_study pid=1995454)\u001b[0m \u001b[32m[I 2023-06-02 21:34:57,360]\u001b[0m Trial 41 finished with values: [0.803921568627451, 0.4870704412460327] and parameters: {'seed': 217, 'max_depth': 9, 'eta': 0.37124722430080226, 'subsample': 0.18411361531969198, 'lambda': 0.282085042383185, 'alpha': 0.4877344136973264, 'scale_pos_weight': 2.9649061506435546, 'kfold_splits': 2}. \u001b[0m\u001b[32m [repeated 4x across cluster]\u001b[0m\n"
     ]
    },
    {
     "name": "stdout",
     "output_type": "stream",
     "text": [
      "CPU times: user 6.47 s, sys: 5.78 s, total: 12.3 s\n",
      "Wall time: 4min 5s\n"
     ]
    }
   ],
   "source": [
    "%%time\n",
    "\n",
    "studies = make_multiple_studies(\n",
    "    ray_df_train, \n",
    "    features = features,\n",
    "    targets = [binary_target],\n",
    "    n_trials=50,\n",
    "    Independent_testset = True,\n",
    "    Independent_testset_df = ray_df_test\n",
    ")\n",
    "\n",
    "studies = ray.get(studies)"
   ]
  },
  {
   "cell_type": "code",
   "execution_count": 9,
   "metadata": {},
   "outputs": [],
   "source": [
    "with open('chile.pickle', 'wb') as handle:\n",
    "    pickle.dump(studies, handle, protocol=pickle.HIGHEST_PROTOCOL)    "
   ]
  }
 ],
 "metadata": {
  "kernelspec": {
   "display_name": "spark",
   "language": "python",
   "name": "python3"
  },
  "language_info": {
   "codemirror_mode": {
    "name": "ipython",
    "version": 3
   },
   "file_extension": ".py",
   "mimetype": "text/x-python",
   "name": "python",
   "nbconvert_exporter": "python",
   "pygments_lexer": "ipython3",
   "version": "3.10.11"
  },
  "orig_nbformat": 4
 },
 "nbformat": 4,
 "nbformat_minor": 2
}
