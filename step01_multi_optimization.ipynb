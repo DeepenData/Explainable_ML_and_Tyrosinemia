{
 "cells": [
  {
   "cell_type": "code",
   "execution_count": 1,
   "metadata": {},
   "outputs": [
    {
     "name": "stdout",
     "output_type": "stream",
     "text": [
      "Both CSV files have the same number of columns: 18\n",
      "Column names are the same.\n",
      "Column order is the same.\n",
      "All common columns have the same data types.\n",
      "23/06/02 11:20:14 WARN Utils: Your hostname, pop-os resolves to a loopback address: 127.0.1.1; using 100.64.221.100 instead (on interface tailscale0)\n",
      "23/06/02 11:20:14 WARN Utils: Set SPARK_LOCAL_IP if you need to bind to another address\n"
     ]
    },
    {
     "name": "stderr",
     "output_type": "stream",
     "text": [
      "Setting default log level to \"WARN\".\n",
      "To adjust logging level use sc.setLogLevel(newLevel). For SparkR, use setLogLevel(newLevel).\n"
     ]
    },
    {
     "name": "stdout",
     "output_type": "stream",
     "text": [
      "23/06/02 11:20:14 WARN NativeCodeLoader: Unable to load native-hadoop library for your platform... using builtin-java classes where applicable\n",
      "23/06/02 11:20:16 WARN package: Truncated the string representation of a plan since it was too large. This behavior can be adjusted by setting 'spark.sql.debug.maxToStringFields'.\n"
     ]
    },
    {
     "name": "stderr",
     "output_type": "stream",
     "text": [
      "2023-06-02 11:20:18,983\tINFO worker.py:1616 -- Started a local Ray instance. View the dashboard at \u001b[1m\u001b[32m127.0.0.1:8265 \u001b[39m\u001b[22m\n"
     ]
    }
   ],
   "source": [
    "import warnings\n",
    "warnings.filterwarnings(\"ignore\")\n",
    "from utils import *\n",
    "import pickle\n",
    "OPBG = [ 'age at diagnosis (months)',            \n",
    "            'ntbc dosis mg/kg/day',\n",
    "            'ntbc levels (dbs)',\n",
    "            'sca (urine)',\n",
    "            'methionine dbs',\n",
    "            'tyrosine dbs',\n",
    "            'phenylalanine dbs',\n",
    "            'methionine (plasma)',\n",
    "            'tyrosine (plasma)',\n",
    "            'phenylalanine (plasma)',\n",
    "            'inr',\n",
    "            'pt (sec)',\n",
    "            'bili total',\n",
    "            'gpt',\n",
    "            'got',\n",
    "            'ggt',\n",
    "            'alkaline phosphatase',\n",
    "            'alfa-fetoprotein']\n",
    "    \n",
    "df1 = pd.read_csv('data/tirosinemia.csv').loc[:,OPBG]\n",
    "df2 = pd.read_csv('data/tirosinemia_italia.csv').loc[:,OPBG]\n",
    "compare_dataframes(df1, df2)\n",
    "def extract_transform(path, keep_cols, cols_rows_with_missing_values, new_binary_target):\n",
    "    _ , spark_df = SparkDataProcessor().process_data(\n",
    "        data_csv_path= path,\n",
    "        )\n",
    "\n",
    "    return prepare_spark_df(\n",
    "        spark_df=spark_df,\n",
    "        keep_cols=keep_cols,\n",
    "        cols_rows_with_missing_values=cols_rows_with_missing_values,\n",
    "        new_binary_target = new_binary_target,\n",
    "    )\n",
    "\n",
    "binary_target = 'Alpha-Fet'\n",
    "df_train = extract_transform(\"data/tirosinemia.csv\", OPBG,  ['alfa-fetoprotein', 'sca (urine)', 'ntbc levels (dbs)'],binary_target)\n",
    "df_test  = extract_transform(\"data/tirosinemia_italia.csv\", OPBG,  ['alfa-fetoprotein', 'sca (urine)', 'ntbc levels (dbs)'],binary_target)\n",
    "ray_df_train = ray.put(df_train)\n",
    "ray_df_test  = ray.put(df_test)"
   ]
  },
  {
   "cell_type": "code",
   "execution_count": 2,
   "metadata": {},
   "outputs": [],
   "source": [
    "features : list[str] = df_train.columns.tolist()\n",
    "features.remove(binary_target)\n"
   ]
  },
  {
   "cell_type": "code",
   "execution_count": 3,
   "metadata": {},
   "outputs": [
    {
     "name": "stderr",
     "output_type": "stream",
     "text": [
      "\u001b[2m\u001b[36m(make_a_study pid=1616009)\u001b[0m \u001b[32m[I 2023-06-02 11:20:20,608]\u001b[0m A new study created in memory with name: sca (urine)\u001b[0m\n",
      "\u001b[2m\u001b[36m(make_a_study pid=1616016)\u001b[0m \u001b[32m[I 2023-06-02 11:20:20,574]\u001b[0m A new study created in memory with name: age at diagnosis (months)\u001b[0m\n",
      "\u001b[2m\u001b[36m(make_a_study pid=1616023)\u001b[0m \u001b[32m[I 2023-06-02 11:20:20,582]\u001b[0m A new study created in memory with name: ntbc levels (dbs)\u001b[0m\n",
      "\u001b[2m\u001b[36m(make_a_study pid=1616022)\u001b[0m \u001b[32m[I 2023-06-02 11:20:20,584]\u001b[0m A new study created in memory with name: ntbc dosis mg/kg/day\u001b[0m\n",
      "\u001b[2m\u001b[36m(make_a_study pid=1616023)\u001b[0m \u001b[32m[I 2023-06-02 11:20:32,410]\u001b[0m Trial 1 finished with values: [0.79375, 0.12852682173252106] and parameters: {'seed': 4173, 'max_depth': 5, 'eta': 0.23602726195626492, 'subsample': 0.1369889282268515, 'lambda': 0.9151556944186781, 'alpha': 0.7088340148607216, 'scale_pos_weight': 3.1402084523238996, 'kfold_splits': 2}. \u001b[0m\n",
      "\u001b[2m\u001b[36m(make_a_study pid=1616022)\u001b[0m \u001b[32m[I 2023-06-02 11:20:37,486]\u001b[0m Trial 1 finished with values: [0.6125, 0.04656529426574707] and parameters: {'seed': 2673, 'max_depth': 10, 'eta': 0.3663096177150623, 'subsample': 0.4883940151725058, 'lambda': 0.06626050214077595, 'alpha': 0.8113935294256752, 'scale_pos_weight': 2.169340596673987, 'kfold_splits': 4}. \u001b[0m\u001b[32m [repeated 11x across cluster] (Ray deduplicates logs by default. Set RAY_DEDUP_LOGS=0 to disable log deduplication, or see https://docs.ray.io/en/master/ray-observability/ray-logging.html#log-deduplication for more options.)\u001b[0m\n",
      "\u001b[2m\u001b[36m(make_a_study pid=1616009)\u001b[0m \u001b[32m[I 2023-06-02 11:20:37,983]\u001b[0m A new study created in memory with name: phenylalanine dbs\u001b[0m\n",
      "\u001b[2m\u001b[36m(make_a_study pid=1616016)\u001b[0m \u001b[32m[I 2023-06-02 11:20:37,955]\u001b[0m A new study created in memory with name: methionine dbs\u001b[0m\n",
      "\u001b[2m\u001b[36m(make_a_study pid=1616022)\u001b[0m \u001b[32m[I 2023-06-02 11:20:37,981]\u001b[0m A new study created in memory with name: tyrosine dbs\u001b[0m\n",
      "\u001b[2m\u001b[36m(make_a_study pid=1616022)\u001b[0m \u001b[32m[I 2023-06-02 11:20:49,443]\u001b[0m Trial 1 finished with values: [0.30000000000000004, 0.3219251036643982] and parameters: {'seed': 6938, 'max_depth': 6, 'eta': 0.39350014760244767, 'subsample': 0.384742102283544, 'lambda': 0.7906741949236952, 'alpha': 0.6999578465009466, 'scale_pos_weight': 2.3581324664535366, 'kfold_splits': 2}. \u001b[0m\u001b[32m [repeated 9x across cluster]\u001b[0m\n",
      "\u001b[2m\u001b[36m(make_a_study pid=1616023)\u001b[0m \u001b[32m[I 2023-06-02 11:20:49,443]\u001b[0m Trial 1 finished with values: [0.30000000000000004, 0.3219251036643982] and parameters: {'seed': 6938, 'max_depth': 6, 'eta': 0.39350014760244767, 'subsample': 0.384742102283544, 'lambda': 0.7906741949236952, 'alpha': 0.6999578465009466, 'scale_pos_weight': 2.3581324664535366, 'kfold_splits': 2}. \u001b[0m\n",
      "\u001b[2m\u001b[36m(make_a_study pid=1616016)\u001b[0m \u001b[32m[I 2023-06-02 11:20:55,390]\u001b[0m Trial 3 finished with values: [0.5125, 0.07002642750740051] and parameters: {'seed': 9282, 'max_depth': 9, 'eta': 0.21339312135707408, 'subsample': 0.14207978181426514, 'lambda': 0.27685334797798355, 'alpha': 0.6605654748318923, 'scale_pos_weight': 4.1419530164161245, 'kfold_splits': 2}. \u001b[0m\u001b[32m [repeated 6x across cluster]\u001b[0m\n",
      "\u001b[2m\u001b[36m(make_a_study pid=1616022)\u001b[0m \u001b[32m[I 2023-06-02 11:21:01,711]\u001b[0m Trial 0 finished with values: [0.66875, 0.0] and parameters: {'seed': 3008, 'max_depth': 5, 'eta': 0.2348999618717541, 'subsample': 0.3292127536156375, 'lambda': 0.6092996557907818, 'alpha': 0.3345558377308653, 'scale_pos_weight': 0.2065180340299455, 'kfold_splits': 3}. \u001b[0m\u001b[32m [repeated 2x across cluster]\u001b[0m\n",
      "\u001b[2m\u001b[36m(make_a_study pid=1616009)\u001b[0m \u001b[32m[I 2023-06-02 11:21:03,176]\u001b[0m A new study created in memory with name: phenylalanine (plasma)\u001b[0m\n",
      "\u001b[2m\u001b[36m(make_a_study pid=1616016)\u001b[0m \u001b[32m[I 2023-06-02 11:21:03,195]\u001b[0m A new study created in memory with name: inr\u001b[0m\n",
      "\u001b[2m\u001b[36m(make_a_study pid=1616022)\u001b[0m \u001b[32m[I 2023-06-02 11:21:03,149]\u001b[0m A new study created in memory with name: tyrosine (plasma)\u001b[0m\n",
      "\u001b[2m\u001b[36m(make_a_study pid=1616023)\u001b[0m \u001b[32m[I 2023-06-02 11:21:03,347]\u001b[0m A new study created in memory with name: pt (sec)\u001b[0m\n",
      "\u001b[2m\u001b[36m(make_a_study pid=1616016)\u001b[0m \u001b[32m[I 2023-06-02 11:21:15,954]\u001b[0m Trial 3 finished with values: [0.70625, 0.0] and parameters: {'seed': 8292, 'max_depth': 8, 'eta': 0.27635915743537076, 'subsample': 0.34328435603400964, 'lambda': 0.8515300102374124, 'alpha': 0.05961605152157612, 'scale_pos_weight': 0.4162530373850898, 'kfold_splits': 2}. \u001b[0m\u001b[32m [repeated 12x across cluster]\u001b[0m\n",
      "\u001b[2m\u001b[36m(make_a_study pid=1616023)\u001b[0m \u001b[32m[I 2023-06-02 11:21:32,699]\u001b[0m Trial 4 finished with values: [0.2875, 0.34624800086021423] and parameters: {'seed': 5790, 'max_depth': 3, 'eta': 0.21410693408291037, 'subsample': 0.13401335979666387, 'lambda': 0.4385331490189004, 'alpha': 0.10666624492967403, 'scale_pos_weight': 4.985518609985791, 'kfold_splits': 4}. \u001b[0m\u001b[32m [repeated 5x across cluster]\u001b[0m\n",
      "\u001b[2m\u001b[36m(make_a_study pid=1616016)\u001b[0m \u001b[32m[I 2023-06-02 11:21:43,508]\u001b[0m Trial 1 finished with values: [0.6, 0.14198751747608185] and parameters: {'seed': 1355, 'max_depth': 6, 'eta': 0.18831379745564955, 'subsample': 0.1675075729076067, 'lambda': 0.9928937477848038, 'alpha': 0.1119446370302325, 'scale_pos_weight': 3.952360547325888, 'kfold_splits': 4}. \u001b[0m\u001b[32m [repeated 3x across cluster]\u001b[0m\n",
      "\u001b[2m\u001b[36m(make_a_study pid=1616016)\u001b[0m \u001b[32m[I 2023-06-02 11:21:46,337]\u001b[0m A new study created in memory with name: bili total\u001b[0m\n",
      "\u001b[2m\u001b[36m(make_a_study pid=1616023)\u001b[0m \u001b[32m[I 2023-06-02 11:21:46,344]\u001b[0m A new study created in memory with name: gpt\u001b[0m\n",
      "\u001b[2m\u001b[36m(make_a_study pid=1616016)\u001b[0m \u001b[32m[I 2023-06-02 11:22:00,494]\u001b[0m Trial 2 finished with values: [0.3875, 0.2844699025154114] and parameters: {'seed': 8679, 'max_depth': 3, 'eta': 0.4509289721237614, 'subsample': 0.1889335643953358, 'lambda': 0.2599819124989806, 'alpha': 0.6296753740396046, 'scale_pos_weight': 3.0864948277726616, 'kfold_splits': 2}. \u001b[0m\u001b[32m [repeated 12x across cluster]\u001b[0m\n",
      "\u001b[2m\u001b[36m(make_a_study pid=1616022)\u001b[0m \u001b[32m[I 2023-06-02 11:21:46,372]\u001b[0m A new study created in memory with name: ggt\u001b[0m\u001b[32m [repeated 2x across cluster]\u001b[0m\n",
      "\u001b[2m\u001b[36m(make_a_study pid=1616022)\u001b[0m \u001b[32m[I 2023-06-02 11:22:06,591]\u001b[0m Trial 3 finished with values: [0.5874999999999999, 0.15253505110740662] and parameters: {'seed': 1617, 'max_depth': 6, 'eta': 0.11242582206134172, 'subsample': 0.14274568237472943, 'lambda': 0.5584050571596507, 'alpha': 0.2747502324023654, 'scale_pos_weight': 3.0663351813918327, 'kfold_splits': 2}. \u001b[0m\u001b[32m [repeated 5x across cluster]\u001b[0m\n",
      "\u001b[2m\u001b[36m(make_a_study pid=1616009)\u001b[0m \u001b[32m[I 2023-06-02 11:22:10,793]\u001b[0m A new study created in memory with name: alkaline phosphatase\u001b[0m\n",
      "\u001b[2m\u001b[36m(make_a_study pid=1616009)\u001b[0m \u001b[32m[I 2023-06-02 11:22:49,675]\u001b[0m Trial 4 finished with values: [0.71875, 0.1805456578731537] and parameters: {'seed': 5401, 'max_depth': 7, 'eta': 0.1933639419782055, 'subsample': 0.3939106150557268, 'lambda': 0.10450908695105543, 'alpha': 0.49251221561649017, 'scale_pos_weight': 1.653862194739875, 'kfold_splits': 2}. \u001b[0m\u001b[32m [repeated 15x across cluster]\u001b[0m\n"
     ]
    },
    {
     "name": "stdout",
     "output_type": "stream",
     "text": [
      "CPU times: user 2.83 s, sys: 2.77 s, total: 5.59 s\n",
      "Wall time: 2min 30s\n"
     ]
    }
   ],
   "source": [
    "%%time\n",
    "\n",
    "studies = make_multiple_studies(\n",
    "    ray_df_train, \n",
    "    features = features,\n",
    "    targets = [binary_target],\n",
    "    n_trials=5,\n",
    "    Independent_testset = True,\n",
    "    Independent_testset_df = ray_df_test\n",
    ")\n",
    "\n",
    "studies = ray.get(studies)"
   ]
  },
  {
   "cell_type": "code",
   "execution_count": 5,
   "metadata": {},
   "outputs": [],
   "source": [
    "with open('studies_independent_testset.pickle', 'wb') as handle:\n",
    "    pickle.dump(studies, handle, protocol=pickle.HIGHEST_PROTOCOL)    "
   ]
  }
 ],
 "metadata": {
  "kernelspec": {
   "display_name": "spark",
   "language": "python",
   "name": "python3"
  },
  "language_info": {
   "codemirror_mode": {
    "name": "ipython",
    "version": 3
   },
   "file_extension": ".py",
   "mimetype": "text/x-python",
   "name": "python",
   "nbconvert_exporter": "python",
   "pygments_lexer": "ipython3",
   "version": "3.10.11"
  },
  "orig_nbformat": 4
 },
 "nbformat": 4,
 "nbformat_minor": 2
}
