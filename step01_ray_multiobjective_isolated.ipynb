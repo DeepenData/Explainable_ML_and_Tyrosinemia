{
 "cells": [
  {
   "cell_type": "code",
   "execution_count": 1,
   "metadata": {},
   "outputs": [
    {
     "name": "stderr",
     "output_type": "stream",
     "text": [
      "2023-06-07 18:00:52,191\tINFO worker.py:1616 -- Started a local Ray instance. View the dashboard at \u001b[1m\u001b[32m127.0.0.1:8265 \u001b[39m\u001b[22m\n"
     ]
    }
   ],
   "source": [
    "from hpc_utils import * \n",
    "ray.shutdown()\n",
    "\n",
    "df_train = pd.read_parquet(\"data/train.parquet.gzip\")\n",
    "df_test  = pd.read_parquet(\"data/test.parquet.gzip\")\n",
    "\n",
    "ray_df_train = ray.put(df_train)\n",
    "ray_df_test  = ray.put(df_test)"
   ]
  },
  {
   "cell_type": "code",
   "execution_count": 2,
   "metadata": {},
   "outputs": [],
   "source": [
    "binary_target = 'Alpha-Fet'\n",
    "features : list[str] = df_train.columns.tolist()\n",
    "features.remove(binary_target)\n"
   ]
  },
  {
   "cell_type": "code",
   "execution_count": null,
   "metadata": {},
   "outputs": [
    {
     "name": "stderr",
     "output_type": "stream",
     "text": [
      "\u001b[2m\u001b[36m(make_a_study pid=2216511)\u001b[0m \u001b[32m[I 2023-06-07 18:02:07,977]\u001b[0m Trial 9 finished with values: [0.8787878787878789, 0.044583696871995926] and parameters: {'seed': 6032, 'max_depth': 2, 'eta': 0.05546957172402198, 'subsample': 0.29393205459570615, 'lambda': 0.5881870686800476, 'alpha': 0.33948458290237904, 'scale_pos_weight': 2.2921123814198987, 'kfold_splits': 3}. \u001b[0m\u001b[32m [repeated 69x across cluster]\u001b[0m\n",
      "\u001b[2m\u001b[36m(make_a_study pid=2216504)\u001b[0m \u001b[32m[I 2023-06-07 18:02:16,146]\u001b[0m Trial 17 finished with values: [0.8055555555555556, 0.0041690063662827015] and parameters: {'seed': 8589, 'max_depth': 4, 'eta': 0.03985163433676527, 'subsample': 0.47908196962101435, 'lambda': 0.1735938067079954, 'alpha': 0.6776023356177195, 'scale_pos_weight': 4.112815230192243, 'kfold_splits': 5}. \u001b[0m\u001b[32m [repeated 4x across cluster]\u001b[0m\n",
      "\u001b[2m\u001b[36m(make_a_study pid=2216504)\u001b[0m \u001b[32m[I 2023-06-07 18:02:21,170]\u001b[0m Trial 26 finished with values: [0.8914141414141414, 0.02722729742527008] and parameters: {'seed': 1070, 'max_depth': 10, 'eta': 0.30520237946164014, 'subsample': 0.2968106522475008, 'lambda': 0.4257325655566583, 'alpha': 0.424672807371813, 'scale_pos_weight': 4.77980159976203, 'kfold_splits': 5}. \u001b[0m\u001b[32m [repeated 42x across cluster]\u001b[0m\n",
      "\u001b[2m\u001b[36m(make_a_study pid=2216516)\u001b[0m \u001b[32m[I 2023-06-07 18:02:26,666]\u001b[0m Trial 12 finished with values: [0.8762626262626263, 0.015924792736768723] and parameters: {'seed': 5515, 'max_depth': 10, 'eta': 0.01289733136607054, 'subsample': 0.10350382703772124, 'lambda': 0.0009752187882174912, 'alpha': 0.7622192229417795, 'scale_pos_weight': 0.9234262541658894, 'kfold_splits': 5}. \u001b[0m\u001b[32m [repeated 35x across cluster]\u001b[0m\n",
      "\u001b[2m\u001b[36m(make_a_study pid=2216510)\u001b[0m \u001b[32m[I 2023-06-07 18:02:29,875]\u001b[0m A new study created in memory with name: bili total (Alpha-Fet)\u001b[0m\n",
      "\u001b[2m\u001b[36m(make_a_study pid=2216516)\u001b[0m \u001b[32m[I 2023-06-07 18:02:30,325]\u001b[0m A new study created in memory with name: gpt (Alpha-Fet)\u001b[0m\n",
      "\u001b[2m\u001b[36m(make_a_study pid=2216511)\u001b[0m \u001b[32m[I 2023-06-07 18:02:31,090]\u001b[0m A new study created in memory with name: got (Alpha-Fet)\u001b[0m\n",
      "\u001b[2m\u001b[36m(make_a_study pid=2216504)\u001b[0m \u001b[32m[I 2023-06-07 18:02:31,615]\u001b[0m A new study created in memory with name: ggt (Alpha-Fet)\u001b[0m\n"
     ]
    }
   ],
   "source": [
    "%%time\n",
    "\n",
    "studies = make_multiple_studies(\n",
    "    ray_df_train, \n",
    "    features = features,\n",
    "    targets = [binary_target],\n",
    "    n_trials=50,\n",
    "    Independent_testset = False,\n",
    "    Independent_testset_df = ray_df_test\n",
    ")\n",
    "\n",
    "studies = ray.get(studies)"
   ]
  }
 ],
 "metadata": {
  "kernelspec": {
   "display_name": "playground",
   "language": "python",
   "name": "python3"
  },
  "language_info": {
   "codemirror_mode": {
    "name": "ipython",
    "version": 3
   },
   "file_extension": ".py",
   "mimetype": "text/x-python",
   "name": "python",
   "nbconvert_exporter": "python",
   "pygments_lexer": "ipython3",
   "version": "3.10.11"
  },
  "orig_nbformat": 4
 },
 "nbformat": 4,
 "nbformat_minor": 2
}
