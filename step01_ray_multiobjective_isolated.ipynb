{
 "cells": [
  {
   "cell_type": "code",
   "execution_count": 1,
   "metadata": {},
   "outputs": [
    {
     "name": "stderr",
     "output_type": "stream",
     "text": [
      "2023-06-08 20:29:37,491\tINFO worker.py:1616 -- Started a local Ray instance. View the dashboard at \u001b[1m\u001b[32m127.0.0.1:8265 \u001b[39m\u001b[22m\n",
      "\u001b[2m\u001b[36m(make_a_study pid=927385)\u001b[0m \u001b[32m[I 2023-06-08 20:29:39,082]\u001b[0m A new study created in memory with name: suac (Alpha-Fet)\u001b[0m\n",
      "\u001b[2m\u001b[36m(make_a_study pid=927390)\u001b[0m \u001b[32m[I 2023-06-08 20:29:39,083]\u001b[0m A new study created in memory with name: age at diagnosis (months) (Alpha-Fet)\u001b[0m\n",
      "\u001b[2m\u001b[36m(make_a_study pid=927392)\u001b[0m \u001b[32m[I 2023-06-08 20:29:39,075]\u001b[0m A new study created in memory with name: ntbc levels (dbs) (Alpha-Fet)\u001b[0m\n",
      "\u001b[2m\u001b[36m(make_a_study pid=927378)\u001b[0m \u001b[32m[I 2023-06-08 20:29:39,092]\u001b[0m A new study created in memory with name: ntbc dosis mg/kg/day (Alpha-Fet)\u001b[0m\n",
      "\u001b[2m\u001b[36m(make_a_study pid=927378)\u001b[0m \u001b[32m[I 2023-06-08 20:29:54,663]\u001b[0m Trial 3 finished with values: [0.8267045454545454, 0.034453608095645905] and parameters: {'seed': 2756, 'max_depth': 4, 'eta': 0.28657672275176427, 'subsample': 0.2815268736977331, 'lambda': 0.5551142106419572, 'alpha': 0.19001923346476357, 'scale_pos_weight': 0.4607955853068524, 'kfold_splits': 2}. \u001b[0m\n",
      "\u001b[2m\u001b[36m(make_a_study pid=927390)\u001b[0m \u001b[32m[I 2023-06-08 20:29:59,802]\u001b[0m Trial 11 finished with values: [0.6789772727272726, 0.09376512467861176] and parameters: {'seed': 5682, 'max_depth': 3, 'eta': 0.20728264621502335, 'subsample': 0.2294868418975411, 'lambda': 0.3021287241233809, 'alpha': 0.49193806098216863, 'scale_pos_weight': 2.901502104340294, 'kfold_splits': 5}. \u001b[0m\u001b[32m [repeated 74x across cluster] (Ray deduplicates logs by default. Set RAY_DEDUP_LOGS=0 to disable log deduplication, or see https://docs.ray.io/en/master/ray-observability/ray-logging.html#log-deduplication for more options.)\u001b[0m\n",
      "\u001b[2m\u001b[36m(make_a_study pid=927378)\u001b[0m \u001b[32m[I 2023-06-08 20:30:08,011]\u001b[0m Trial 1 finished with values: [0.7329545454545454, 0.017569757997989655] and parameters: {'seed': 3339, 'max_depth': 6, 'eta': 0.03022868833621728, 'subsample': 0.18246727382691327, 'lambda': 0.6611524762572933, 'alpha': 0.49296319238032593, 'scale_pos_weight': 1.1658786443304607, 'kfold_splits': 3}. \u001b[0m\u001b[32m [repeated 3x across cluster]\u001b[0m\n",
      "\u001b[2m\u001b[36m(make_a_study pid=927390)\u001b[0m \u001b[32m[I 2023-06-08 20:30:13,180]\u001b[0m Trial 35 finished with values: [0.6875, 0.022259563207626343] and parameters: {'seed': 942, 'max_depth': 8, 'eta': 0.45441523910545734, 'subsample': 0.2834072430819161, 'lambda': 0.9970739496182991, 'alpha': 0.5744943736171431, 'scale_pos_weight': 0.6500545099011162, 'kfold_splits': 2}. \u001b[0m\u001b[32m [repeated 38x across cluster]\u001b[0m\n"
     ]
    },
    {
     "ename": "KeyboardInterrupt",
     "evalue": "",
     "output_type": "error",
     "traceback": [
      "\u001b[0;31m---------------------------------------------------------------------------\u001b[0m",
      "\u001b[0;31mKeyboardInterrupt\u001b[0m                         Traceback (most recent call last)",
      "Cell \u001b[0;32mIn[1], line 44\u001b[0m\n\u001b[1;32m     38\u001b[0m         pickle\u001b[39m.\u001b[39mdump(S, handle, protocol\u001b[39m=\u001b[39mpickle\u001b[39m.\u001b[39mHIGHEST_PROTOCOL)  \n\u001b[1;32m     40\u001b[0m     ray\u001b[39m.\u001b[39mshutdown()\n\u001b[0;32m---> 44\u001b[0m launch_to_ray(df_train \u001b[39m=\u001b[39;49m df_chile , binary_target\u001b[39m=\u001b[39;49m binary_target, save_to \u001b[39m=\u001b[39;49m \u001b[39m\"\u001b[39;49m\u001b[39mstudies_1k_chile\u001b[39;49m\u001b[39m\"\u001b[39;49m, n_trials \u001b[39m=\u001b[39;49m \u001b[39m1000\u001b[39;49m, Independent_testset \u001b[39m=\u001b[39;49m \u001b[39mFalse\u001b[39;49;00m)\n\u001b[1;32m     45\u001b[0m launch_to_ray(df_train \u001b[39m=\u001b[39m df_chile , binary_target\u001b[39m=\u001b[39m binary_target, save_to \u001b[39m=\u001b[39m \u001b[39m\"\u001b[39m\u001b[39mstudies_1k_rome\u001b[39m\u001b[39m\"\u001b[39m, n_trials \u001b[39m=\u001b[39m  \u001b[39m1000\u001b[39m, Independent_testset \u001b[39m=\u001b[39m \u001b[39mTrue\u001b[39;00m, df_test \u001b[39m=\u001b[39m df_rome)\n\u001b[1;32m     46\u001b[0m launch_to_ray(df_train \u001b[39m=\u001b[39m df_chile , binary_target\u001b[39m=\u001b[39m binary_target,save_to\u001b[39m=\u001b[39m \u001b[39m\"\u001b[39m\u001b[39mstudies_1k_flor\u001b[39m\u001b[39m\"\u001b[39m , n_trials \u001b[39m=\u001b[39m   \u001b[39m1000\u001b[39m,Independent_testset \u001b[39m=\u001b[39m \u001b[39mTrue\u001b[39;00m, df_test \u001b[39m=\u001b[39m df_flor)\n",
      "Cell \u001b[0;32mIn[1], line 36\u001b[0m, in \u001b[0;36mlaunch_to_ray\u001b[0;34m(df_train, binary_target, save_to, n_trials, Independent_testset, df_test)\u001b[0m\n\u001b[1;32m     25\u001b[0m \u001b[39m#return ray_df_train, ray_df_test, features\u001b[39;00m\n\u001b[1;32m     27\u001b[0m studies \u001b[39m=\u001b[39m make_multiple_studies(\n\u001b[1;32m     28\u001b[0m     ray_df_train, \n\u001b[1;32m     29\u001b[0m     features \u001b[39m=\u001b[39m features,\n\u001b[0;32m   (...)\u001b[0m\n\u001b[1;32m     33\u001b[0m     Independent_testset_df \u001b[39m=\u001b[39m ray_df_test\n\u001b[1;32m     34\u001b[0m )\n\u001b[0;32m---> 36\u001b[0m S \u001b[39m=\u001b[39m ray\u001b[39m.\u001b[39;49mget(studies)\n\u001b[1;32m     37\u001b[0m \u001b[39mwith\u001b[39;00m \u001b[39mopen\u001b[39m(save_to \u001b[39m+\u001b[39m \u001b[39m'\u001b[39m\u001b[39m.pickle\u001b[39m\u001b[39m'\u001b[39m, \u001b[39m'\u001b[39m\u001b[39mwb\u001b[39m\u001b[39m'\u001b[39m) \u001b[39mas\u001b[39;00m handle:\n\u001b[1;32m     38\u001b[0m     pickle\u001b[39m.\u001b[39mdump(S, handle, protocol\u001b[39m=\u001b[39mpickle\u001b[39m.\u001b[39mHIGHEST_PROTOCOL)  \n",
      "File \u001b[0;32m/DeepenData/.miniconda/envs/spark/lib/python3.10/site-packages/ray/_private/client_mode_hook.py:105\u001b[0m, in \u001b[0;36mclient_mode_hook.<locals>.wrapper\u001b[0;34m(*args, **kwargs)\u001b[0m\n\u001b[1;32m    103\u001b[0m     \u001b[39mif\u001b[39;00m func\u001b[39m.\u001b[39m\u001b[39m__name__\u001b[39m \u001b[39m!=\u001b[39m \u001b[39m\"\u001b[39m\u001b[39minit\u001b[39m\u001b[39m\"\u001b[39m \u001b[39mor\u001b[39;00m is_client_mode_enabled_by_default:\n\u001b[1;32m    104\u001b[0m         \u001b[39mreturn\u001b[39;00m \u001b[39mgetattr\u001b[39m(ray, func\u001b[39m.\u001b[39m\u001b[39m__name__\u001b[39m)(\u001b[39m*\u001b[39margs, \u001b[39m*\u001b[39m\u001b[39m*\u001b[39mkwargs)\n\u001b[0;32m--> 105\u001b[0m \u001b[39mreturn\u001b[39;00m func(\u001b[39m*\u001b[39;49margs, \u001b[39m*\u001b[39;49m\u001b[39m*\u001b[39;49mkwargs)\n",
      "File \u001b[0;32m/DeepenData/.miniconda/envs/spark/lib/python3.10/site-packages/ray/_private/worker.py:2515\u001b[0m, in \u001b[0;36mget\u001b[0;34m(object_refs, timeout)\u001b[0m\n\u001b[1;32m   2510\u001b[0m     \u001b[39mraise\u001b[39;00m \u001b[39mValueError\u001b[39;00m(\n\u001b[1;32m   2511\u001b[0m         \u001b[39m\"\u001b[39m\u001b[39m'\u001b[39m\u001b[39mobject_refs\u001b[39m\u001b[39m'\u001b[39m\u001b[39m must either be an ObjectRef or a list of ObjectRefs.\u001b[39m\u001b[39m\"\u001b[39m\n\u001b[1;32m   2512\u001b[0m     )\n\u001b[1;32m   2514\u001b[0m \u001b[39m# TODO(ujvl): Consider how to allow user to retrieve the ready objects.\u001b[39;00m\n\u001b[0;32m-> 2515\u001b[0m values, debugger_breakpoint \u001b[39m=\u001b[39m worker\u001b[39m.\u001b[39;49mget_objects(object_refs, timeout\u001b[39m=\u001b[39;49mtimeout)\n\u001b[1;32m   2516\u001b[0m \u001b[39mfor\u001b[39;00m i, value \u001b[39min\u001b[39;00m \u001b[39menumerate\u001b[39m(values):\n\u001b[1;32m   2517\u001b[0m     \u001b[39mif\u001b[39;00m \u001b[39misinstance\u001b[39m(value, RayError):\n",
      "File \u001b[0;32m/DeepenData/.miniconda/envs/spark/lib/python3.10/site-packages/ray/_private/worker.py:742\u001b[0m, in \u001b[0;36mWorker.get_objects\u001b[0;34m(self, object_refs, timeout)\u001b[0m\n\u001b[1;32m    736\u001b[0m         \u001b[39mraise\u001b[39;00m \u001b[39mTypeError\u001b[39;00m(\n\u001b[1;32m    737\u001b[0m             \u001b[39mf\u001b[39m\u001b[39m\"\u001b[39m\u001b[39mAttempting to call `get` on the value \u001b[39m\u001b[39m{\u001b[39;00mobject_ref\u001b[39m}\u001b[39;00m\u001b[39m, \u001b[39m\u001b[39m\"\u001b[39m\n\u001b[1;32m    738\u001b[0m             \u001b[39m\"\u001b[39m\u001b[39mwhich is not an ray.ObjectRef.\u001b[39m\u001b[39m\"\u001b[39m\n\u001b[1;32m    739\u001b[0m         )\n\u001b[1;32m    741\u001b[0m timeout_ms \u001b[39m=\u001b[39m \u001b[39mint\u001b[39m(timeout \u001b[39m*\u001b[39m \u001b[39m1000\u001b[39m) \u001b[39mif\u001b[39;00m timeout \u001b[39melse\u001b[39;00m \u001b[39m-\u001b[39m\u001b[39m1\u001b[39m\n\u001b[0;32m--> 742\u001b[0m data_metadata_pairs \u001b[39m=\u001b[39m \u001b[39mself\u001b[39;49m\u001b[39m.\u001b[39;49mcore_worker\u001b[39m.\u001b[39;49mget_objects(\n\u001b[1;32m    743\u001b[0m     object_refs, \u001b[39mself\u001b[39;49m\u001b[39m.\u001b[39;49mcurrent_task_id, timeout_ms\n\u001b[1;32m    744\u001b[0m )\n\u001b[1;32m    745\u001b[0m debugger_breakpoint \u001b[39m=\u001b[39m \u001b[39mb\u001b[39m\u001b[39m\"\u001b[39m\u001b[39m\"\u001b[39m\n\u001b[1;32m    746\u001b[0m \u001b[39mfor\u001b[39;00m (data, metadata) \u001b[39min\u001b[39;00m data_metadata_pairs:\n",
      "File \u001b[0;32mpython/ray/_raylet.pyx:1664\u001b[0m, in \u001b[0;36mray._raylet.CoreWorker.get_objects\u001b[0;34m()\u001b[0m\n",
      "File \u001b[0;32mpython/ray/_raylet.pyx:201\u001b[0m, in \u001b[0;36mray._raylet.check_status\u001b[0;34m()\u001b[0m\n",
      "\u001b[0;31mKeyboardInterrupt\u001b[0m: "
     ]
    },
    {
     "name": "stderr",
     "output_type": "stream",
     "text": [
      "\u001b[2m\u001b[36m(make_a_study pid=927392)\u001b[0m \u001b[32m[I 2023-06-08 20:30:18,298]\u001b[0m Trial 30 finished with values: [0.8948863636363636, 0.007245856337249279] and parameters: {'seed': 7448, 'max_depth': 3, 'eta': 0.09142054530515994, 'subsample': 0.282127574569365, 'lambda': 0.4718810535573472, 'alpha': 0.43861649931910973, 'scale_pos_weight': 3.998438774504325, 'kfold_splits': 5}. \u001b[0m\u001b[32m [repeated 34x across cluster]\u001b[0m\n"
     ]
    }
   ],
   "source": [
    "from hpc_utils import * \n",
    "import pickle\n",
    "\n",
    "\n",
    "df_chile = pd.read_parquet(\"data/df_chile.parquet.gzip\")\n",
    "df_rome  = pd.read_parquet(\"data/df_rome.parquet.gzip\")\n",
    "df_flor  = pd.read_parquet(\"data/df_flor.parquet.gzip\")\n",
    "df_italy = pd.read_parquet(\"data/df_italy.parquet.gzip\")\n",
    "\n",
    "\n",
    "binary_target= 'Alpha-Fet'\n",
    "\n",
    "\n",
    "def launch_to_ray(df_train,binary_target, save_to ,n_trials=50 ,Independent_testset = None, df_test = None):\n",
    "    ray.shutdown()\n",
    "\n",
    "    ray_df_train = ray.put(df_train)\n",
    "    ray_df_test  = ray.put(df_test)\n",
    "    features : list[str] = df_train.columns.tolist()\n",
    "    features.remove(binary_target)\n",
    "    #return ray_df_train, ray_df_test, features\n",
    "    \n",
    "    studies = make_multiple_studies(\n",
    "        ray_df_train, \n",
    "        features = features,\n",
    "        targets = [binary_target],\n",
    "        n_trials=n_trials,\n",
    "        Independent_testset = Independent_testset,\n",
    "        Independent_testset_df = ray_df_test\n",
    "    )\n",
    "\n",
    "    S = ray.get(studies)\n",
    "    with open(save_to + '.pickle', 'wb') as handle:\n",
    "        pickle.dump(S, handle, protocol=pickle.HIGHEST_PROTOCOL)  \n",
    "    \n",
    "    ray.shutdown()\n",
    "\n",
    "\n",
    "\n",
    "launch_to_ray(df_train = df_chile , binary_target= binary_target, save_to = \"studies_1k_chile\", n_trials = 3, Independent_testset = False)\n",
    "launch_to_ray(df_train = df_chile , binary_target= binary_target, save_to = \"studies_1k_rome\", n_trials =  3, Independent_testset = True, df_test = df_rome)\n",
    "launch_to_ray(df_train = df_chile , binary_target= binary_target,save_to= \"studies_1k_flor\" , n_trials =   3,Independent_testset = True, df_test = df_flor)\n",
    "launch_to_ray(df_train = df_chile , binary_target= binary_target,save_to= \"studies_1k_italy\" , n_trials =  3,Independent_testset = True, df_test = df_italy)"
   ]
  },
  {
   "cell_type": "code",
   "execution_count": null,
   "metadata": {},
   "outputs": [],
   "source": [
    "# %%time\n",
    "\n",
    "# studies = make_multiple_studies(\n",
    "#     ray_df_train, \n",
    "#     features = features,\n",
    "#     targets = [binary_target],\n",
    "#     n_trials=50,\n",
    "#     Independent_testset = False,\n",
    "#     Independent_testset_df = ray_df_test\n",
    "# )\n",
    "\n",
    "# studies = ray.get(studies)"
   ]
  }
 ],
 "metadata": {
  "kernelspec": {
   "display_name": "playground",
   "language": "python",
   "name": "python3"
  },
  "language_info": {
   "codemirror_mode": {
    "name": "ipython",
    "version": 3
   },
   "file_extension": ".py",
   "mimetype": "text/x-python",
   "name": "python",
   "nbconvert_exporter": "python",
   "pygments_lexer": "ipython3",
   "version": "3.10.11"
  },
  "orig_nbformat": 4
 },
 "nbformat": 4,
 "nbformat_minor": 2
}
